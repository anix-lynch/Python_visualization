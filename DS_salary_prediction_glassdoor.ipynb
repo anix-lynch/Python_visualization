{
  "metadata": {
    "kernelspec": {
      "language": "python",
      "display_name": "Python 3",
      "name": "python3"
    },
    "language_info": {
      "name": "python",
      "version": "3.10.13",
      "mimetype": "text/x-python",
      "codemirror_mode": {
        "name": "ipython",
        "version": 3
      },
      "pygments_lexer": "ipython3",
      "nbconvert_exporter": "python",
      "file_extension": ".py"
    },
    "kaggle": {
      "accelerator": "nvidiaTeslaT4",
      "dataSources": [
        {
          "sourceId": 2835033,
          "sourceType": "datasetVersion",
          "datasetId": 1723186
        }
      ],
      "dockerImageVersionId": 30746,
      "isInternetEnabled": true,
      "language": "python",
      "sourceType": "notebook",
      "isGpuEnabled": true
    },
    "colab": {
      "name": "DS-salary-prediction-glassdoor.ipynb",
      "provenance": [],
      "include_colab_link": true
    }
  },
  "nbformat_minor": 0,
  "nbformat": 4,
  "cells": [
    {
      "cell_type": "markdown",
      "metadata": {
        "id": "view-in-github",
        "colab_type": "text"
      },
      "source": [
        "<a href=\"https://colab.research.google.com/github/anix-lynch/Python_visualization/blob/main/DS_salary_prediction_glassdoor.ipynb\" target=\"_parent\"><img src=\"https://colab.research.google.com/assets/colab-badge.svg\" alt=\"Open In Colab\"/></a>"
      ]
    },
    {
      "source": [
        "\n",
        "# IMPORTANT: RUN THIS CELL IN ORDER TO IMPORT YOUR KAGGLE DATA SOURCES\n",
        "# TO THE CORRECT LOCATION (/kaggle/input) IN YOUR NOTEBOOK,\n",
        "# THEN FEEL FREE TO DELETE THIS CELL.\n",
        "# NOTE: THIS NOTEBOOK ENVIRONMENT DIFFERS FROM KAGGLE'S PYTHON\n",
        "# ENVIRONMENT SO THERE MAY BE MISSING LIBRARIES USED BY YOUR\n",
        "# NOTEBOOK.\n",
        "\n",
        "import os\n",
        "import sys\n",
        "from tempfile import NamedTemporaryFile\n",
        "from urllib.request import urlopen\n",
        "from urllib.parse import unquote, urlparse\n",
        "from urllib.error import HTTPError\n",
        "from zipfile import ZipFile\n",
        "import tarfile\n",
        "import shutil\n",
        "\n",
        "CHUNK_SIZE = 40960\n",
        "DATA_SOURCE_MAPPING = 'data-science-jobs-salaries:https%3A%2F%2Fstorage.googleapis.com%2Fkaggle-data-sets%2F1723186%2F2835033%2Fbundle%2Farchive.zip%3FX-Goog-Algorithm%3DGOOG4-RSA-SHA256%26X-Goog-Credential%3Dgcp-kaggle-com%2540kaggle-161607.iam.gserviceaccount.com%252F20240714%252Fauto%252Fstorage%252Fgoog4_request%26X-Goog-Date%3D20240714T145355Z%26X-Goog-Expires%3D259200%26X-Goog-SignedHeaders%3Dhost%26X-Goog-Signature%3D3e93cf5019921890d9b346d15e1675d98fe08bbe0b7a37494e2a5646703351474253d6ea22fe42d97913626ca7fb145aef5fa7fd6d83339ae09ed4b7a1b56346b7402da14e800465881ad2000cfba8981c2c1bfde9924b01a2247c5deb4bb0fe8703403c7945019e78b20ea4f92b86004ead5a74e5eb39662ae8a1e9aac4cbf2d75b0de455eea3b035f7670f60b940c9ae2516b376a0db13258b0972b00c7966fd6294d74c947631f5cde88f6794c0dcaf91ebc4ed1da9a28ce44df7b27e8ea33cf97b8fd0f20988a57f34ef33cf1dbd818b3fcc6e7d1db8176a94f22baa171aaa9d5732c8e5ca4e45461be2e5a23e7a893158233382058797c90af5f51d7352'\n",
        "\n",
        "KAGGLE_INPUT_PATH='/kaggle/input'\n",
        "KAGGLE_WORKING_PATH='/kaggle/working'\n",
        "KAGGLE_SYMLINK='kaggle'\n",
        "\n",
        "!umount /kaggle/input/ 2> /dev/null\n",
        "shutil.rmtree('/kaggle/input', ignore_errors=True)\n",
        "os.makedirs(KAGGLE_INPUT_PATH, 0o777, exist_ok=True)\n",
        "os.makedirs(KAGGLE_WORKING_PATH, 0o777, exist_ok=True)\n",
        "\n",
        "try:\n",
        "  os.symlink(KAGGLE_INPUT_PATH, os.path.join(\"..\", 'input'), target_is_directory=True)\n",
        "except FileExistsError:\n",
        "  pass\n",
        "try:\n",
        "  os.symlink(KAGGLE_WORKING_PATH, os.path.join(\"..\", 'working'), target_is_directory=True)\n",
        "except FileExistsError:\n",
        "  pass\n",
        "\n",
        "for data_source_mapping in DATA_SOURCE_MAPPING.split(','):\n",
        "    directory, download_url_encoded = data_source_mapping.split(':')\n",
        "    download_url = unquote(download_url_encoded)\n",
        "    filename = urlparse(download_url).path\n",
        "    destination_path = os.path.join(KAGGLE_INPUT_PATH, directory)\n",
        "    try:\n",
        "        with urlopen(download_url) as fileres, NamedTemporaryFile() as tfile:\n",
        "            total_length = fileres.headers['content-length']\n",
        "            print(f'Downloading {directory}, {total_length} bytes compressed')\n",
        "            dl = 0\n",
        "            data = fileres.read(CHUNK_SIZE)\n",
        "            while len(data) > 0:\n",
        "                dl += len(data)\n",
        "                tfile.write(data)\n",
        "                done = int(50 * dl / int(total_length))\n",
        "                sys.stdout.write(f\"\\r[{'=' * done}{' ' * (50-done)}] {dl} bytes downloaded\")\n",
        "                sys.stdout.flush()\n",
        "                data = fileres.read(CHUNK_SIZE)\n",
        "            if filename.endswith('.zip'):\n",
        "              with ZipFile(tfile) as zfile:\n",
        "                zfile.extractall(destination_path)\n",
        "            else:\n",
        "              with tarfile.open(tfile.name) as tarfile:\n",
        "                tarfile.extractall(destination_path)\n",
        "            print(f'\\nDownloaded and uncompressed: {directory}')\n",
        "    except HTTPError as e:\n",
        "        print(f'Failed to load (likely expired) {download_url} to path {destination_path}')\n",
        "        continue\n",
        "    except OSError as e:\n",
        "        print(f'Failed to load {download_url} to path {destination_path}')\n",
        "        continue\n",
        "\n",
        "print('Data source import complete.')\n"
      ],
      "metadata": {
        "id": "Ggh42HhhvH_N"
      },
      "cell_type": "code",
      "outputs": [],
      "execution_count": null
    },
    {
      "cell_type": "code",
      "source": [
        "# This Python 3 environment comes with many helpful analytics libraries installed\n",
        "# It is defined by the kaggle/python Docker image: https://github.com/kaggle/docker-python\n",
        "# For example, here's several helpful packages to load\n",
        "\n",
        "import numpy as np # linear algebra\n",
        "import pandas as pd # data processing, CSV file I/O (e.g. pd.read_csv)\n",
        "\n",
        "# Input data files are available in the read-only \"../input/\" directory\n",
        "# For example, running this (by clicking run or pressing Shift+Enter) will list all files under the input directory\n",
        "\n",
        "import os\n",
        "for dirname, _, filenames in os.walk('/kaggle/input'):\n",
        "    for filename in filenames:\n",
        "        print(os.path.join(dirname, filename))\n",
        "\n",
        "# You can write up to 20GB to the current directory (/kaggle/working/) that gets preserved as output when you create a version using \"Save & Run All\"\n",
        "# You can also write temporary files to /kaggle/temp/, but they won't be saved outside of the current session"
      ],
      "metadata": {
        "_uuid": "8f2839f25d086af736a60e9eeb907d3b93b6e0e5",
        "_cell_guid": "b1076dfc-b9ad-4769-8c92-a6c4dae69d19",
        "execution": {
          "iopub.status.busy": "2024-07-14T08:18:45.169676Z",
          "iopub.execute_input": "2024-07-14T08:18:45.170398Z",
          "iopub.status.idle": "2024-07-14T08:18:46.380909Z",
          "shell.execute_reply.started": "2024-07-14T08:18:45.170367Z",
          "shell.execute_reply": "2024-07-14T08:18:46.379848Z"
        },
        "trusted": true,
        "id": "yeTpeX2DvH_R",
        "outputId": "fad94e88-a7ad-4e5b-deea-d5554a564bbe"
      },
      "execution_count": null,
      "outputs": [
        {
          "name": "stdout",
          "text": "/kaggle/input/data-science-jobs-salaries/Data Science Jobs Salaries.csv\n",
          "output_type": "stream"
        }
      ]
    },
    {
      "cell_type": "markdown",
      "source": [
        "Questions:\n",
        "1. How does the average salary differ between different experience levels (e.g., entry-level, mid-level, senior-level, executive)?\n",
        "2. Which job titles have the highest and lowest average salaries?\n",
        "3. How does the average salary vary between different employment types (e.g., full-time, part-time, contract, freelance)?\n",
        "4. What is the distribution of salaries across different countries or company locations?\n",
        "5. How does the remote ratio (percentage of remote work) impact the average salary?\n",
        "6. Are there any noticeable trends in salaries between the years 2020 and 2021?\n",
        "7. Which company sizes (small, medium, large) offer the highest average salaries?\n",
        "8. What are the most common job titles in each country or company location?\n",
        "9. How does the average salary in USD compare to the original salary in different currencies?\n",
        "10. Are there any correlations between the level of experience and the remote ratio?\n",
        "11. What is the average salary for each job title within different company sizes?\n",
        "12. How does the experience level affect the remote work ratio across different job titles?\n",
        "13. Are there specific countries where remote work is more common?\n",
        "14. What is the distribution of employment types within different company sizes?\n",
        "15. How does the salary distribution look for different job titles within the same country?\n",
        "16. Which countries have the highest concentration of specific job titles (e.g., Data Scientist, Machine Learning Engineer)?\n",
        "17. Are there any significant differences in salaries for the same job title between different countries?\n",
        "18. What are the top-paying job titles for each level of experience?\n",
        "19. How do salaries vary across different industries or sectors (if applicable)?\n",
        "20. What is the average salary progression over time for different job titles or experience levels?\n",
        "."
      ],
      "metadata": {
        "id": "kN3R5sPTvH_S"
      }
    },
    {
      "cell_type": "code",
      "source": [
        "import pandas as pd\n",
        "\n",
        "# Load the dataset\n",
        "data = pd.read_csv('/kaggle/input/data-science-jobs-salaries/Data Science Jobs Salaries.csv')\n",
        "\n",
        "# Display the first few rows of the dataset\n",
        "data.head()\n"
      ],
      "metadata": {
        "execution": {
          "iopub.status.busy": "2024-07-14T08:18:46.382864Z",
          "iopub.execute_input": "2024-07-14T08:18:46.383339Z",
          "iopub.status.idle": "2024-07-14T08:18:46.429554Z",
          "shell.execute_reply.started": "2024-07-14T08:18:46.383307Z",
          "shell.execute_reply": "2024-07-14T08:18:46.428678Z"
        },
        "trusted": true,
        "id": "UauJC9m1vH_T",
        "outputId": "13208ee5-a87d-4704-9e72-4811e740aff9"
      },
      "execution_count": null,
      "outputs": [
        {
          "execution_count": 2,
          "output_type": "execute_result",
          "data": {
            "text/plain": "  work_year experience_level employment_type                  job_title  \\\n0     2021e               EN              FT    Data Science Consultant   \n1      2020               SE              FT             Data Scientist   \n2     2021e               EX              FT       Head of Data Science   \n3     2021e               EX              FT               Head of Data   \n4     2021e               EN              FT  Machine Learning Engineer   \n\n   salary salary_currency  salary_in_usd employee_residence  remote_ratio  \\\n0   54000             EUR          64369                 DE            50   \n1   60000             EUR          68428                 GR           100   \n2   85000             USD          85000                 RU             0   \n3  230000             USD         230000                 RU            50   \n4  125000             USD         125000                 US           100   \n\n  company_location company_size  \n0               DE            L  \n1               US            L  \n2               RU            M  \n3               RU            L  \n4               US            S  ",
            "text/html": "<div>\n<style scoped>\n    .dataframe tbody tr th:only-of-type {\n        vertical-align: middle;\n    }\n\n    .dataframe tbody tr th {\n        vertical-align: top;\n    }\n\n    .dataframe thead th {\n        text-align: right;\n    }\n</style>\n<table border=\"1\" class=\"dataframe\">\n  <thead>\n    <tr style=\"text-align: right;\">\n      <th></th>\n      <th>work_year</th>\n      <th>experience_level</th>\n      <th>employment_type</th>\n      <th>job_title</th>\n      <th>salary</th>\n      <th>salary_currency</th>\n      <th>salary_in_usd</th>\n      <th>employee_residence</th>\n      <th>remote_ratio</th>\n      <th>company_location</th>\n      <th>company_size</th>\n    </tr>\n  </thead>\n  <tbody>\n    <tr>\n      <th>0</th>\n      <td>2021e</td>\n      <td>EN</td>\n      <td>FT</td>\n      <td>Data Science Consultant</td>\n      <td>54000</td>\n      <td>EUR</td>\n      <td>64369</td>\n      <td>DE</td>\n      <td>50</td>\n      <td>DE</td>\n      <td>L</td>\n    </tr>\n    <tr>\n      <th>1</th>\n      <td>2020</td>\n      <td>SE</td>\n      <td>FT</td>\n      <td>Data Scientist</td>\n      <td>60000</td>\n      <td>EUR</td>\n      <td>68428</td>\n      <td>GR</td>\n      <td>100</td>\n      <td>US</td>\n      <td>L</td>\n    </tr>\n    <tr>\n      <th>2</th>\n      <td>2021e</td>\n      <td>EX</td>\n      <td>FT</td>\n      <td>Head of Data Science</td>\n      <td>85000</td>\n      <td>USD</td>\n      <td>85000</td>\n      <td>RU</td>\n      <td>0</td>\n      <td>RU</td>\n      <td>M</td>\n    </tr>\n    <tr>\n      <th>3</th>\n      <td>2021e</td>\n      <td>EX</td>\n      <td>FT</td>\n      <td>Head of Data</td>\n      <td>230000</td>\n      <td>USD</td>\n      <td>230000</td>\n      <td>RU</td>\n      <td>50</td>\n      <td>RU</td>\n      <td>L</td>\n    </tr>\n    <tr>\n      <th>4</th>\n      <td>2021e</td>\n      <td>EN</td>\n      <td>FT</td>\n      <td>Machine Learning Engineer</td>\n      <td>125000</td>\n      <td>USD</td>\n      <td>125000</td>\n      <td>US</td>\n      <td>100</td>\n      <td>US</td>\n      <td>S</td>\n    </tr>\n  </tbody>\n</table>\n</div>"
          },
          "metadata": {}
        }
      ]
    },
    {
      "cell_type": "code",
      "source": [
        "# Check the data types of columns\n",
        "print(data.dtypes)\n"
      ],
      "metadata": {
        "execution": {
          "iopub.status.busy": "2024-07-14T08:18:46.430717Z",
          "iopub.execute_input": "2024-07-14T08:18:46.43099Z",
          "iopub.status.idle": "2024-07-14T08:18:46.436864Z",
          "shell.execute_reply.started": "2024-07-14T08:18:46.430967Z",
          "shell.execute_reply": "2024-07-14T08:18:46.435889Z"
        },
        "trusted": true,
        "id": "Yu1GKN-gvH_T",
        "outputId": "b8ffcab2-da90-4e6a-c9d0-b6f9250e37cb"
      },
      "execution_count": null,
      "outputs": [
        {
          "name": "stdout",
          "text": "work_year             object\nexperience_level      object\nemployment_type       object\njob_title             object\nsalary                 int64\nsalary_currency       object\nsalary_in_usd          int64\nemployee_residence    object\nremote_ratio           int64\ncompany_location      object\ncompany_size          object\ndtype: object\n",
          "output_type": "stream"
        }
      ]
    },
    {
      "cell_type": "code",
      "source": [
        "# Check unique values in each column\n",
        "for column in data.columns:\n",
        "    print(f\"Unique values in {column}:\")\n",
        "    print(data[column].unique())\n",
        "    print(\"\\n\")\n"
      ],
      "metadata": {
        "execution": {
          "iopub.status.busy": "2024-07-14T08:18:46.439358Z",
          "iopub.execute_input": "2024-07-14T08:18:46.440085Z",
          "iopub.status.idle": "2024-07-14T08:18:46.457665Z",
          "shell.execute_reply.started": "2024-07-14T08:18:46.440053Z",
          "shell.execute_reply": "2024-07-14T08:18:46.456502Z"
        },
        "trusted": true,
        "id": "D2_NoxABvH_U",
        "outputId": "88bf95c0-3f55-40db-9026-e6c8d78c2316"
      },
      "execution_count": null,
      "outputs": [
        {
          "name": "stdout",
          "text": "Unique values in work_year:\n['2021e' '2020']\n\n\nUnique values in experience_level:\n['EN' 'SE' 'EX' 'MI']\n\n\nUnique values in employment_type:\n['FT' 'PT' 'CT' 'FL']\n\n\nUnique values in job_title:\n['Data Science Consultant' 'Data Scientist' 'Head of Data Science'\n 'Head of Data' 'Machine Learning Engineer' 'Data Analytics Manager'\n 'Research Scientist' 'Data Analyst' 'Data Engineer'\n 'Data Science Engineer' 'Manager Data Science' 'Data Engineering Manager'\n 'AI Scientist' '3D Computer Vision Researcher' 'ML Engineer'\n 'Applied Data Scientist' 'Director of Data Science'\n 'Data Analytics Engineer' 'Lead Data Analyst' 'BI Data Analyst'\n 'Machine Learning Scientist' 'Machine Learning Infrastructure Engineer'\n 'Marketing Data Analyst' 'Lead Data Engineer'\n 'Director of Data Engineering' 'Computer Vision Software Engineer'\n 'Financial Data Analyst' 'Cloud Data Engineer' 'Principal Data Analyst'\n 'Big Data Architect' 'Lead Data Scientist' 'Data Architect'\n 'Big Data Engineer' 'Staff Data Scientist' 'Data Science Manager'\n 'Business Data Analyst' 'Principal Data Scientist'\n 'Computer Vision Engineer' 'Product Data Analyst'\n 'Principal Data Engineer' 'Finance Data Analyst'\n 'Applied Machine Learning Scientist' 'Data Specialist']\n\n\nUnique values in salary:\n[   54000    60000    85000   230000   125000   120000   450000    41000\n    65000   159500   144000    13400    95000   150000   103000   153000\n    90000    50000    12000   400000   270000    68000    40000   130000\n   110000   250000    80000    10000   138000   140000    67000   170000\n    45760   100000    45000   235000    70000   225000    44000    75000\n    82500  2250000   115000    37456   106000    88000 11000000    14000\n    81000  2200000   276000   188000   160000   105000   200000   174000\n    93000  2100000    51400    61500   720000   108000    31000    52500\n    91000   165000  1600000    42000   260000   180000   256000    72500\n   185000    59000   112000    55000    58000    65720    72000   111775\n    93150    21600  4900000  1250000   190000  1200000   135000    21000\n  4000000  1799997     9272   147000   120500    21844  3000000     4000\n    35000    87000    22000    76760  1672000   420000 30400000    52000\n   195000    32000   416000    40900  2500000     8000  4450000   423000\n    56000   299000    98000    48000    20000   325000   300000    34000\n   600000    69600   435000    37000    19000    74000   152000    18000\n   102000    39600  1335000  1450000    62000    73000    38400   190200\n   118000   138350   130800   168000    24000   412000   151000  7000000]\n\n\nUnique values in salary_currency:\n['EUR' 'USD' 'CAD' 'INR' 'PLN' 'GBP' 'HUF' 'SGD' 'MXN' 'TRY' 'CLP' 'JPY'\n 'DKK' 'CNY' 'BRL']\n\n\nUnique values in salary_in_usd:\n[ 64369  68428  85000 230000 125000 120000 450000  46759  74130 127543\n 144000  13400  75966 150000 103000 153000  90000  60000  50000  12000\n   5423 270000  54376  47681 154963  28801 110000  83000 250000  59601\n  80000  10000 138000 140000  79866 170000  45760 100000  53641 235000\n  79833 225000  77481  50180  89402 103750 114125  95362  30509 115000\n 187917  51814 106000 112872  36732  15966  96554  70000  76958  89514\n  29831 276000 188000 160000 105000 200000 174000  93000  28475  61270\n  70139   6072  33511  96833  13105  36952  72625  91000  99956 165000\n 103954  21695  42000  63971 260000 180000 109024 256000  72500 185000\n  70329 112000  21843  55000  58000  78340  72000  65561  30337 111775\n  93150  25747  66442  16949 190000 143043  16271  71968  35735 135000\n  25032  54238  24407   9272 147000  96357  21844  51321  40481   4000\n  39916  87000  26224  91500  22671   5695  81000  40798   2876  61985\n 195000  38144 416000  56578  33899 117583  47129   8000  41689 114047\n   5707  56000  28850  43331  47899  98000  66400  57217  20000 325000\n  45896  40529 600000  13000   5898  42197  62726  21669  87961  62250\n  74000 152000  18000 130000  19052 175228 148261  38776  47204  18102\n  91237  19661  75000  62000  73000  45773 190200 118000 138350 130800\n  45618 168000 119353 423000  28608 412000 151000  94917]\n\n\nUnique values in employee_residence:\n['DE' 'GR' 'RU' 'US' 'FR' 'AT' 'CA' 'UA' 'NG' 'PK' 'IN' 'GB' 'ES' 'IT'\n 'PL' 'BG' 'PH' 'PT' 'HU' 'SG' 'BR' 'MX' 'TR' 'NL' 'AE' 'JP' 'JE' 'PR'\n 'RS' 'KE' 'CO' 'NZ' 'VN' 'IR' 'RO' 'CL' 'BE' 'DK' 'CN' 'HK' 'SI' 'MD'\n 'LU' 'HR' 'MT']\n\n\nUnique values in remote_ratio:\n[ 50 100   0]\n\n\nUnique values in company_location:\n['DE' 'US' 'RU' 'FR' 'AT' 'CA' 'UA' 'NG' 'IN' 'ES' 'PL' 'GB' 'PT' 'DK'\n 'SG' 'MX' 'TR' 'NL' 'AE' 'JP' 'CN' 'HU' 'KE' 'CO' 'NZ' 'IR' 'CL' 'PK'\n 'BE' 'GR' 'SI' 'BR' 'CH' 'IT' 'MD' 'LU' 'VN' 'AS' 'HR' 'IL' 'MT']\n\n\nUnique values in company_size:\n['L' 'M' 'S']\n\n\n",
          "output_type": "stream"
        }
      ]
    },
    {
      "cell_type": "code",
      "source": [
        "# Fix the incorrect value in work_year column\n",
        "data['work_year'] = data['work_year'].replace('2021e', '2021')\n",
        "\n",
        "# Convert work_year to integer\n",
        "data['work_year'] = data['work_year'].astype(int)\n",
        "\n",
        "# Check the updated unique values\n",
        "print(data['work_year'].unique())\n"
      ],
      "metadata": {
        "execution": {
          "iopub.status.busy": "2024-07-14T08:18:46.458863Z",
          "iopub.execute_input": "2024-07-14T08:18:46.459447Z",
          "iopub.status.idle": "2024-07-14T08:18:46.469924Z",
          "shell.execute_reply.started": "2024-07-14T08:18:46.459415Z",
          "shell.execute_reply": "2024-07-14T08:18:46.468804Z"
        },
        "trusted": true,
        "id": "uMI_8LrmvH_U",
        "outputId": "001cf8d3-6561-47de-c9fe-924adb08c23f"
      },
      "execution_count": null,
      "outputs": [
        {
          "name": "stdout",
          "text": "[2021 2020]\n",
          "output_type": "stream"
        }
      ]
    },
    {
      "cell_type": "code",
      "source": [
        "# Check the shape of the DataFrame\n",
        "print(data_encoded.shape)\n"
      ],
      "metadata": {
        "execution": {
          "iopub.status.busy": "2024-07-14T08:18:46.471737Z",
          "iopub.execute_input": "2024-07-14T08:18:46.472026Z",
          "iopub.status.idle": "2024-07-14T08:18:46.929476Z",
          "shell.execute_reply.started": "2024-07-14T08:18:46.472005Z",
          "shell.execute_reply": "2024-07-14T08:18:46.926082Z"
        },
        "trusted": true,
        "id": "t3Qhlr_VvH_V",
        "outputId": "27f4babe-0359-441a-f551-be9b2309f445"
      },
      "execution_count": null,
      "outputs": [
        {
          "traceback": [
            "\u001b[0;31m---------------------------------------------------------------------------\u001b[0m",
            "\u001b[0;31mNameError\u001b[0m                                 Traceback (most recent call last)",
            "Cell \u001b[0;32mIn[6], line 2\u001b[0m\n\u001b[1;32m      1\u001b[0m \u001b[38;5;66;03m# Check the shape of the DataFrame\u001b[39;00m\n\u001b[0;32m----> 2\u001b[0m \u001b[38;5;28mprint\u001b[39m(\u001b[43mdata_encoded\u001b[49m\u001b[38;5;241m.\u001b[39mshape)\n",
            "\u001b[0;31mNameError\u001b[0m: name 'data_encoded' is not defined"
          ],
          "ename": "NameError",
          "evalue": "name 'data_encoded' is not defined",
          "output_type": "error"
        }
      ]
    },
    {
      "cell_type": "code",
      "source": [
        "# Check the column names\n",
        "print(data_encoded.columns)\n"
      ],
      "metadata": {
        "execution": {
          "iopub.status.busy": "2024-07-14T08:18:46.93089Z",
          "iopub.status.idle": "2024-07-14T08:18:46.931373Z",
          "shell.execute_reply.started": "2024-07-14T08:18:46.931106Z",
          "shell.execute_reply": "2024-07-14T08:18:46.931125Z"
        },
        "trusted": true,
        "id": "wxwV8D3hvH_V"
      },
      "execution_count": null,
      "outputs": []
    },
    {
      "cell_type": "code",
      "source": [
        "# Check the first few rows of the DataFrame\n",
        "print(data_encoded.head())\n"
      ],
      "metadata": {
        "execution": {
          "iopub.status.busy": "2024-07-14T08:18:46.935781Z",
          "iopub.status.idle": "2024-07-14T08:18:46.936122Z",
          "shell.execute_reply.started": "2024-07-14T08:18:46.935961Z",
          "shell.execute_reply": "2024-07-14T08:18:46.935975Z"
        },
        "trusted": true,
        "id": "18L3dGAGvH_W"
      },
      "execution_count": null,
      "outputs": []
    },
    {
      "cell_type": "code",
      "source": [
        "print(\"DataFrame Shape:\", data_encoded.shape)\n"
      ],
      "metadata": {
        "execution": {
          "iopub.status.busy": "2024-07-14T08:18:46.937744Z",
          "iopub.status.idle": "2024-07-14T08:18:46.938076Z",
          "shell.execute_reply.started": "2024-07-14T08:18:46.937918Z",
          "shell.execute_reply": "2024-07-14T08:18:46.937932Z"
        },
        "trusted": true,
        "id": "XCjcxytFvH_W"
      },
      "execution_count": null,
      "outputs": []
    },
    {
      "cell_type": "code",
      "source": [
        "print(\"Column Names:\", data_encoded.columns)\n"
      ],
      "metadata": {
        "execution": {
          "iopub.status.busy": "2024-07-14T08:18:46.939112Z",
          "iopub.status.idle": "2024-07-14T08:18:46.939473Z",
          "shell.execute_reply.started": "2024-07-14T08:18:46.939314Z",
          "shell.execute_reply": "2024-07-14T08:18:46.939328Z"
        },
        "trusted": true,
        "id": "ed4JRxogvH_W"
      },
      "execution_count": null,
      "outputs": []
    },
    {
      "cell_type": "code",
      "source": [
        "print(\"Column Names:\", data_encoded.columns)\n"
      ],
      "metadata": {
        "execution": {
          "iopub.status.busy": "2024-07-14T08:18:46.94125Z",
          "iopub.status.idle": "2024-07-14T08:18:46.94158Z",
          "shell.execute_reply.started": "2024-07-14T08:18:46.941419Z",
          "shell.execute_reply": "2024-07-14T08:18:46.941433Z"
        },
        "trusted": true,
        "id": "ANgCtutXvH_W"
      },
      "execution_count": null,
      "outputs": []
    },
    {
      "cell_type": "code",
      "source": [
        "import matplotlib.pyplot as plt\n",
        "import seaborn as sns\n",
        "import numpy as np\n",
        "\n",
        "import matplotlib.pyplot as plt\n",
        "import seaborn as sns\n",
        "\n",
        "# Select only the numeric columns\n",
        "numeric_data = data.select_dtypes(include=[float, int])\n",
        "\n",
        "# Adjust the figure size to make it smaller\n",
        "plt.figure(figsize=(10, 8))  # Smaller figure size\n",
        "\n",
        "# Create the correlation heatmap with annotations\n",
        "sns.heatmap(numeric_data.corr(), annot=True, cmap='coolwarm', fmt='.2f')\n",
        "\n",
        "# Set the title\n",
        "plt.title('Correlation Heatmap', fontsize=16)\n",
        "\n",
        "# Show the plot\n",
        "plt.show()\n",
        "\n",
        "\n"
      ],
      "metadata": {
        "jupyter": {
          "source_hidden": true
        },
        "execution": {
          "iopub.status.busy": "2024-07-14T08:18:46.942811Z",
          "iopub.status.idle": "2024-07-14T08:18:46.943138Z",
          "shell.execute_reply.started": "2024-07-14T08:18:46.942978Z",
          "shell.execute_reply": "2024-07-14T08:18:46.942992Z"
        },
        "trusted": true,
        "id": "LFFM5bpvvH_W"
      },
      "execution_count": null,
      "outputs": []
    },
    {
      "cell_type": "markdown",
      "source": [
        "Observation:\n",
        "\n",
        "1. **Work Year**: The year in which the data was recorded (either 2020 or 2021) doesn't have much effect on how much people are paid or how likely they are to work remotely. This means that the year doesn't play a significant role in determining salaries or remote work options in your dataset.\n",
        "\n",
        "2. **Salary vs. Salary in USD**: There is a very weak negative relationship between salaries in different currencies and their equivalent in US dollars. This means that there is a slight tendency for salaries in some currencies to be lower when converted to USD, but this relationship is not strong enough to be considered significant.\n",
        "\n",
        "3. **Remote Ratio**: Jobs that allow more remote work tend to offer slightly higher salaries in USD. However, this positive relationship is also quite weak, indicating that while there might be a tendency for remote jobs to pay more, it isn't a strong or definitive trend in your data."
      ],
      "metadata": {
        "id": "WPAifN-1vH_X"
      }
    },
    {
      "cell_type": "code",
      "source": [
        "# Display the unique values in the experience_level column\n",
        "print(data['experience_level'].unique())\n",
        "\n",
        "# Calculate the average salary for different experience levels\n",
        "average_salary_by_experience = data.groupby('experience_level')['salary_in_usd'].mean().reset_index()\n",
        "\n",
        "# Map experience levels to descriptive names\n",
        "experience_mapping = {\n",
        "    'EN': 'Entry-level',\n",
        "    'MI': 'Mid-level',\n",
        "    'SE': 'Senior-level',\n",
        "    'EX': 'Executive-level'\n",
        "}\n",
        "\n",
        "# Apply the mapping to the experience_level column\n",
        "average_salary_by_experience['experience_level'] = average_salary_by_experience['experience_level'].map(experience_mapping)\n",
        "\n",
        "# Display the results\n",
        "print(average_salary_by_experience)"
      ],
      "metadata": {
        "jupyter": {
          "source_hidden": true
        },
        "execution": {
          "iopub.status.busy": "2024-07-14T08:18:46.945938Z",
          "iopub.status.idle": "2024-07-14T08:18:46.946309Z",
          "shell.execute_reply.started": "2024-07-14T08:18:46.946112Z",
          "shell.execute_reply": "2024-07-14T08:18:46.946126Z"
        },
        "trusted": true,
        "id": "iy8jU-PFvH_X"
      },
      "execution_count": null,
      "outputs": []
    },
    {
      "cell_type": "markdown",
      "source": [
        "<a id='1'></a>\n",
        "<p style=\"background-color:#000080;font-family:newtimeroman;color:#ffffff;font-size:150%;text-align:center;border-radius:10px; padding: 10px;\">\n",
        "<b>1. How does the average salary differ between different experience levels (e.g., entry-level, mid-level, senior-level, executive)?</b>\n",
        "</p>\n"
      ],
      "metadata": {
        "id": "7-g0NIZnvH_X"
      }
    },
    {
      "cell_type": "code",
      "source": [
        "import plotly.graph_objects as go\n",
        "\n",
        "# Data for the plot, reordered logically\n",
        "experience_levels = ['Entry-level', 'Mid-level', 'Senior-level', 'Executive-level']\n",
        "average_salaries = [59753.46, 85738.14, 128841.30, 226288.00]\n",
        "\n",
        "# Create a bar plot\n",
        "fig = go.Figure(data=[\n",
        "    go.Bar(\n",
        "        x=experience_levels,\n",
        "        y=average_salaries,\n",
        "        text=[f'${salary:,.2f}' for salary in average_salaries],  # Tooltips with formatted salary\n",
        "        hoverinfo='text',  # Show text in tooltips\n",
        "        marker_color=['blue', 'green', 'orange', 'red']\n",
        "    )\n",
        "])\n",
        "\n",
        "# Update layout\n",
        "fig.update_layout(\n",
        "    title='Average Salary by Experience Level',\n",
        "    xaxis_title='Experience Level',\n",
        "    yaxis_title='Average Salary in USD',\n",
        "    template='plotly_white'\n",
        ")\n",
        "\n",
        "# Show the plot\n",
        "fig.show()\n",
        "\n"
      ],
      "metadata": {
        "execution": {
          "iopub.status.busy": "2024-07-14T08:19:18.427353Z",
          "iopub.execute_input": "2024-07-14T08:19:18.427706Z",
          "iopub.status.idle": "2024-07-14T08:19:18.471032Z",
          "shell.execute_reply.started": "2024-07-14T08:19:18.427678Z",
          "shell.execute_reply": "2024-07-14T08:19:18.470213Z"
        },
        "trusted": true,
        "id": "rIshYc4NvH_X",
        "outputId": "13957a0c-8f26-44a7-dad8-61a5302abb74"
      },
      "execution_count": null,
      "outputs": [
        {
          "output_type": "display_data",
          "data": {
            "text/html": "<div>                            <div id=\"37bf5b75-c099-4a22-bf34-508e029da4b0\" class=\"plotly-graph-div\" style=\"height:525px; width:100%;\"></div>            <script type=\"text/javascript\">                require([\"plotly\"], function(Plotly) {                    window.PLOTLYENV=window.PLOTLYENV || {};                                    if (document.getElementById(\"37bf5b75-c099-4a22-bf34-508e029da4b0\")) {                    Plotly.newPlot(                        \"37bf5b75-c099-4a22-bf34-508e029da4b0\",                        [{\"hoverinfo\":\"text\",\"marker\":{\"color\":[\"blue\",\"green\",\"orange\",\"red\"]},\"text\":[\"$59,753.46\",\"$85,738.14\",\"$128,841.30\",\"$226,288.00\"],\"x\":[\"Entry-level\",\"Mid-level\",\"Senior-level\",\"Executive-level\"],\"y\":[59753.46,85738.14,128841.3,226288.0],\"type\":\"bar\"}],                        {\"template\":{\"data\":{\"barpolar\":[{\"marker\":{\"line\":{\"color\":\"white\",\"width\":0.5},\"pattern\":{\"fillmode\":\"overlay\",\"size\":10,\"solidity\":0.2}},\"type\":\"barpolar\"}],\"bar\":[{\"error_x\":{\"color\":\"#2a3f5f\"},\"error_y\":{\"color\":\"#2a3f5f\"},\"marker\":{\"line\":{\"color\":\"white\",\"width\":0.5},\"pattern\":{\"fillmode\":\"overlay\",\"size\":10,\"solidity\":0.2}},\"type\":\"bar\"}],\"carpet\":[{\"aaxis\":{\"endlinecolor\":\"#2a3f5f\",\"gridcolor\":\"#C8D4E3\",\"linecolor\":\"#C8D4E3\",\"minorgridcolor\":\"#C8D4E3\",\"startlinecolor\":\"#2a3f5f\"},\"baxis\":{\"endlinecolor\":\"#2a3f5f\",\"gridcolor\":\"#C8D4E3\",\"linecolor\":\"#C8D4E3\",\"minorgridcolor\":\"#C8D4E3\",\"startlinecolor\":\"#2a3f5f\"},\"type\":\"carpet\"}],\"choropleth\":[{\"colorbar\":{\"outlinewidth\":0,\"ticks\":\"\"},\"type\":\"choropleth\"}],\"contourcarpet\":[{\"colorbar\":{\"outlinewidth\":0,\"ticks\":\"\"},\"type\":\"contourcarpet\"}],\"contour\":[{\"colorbar\":{\"outlinewidth\":0,\"ticks\":\"\"},\"colorscale\":[[0.0,\"#0d0887\"],[0.1111111111111111,\"#46039f\"],[0.2222222222222222,\"#7201a8\"],[0.3333333333333333,\"#9c179e\"],[0.4444444444444444,\"#bd3786\"],[0.5555555555555556,\"#d8576b\"],[0.6666666666666666,\"#ed7953\"],[0.7777777777777778,\"#fb9f3a\"],[0.8888888888888888,\"#fdca26\"],[1.0,\"#f0f921\"]],\"type\":\"contour\"}],\"heatmapgl\":[{\"colorbar\":{\"outlinewidth\":0,\"ticks\":\"\"},\"colorscale\":[[0.0,\"#0d0887\"],[0.1111111111111111,\"#46039f\"],[0.2222222222222222,\"#7201a8\"],[0.3333333333333333,\"#9c179e\"],[0.4444444444444444,\"#bd3786\"],[0.5555555555555556,\"#d8576b\"],[0.6666666666666666,\"#ed7953\"],[0.7777777777777778,\"#fb9f3a\"],[0.8888888888888888,\"#fdca26\"],[1.0,\"#f0f921\"]],\"type\":\"heatmapgl\"}],\"heatmap\":[{\"colorbar\":{\"outlinewidth\":0,\"ticks\":\"\"},\"colorscale\":[[0.0,\"#0d0887\"],[0.1111111111111111,\"#46039f\"],[0.2222222222222222,\"#7201a8\"],[0.3333333333333333,\"#9c179e\"],[0.4444444444444444,\"#bd3786\"],[0.5555555555555556,\"#d8576b\"],[0.6666666666666666,\"#ed7953\"],[0.7777777777777778,\"#fb9f3a\"],[0.8888888888888888,\"#fdca26\"],[1.0,\"#f0f921\"]],\"type\":\"heatmap\"}],\"histogram2dcontour\":[{\"colorbar\":{\"outlinewidth\":0,\"ticks\":\"\"},\"colorscale\":[[0.0,\"#0d0887\"],[0.1111111111111111,\"#46039f\"],[0.2222222222222222,\"#7201a8\"],[0.3333333333333333,\"#9c179e\"],[0.4444444444444444,\"#bd3786\"],[0.5555555555555556,\"#d8576b\"],[0.6666666666666666,\"#ed7953\"],[0.7777777777777778,\"#fb9f3a\"],[0.8888888888888888,\"#fdca26\"],[1.0,\"#f0f921\"]],\"type\":\"histogram2dcontour\"}],\"histogram2d\":[{\"colorbar\":{\"outlinewidth\":0,\"ticks\":\"\"},\"colorscale\":[[0.0,\"#0d0887\"],[0.1111111111111111,\"#46039f\"],[0.2222222222222222,\"#7201a8\"],[0.3333333333333333,\"#9c179e\"],[0.4444444444444444,\"#bd3786\"],[0.5555555555555556,\"#d8576b\"],[0.6666666666666666,\"#ed7953\"],[0.7777777777777778,\"#fb9f3a\"],[0.8888888888888888,\"#fdca26\"],[1.0,\"#f0f921\"]],\"type\":\"histogram2d\"}],\"histogram\":[{\"marker\":{\"pattern\":{\"fillmode\":\"overlay\",\"size\":10,\"solidity\":0.2}},\"type\":\"histogram\"}],\"mesh3d\":[{\"colorbar\":{\"outlinewidth\":0,\"ticks\":\"\"},\"type\":\"mesh3d\"}],\"parcoords\":[{\"line\":{\"colorbar\":{\"outlinewidth\":0,\"ticks\":\"\"}},\"type\":\"parcoords\"}],\"pie\":[{\"automargin\":true,\"type\":\"pie\"}],\"scatter3d\":[{\"line\":{\"colorbar\":{\"outlinewidth\":0,\"ticks\":\"\"}},\"marker\":{\"colorbar\":{\"outlinewidth\":0,\"ticks\":\"\"}},\"type\":\"scatter3d\"}],\"scattercarpet\":[{\"marker\":{\"colorbar\":{\"outlinewidth\":0,\"ticks\":\"\"}},\"type\":\"scattercarpet\"}],\"scattergeo\":[{\"marker\":{\"colorbar\":{\"outlinewidth\":0,\"ticks\":\"\"}},\"type\":\"scattergeo\"}],\"scattergl\":[{\"marker\":{\"colorbar\":{\"outlinewidth\":0,\"ticks\":\"\"}},\"type\":\"scattergl\"}],\"scattermapbox\":[{\"marker\":{\"colorbar\":{\"outlinewidth\":0,\"ticks\":\"\"}},\"type\":\"scattermapbox\"}],\"scatterpolargl\":[{\"marker\":{\"colorbar\":{\"outlinewidth\":0,\"ticks\":\"\"}},\"type\":\"scatterpolargl\"}],\"scatterpolar\":[{\"marker\":{\"colorbar\":{\"outlinewidth\":0,\"ticks\":\"\"}},\"type\":\"scatterpolar\"}],\"scatter\":[{\"fillpattern\":{\"fillmode\":\"overlay\",\"size\":10,\"solidity\":0.2},\"type\":\"scatter\"}],\"scatterternary\":[{\"marker\":{\"colorbar\":{\"outlinewidth\":0,\"ticks\":\"\"}},\"type\":\"scatterternary\"}],\"surface\":[{\"colorbar\":{\"outlinewidth\":0,\"ticks\":\"\"},\"colorscale\":[[0.0,\"#0d0887\"],[0.1111111111111111,\"#46039f\"],[0.2222222222222222,\"#7201a8\"],[0.3333333333333333,\"#9c179e\"],[0.4444444444444444,\"#bd3786\"],[0.5555555555555556,\"#d8576b\"],[0.6666666666666666,\"#ed7953\"],[0.7777777777777778,\"#fb9f3a\"],[0.8888888888888888,\"#fdca26\"],[1.0,\"#f0f921\"]],\"type\":\"surface\"}],\"table\":[{\"cells\":{\"fill\":{\"color\":\"#EBF0F8\"},\"line\":{\"color\":\"white\"}},\"header\":{\"fill\":{\"color\":\"#C8D4E3\"},\"line\":{\"color\":\"white\"}},\"type\":\"table\"}]},\"layout\":{\"annotationdefaults\":{\"arrowcolor\":\"#2a3f5f\",\"arrowhead\":0,\"arrowwidth\":1},\"autotypenumbers\":\"strict\",\"coloraxis\":{\"colorbar\":{\"outlinewidth\":0,\"ticks\":\"\"}},\"colorscale\":{\"diverging\":[[0,\"#8e0152\"],[0.1,\"#c51b7d\"],[0.2,\"#de77ae\"],[0.3,\"#f1b6da\"],[0.4,\"#fde0ef\"],[0.5,\"#f7f7f7\"],[0.6,\"#e6f5d0\"],[0.7,\"#b8e186\"],[0.8,\"#7fbc41\"],[0.9,\"#4d9221\"],[1,\"#276419\"]],\"sequential\":[[0.0,\"#0d0887\"],[0.1111111111111111,\"#46039f\"],[0.2222222222222222,\"#7201a8\"],[0.3333333333333333,\"#9c179e\"],[0.4444444444444444,\"#bd3786\"],[0.5555555555555556,\"#d8576b\"],[0.6666666666666666,\"#ed7953\"],[0.7777777777777778,\"#fb9f3a\"],[0.8888888888888888,\"#fdca26\"],[1.0,\"#f0f921\"]],\"sequentialminus\":[[0.0,\"#0d0887\"],[0.1111111111111111,\"#46039f\"],[0.2222222222222222,\"#7201a8\"],[0.3333333333333333,\"#9c179e\"],[0.4444444444444444,\"#bd3786\"],[0.5555555555555556,\"#d8576b\"],[0.6666666666666666,\"#ed7953\"],[0.7777777777777778,\"#fb9f3a\"],[0.8888888888888888,\"#fdca26\"],[1.0,\"#f0f921\"]]},\"colorway\":[\"#636efa\",\"#EF553B\",\"#00cc96\",\"#ab63fa\",\"#FFA15A\",\"#19d3f3\",\"#FF6692\",\"#B6E880\",\"#FF97FF\",\"#FECB52\"],\"font\":{\"color\":\"#2a3f5f\"},\"geo\":{\"bgcolor\":\"white\",\"lakecolor\":\"white\",\"landcolor\":\"white\",\"showlakes\":true,\"showland\":true,\"subunitcolor\":\"#C8D4E3\"},\"hoverlabel\":{\"align\":\"left\"},\"hovermode\":\"closest\",\"mapbox\":{\"style\":\"light\"},\"paper_bgcolor\":\"white\",\"plot_bgcolor\":\"white\",\"polar\":{\"angularaxis\":{\"gridcolor\":\"#EBF0F8\",\"linecolor\":\"#EBF0F8\",\"ticks\":\"\"},\"bgcolor\":\"white\",\"radialaxis\":{\"gridcolor\":\"#EBF0F8\",\"linecolor\":\"#EBF0F8\",\"ticks\":\"\"}},\"scene\":{\"xaxis\":{\"backgroundcolor\":\"white\",\"gridcolor\":\"#DFE8F3\",\"gridwidth\":2,\"linecolor\":\"#EBF0F8\",\"showbackground\":true,\"ticks\":\"\",\"zerolinecolor\":\"#EBF0F8\"},\"yaxis\":{\"backgroundcolor\":\"white\",\"gridcolor\":\"#DFE8F3\",\"gridwidth\":2,\"linecolor\":\"#EBF0F8\",\"showbackground\":true,\"ticks\":\"\",\"zerolinecolor\":\"#EBF0F8\"},\"zaxis\":{\"backgroundcolor\":\"white\",\"gridcolor\":\"#DFE8F3\",\"gridwidth\":2,\"linecolor\":\"#EBF0F8\",\"showbackground\":true,\"ticks\":\"\",\"zerolinecolor\":\"#EBF0F8\"}},\"shapedefaults\":{\"line\":{\"color\":\"#2a3f5f\"}},\"ternary\":{\"aaxis\":{\"gridcolor\":\"#DFE8F3\",\"linecolor\":\"#A2B1C6\",\"ticks\":\"\"},\"baxis\":{\"gridcolor\":\"#DFE8F3\",\"linecolor\":\"#A2B1C6\",\"ticks\":\"\"},\"bgcolor\":\"white\",\"caxis\":{\"gridcolor\":\"#DFE8F3\",\"linecolor\":\"#A2B1C6\",\"ticks\":\"\"}},\"title\":{\"x\":0.05},\"xaxis\":{\"automargin\":true,\"gridcolor\":\"#EBF0F8\",\"linecolor\":\"#EBF0F8\",\"ticks\":\"\",\"title\":{\"standoff\":15},\"zerolinecolor\":\"#EBF0F8\",\"zerolinewidth\":2},\"yaxis\":{\"automargin\":true,\"gridcolor\":\"#EBF0F8\",\"linecolor\":\"#EBF0F8\",\"ticks\":\"\",\"title\":{\"standoff\":15},\"zerolinecolor\":\"#EBF0F8\",\"zerolinewidth\":2}}},\"title\":{\"text\":\"Average Salary by Experience Level\"},\"xaxis\":{\"title\":{\"text\":\"Experience Level\"}},\"yaxis\":{\"title\":{\"text\":\"Average Salary in USD\"}}},                        {\"responsive\": true}                    ).then(function(){\n                            \nvar gd = document.getElementById('37bf5b75-c099-4a22-bf34-508e029da4b0');\nvar x = new MutationObserver(function (mutations, observer) {{\n        var display = window.getComputedStyle(gd).display;\n        if (!display || display === 'none') {{\n            console.log([gd, 'removed!']);\n            Plotly.purge(gd);\n            observer.disconnect();\n        }}\n}});\n\n// Listen for the removal of the full notebook cells\nvar notebookContainer = gd.closest('#notebook-container');\nif (notebookContainer) {{\n    x.observe(notebookContainer, {childList: true});\n}}\n\n// Listen for the clearing of the current output cell\nvar outputEl = gd.closest('.output');\nif (outputEl) {{\n    x.observe(outputEl, {childList: true});\n}}\n\n                        })                };                });            </script>        </div>"
          },
          "metadata": {}
        }
      ]
    },
    {
      "cell_type": "markdown",
      "source": [
        "<a id='2'></a>\n",
        "<p style=\"background-color:#000080;font-family:newtimeroman;color:#ffffff;font-size:150%;text-align:center;border-radius:10px; padding: 10px;\">\n",
        "<b>2. Which job titles have the highest and lowest average salaries?</b>\n",
        "</p>\n"
      ],
      "metadata": {
        "id": "VmOCcYfvvH_X"
      }
    },
    {
      "cell_type": "code",
      "source": [
        "import pandas as pd\n",
        "import plotly.express as px\n",
        "\n",
        "# Assuming the data has been loaded into a DataFrame called data\n",
        "\n",
        "# Calculate average salary for each job title\n",
        "avg_salary_by_job = data.groupby('job_title')['salary_in_usd'].mean().sort_values()\n",
        "\n",
        "# Get the job titles with the highest and lowest average salaries\n",
        "highest_avg_salary = avg_salary_by_job.tail(1)\n",
        "lowest_avg_salary = avg_salary_by_job.head(1)\n",
        "\n",
        "print(\"Job title with the highest average salary:\")\n",
        "print(highest_avg_salary)\n",
        "\n",
        "print(\"\\nJob title with the lowest average salary:\")\n",
        "print(lowest_avg_salary)\n",
        "\n",
        "# Plot the top 10 job titles with the highest average salaries\n",
        "top_10_highest_avg_salary = avg_salary_by_job.tail(10).reset_index()\n",
        "fig_highest = px.bar(top_10_highest_avg_salary, x='salary_in_usd', y='job_title',\n",
        "                     title='Top 10 Job Titles with the Highest Average Salaries',\n",
        "                     labels={'salary_in_usd': 'Average Salary in USD', 'job_title': 'Job Title'},\n",
        "                     hover_data={'salary_in_usd': ':.2f'})\n",
        "\n",
        "fig_highest.update_layout(yaxis={'categoryorder':'total ascending'}, template='plotly_white')\n",
        "fig_highest.show()\n",
        "\n",
        "# Plot the top 10 job titles with the lowest average salaries\n",
        "top_10_lowest_avg_salary = avg_salary_by_job.head(10).reset_index()\n",
        "fig_lowest = px.bar(top_10_lowest_avg_salary, x='salary_in_usd', y='job_title',\n",
        "                    title='Top 10 Job Titles with the Lowest Average Salaries',\n",
        "                    labels={'salary_in_usd': 'Average Salary in USD', 'job_title': 'Job Title'},\n",
        "                    hover_data={'salary_in_usd': ':.2f'})\n",
        "\n",
        "fig_lowest.update_layout(yaxis={'categoryorder':'total ascending'}, template='plotly_white')\n",
        "fig_lowest.show()\n",
        "\n"
      ],
      "metadata": {
        "execution": {
          "iopub.status.busy": "2024-07-14T08:19:09.628043Z",
          "iopub.execute_input": "2024-07-14T08:19:09.628438Z",
          "iopub.status.idle": "2024-07-14T08:19:12.033678Z",
          "shell.execute_reply.started": "2024-07-14T08:19:09.628407Z",
          "shell.execute_reply": "2024-07-14T08:19:12.0328Z"
        },
        "trusted": true,
        "id": "8_3NE3V6vH_X",
        "outputId": "70651cf0-b5db-442d-ad1a-0458b7499518"
      },
      "execution_count": null,
      "outputs": [
        {
          "name": "stdout",
          "text": "Job title with the highest average salary:\njob_title\nFinancial Data Analyst    450000.0\nName: salary_in_usd, dtype: float64\n\nJob title with the lowest average salary:\njob_title\n3D Computer Vision Researcher    5423.0\nName: salary_in_usd, dtype: float64\n",
          "output_type": "stream"
        },
        {
          "output_type": "display_data",
          "data": {
            "text/html": "        <script type=\"text/javascript\">\n        window.PlotlyConfig = {MathJaxConfig: 'local'};\n        if (window.MathJax && window.MathJax.Hub && window.MathJax.Hub.Config) {window.MathJax.Hub.Config({SVG: {font: \"STIX-Web\"}});}\n        if (typeof require !== 'undefined') {\n        require.undef(\"plotly\");\n        requirejs.config({\n            paths: {\n                'plotly': ['https://cdn.plot.ly/plotly-2.27.0.min']\n            }\n        });\n        require(['plotly'], function(Plotly) {\n            window._Plotly = Plotly;\n        });\n        }\n        </script>\n        "
          },
          "metadata": {}
        },
        {
          "output_type": "display_data",
          "data": {
            "text/html": "<div>                            <div id=\"f6e9af98-32ab-465e-a088-9956eb934214\" class=\"plotly-graph-div\" style=\"height:525px; width:100%;\"></div>            <script type=\"text/javascript\">                require([\"plotly\"], function(Plotly) {                    window.PLOTLYENV=window.PLOTLYENV || {};                                    if (document.getElementById(\"f6e9af98-32ab-465e-a088-9956eb934214\")) {                    Plotly.newPlot(                        \"f6e9af98-32ab-465e-a088-9956eb934214\",                        [{\"alignmentgroup\":\"True\",\"hovertemplate\":\"Average Salary in USD=%{x:.2f}\\u003cbr\\u003eJob Title=%{y}\\u003cextra\\u003e\\u003c\\u002fextra\\u003e\",\"legendgroup\":\"\",\"marker\":{\"color\":\"#636efa\",\"pattern\":{\"shape\":\"\"}},\"name\":\"\",\"offsetgroup\":\"\",\"orientation\":\"h\",\"showlegend\":false,\"textposition\":\"auto\",\"x\":[170000.0,180000.0,180500.0,180655.33333333334,197751.5,225097.8,232500.0,392500.0,423000.0,450000.0],\"xaxis\":\"x\",\"y\":[\"Principal Data Analyst\",\"Data Architect\",\"Machine Learning Scientist\",\"ML Engineer\",\"Director of Data Science\",\"Principal Data Scientist\",\"Head of Data\",\"Principal Data Engineer\",\"Applied Machine Learning Scientist\",\"Financial Data Analyst\"],\"yaxis\":\"y\",\"type\":\"bar\"}],                        {\"template\":{\"data\":{\"barpolar\":[{\"marker\":{\"line\":{\"color\":\"white\",\"width\":0.5},\"pattern\":{\"fillmode\":\"overlay\",\"size\":10,\"solidity\":0.2}},\"type\":\"barpolar\"}],\"bar\":[{\"error_x\":{\"color\":\"#2a3f5f\"},\"error_y\":{\"color\":\"#2a3f5f\"},\"marker\":{\"line\":{\"color\":\"white\",\"width\":0.5},\"pattern\":{\"fillmode\":\"overlay\",\"size\":10,\"solidity\":0.2}},\"type\":\"bar\"}],\"carpet\":[{\"aaxis\":{\"endlinecolor\":\"#2a3f5f\",\"gridcolor\":\"#C8D4E3\",\"linecolor\":\"#C8D4E3\",\"minorgridcolor\":\"#C8D4E3\",\"startlinecolor\":\"#2a3f5f\"},\"baxis\":{\"endlinecolor\":\"#2a3f5f\",\"gridcolor\":\"#C8D4E3\",\"linecolor\":\"#C8D4E3\",\"minorgridcolor\":\"#C8D4E3\",\"startlinecolor\":\"#2a3f5f\"},\"type\":\"carpet\"}],\"choropleth\":[{\"colorbar\":{\"outlinewidth\":0,\"ticks\":\"\"},\"type\":\"choropleth\"}],\"contourcarpet\":[{\"colorbar\":{\"outlinewidth\":0,\"ticks\":\"\"},\"type\":\"contourcarpet\"}],\"contour\":[{\"colorbar\":{\"outlinewidth\":0,\"ticks\":\"\"},\"colorscale\":[[0.0,\"#0d0887\"],[0.1111111111111111,\"#46039f\"],[0.2222222222222222,\"#7201a8\"],[0.3333333333333333,\"#9c179e\"],[0.4444444444444444,\"#bd3786\"],[0.5555555555555556,\"#d8576b\"],[0.6666666666666666,\"#ed7953\"],[0.7777777777777778,\"#fb9f3a\"],[0.8888888888888888,\"#fdca26\"],[1.0,\"#f0f921\"]],\"type\":\"contour\"}],\"heatmapgl\":[{\"colorbar\":{\"outlinewidth\":0,\"ticks\":\"\"},\"colorscale\":[[0.0,\"#0d0887\"],[0.1111111111111111,\"#46039f\"],[0.2222222222222222,\"#7201a8\"],[0.3333333333333333,\"#9c179e\"],[0.4444444444444444,\"#bd3786\"],[0.5555555555555556,\"#d8576b\"],[0.6666666666666666,\"#ed7953\"],[0.7777777777777778,\"#fb9f3a\"],[0.8888888888888888,\"#fdca26\"],[1.0,\"#f0f921\"]],\"type\":\"heatmapgl\"}],\"heatmap\":[{\"colorbar\":{\"outlinewidth\":0,\"ticks\":\"\"},\"colorscale\":[[0.0,\"#0d0887\"],[0.1111111111111111,\"#46039f\"],[0.2222222222222222,\"#7201a8\"],[0.3333333333333333,\"#9c179e\"],[0.4444444444444444,\"#bd3786\"],[0.5555555555555556,\"#d8576b\"],[0.6666666666666666,\"#ed7953\"],[0.7777777777777778,\"#fb9f3a\"],[0.8888888888888888,\"#fdca26\"],[1.0,\"#f0f921\"]],\"type\":\"heatmap\"}],\"histogram2dcontour\":[{\"colorbar\":{\"outlinewidth\":0,\"ticks\":\"\"},\"colorscale\":[[0.0,\"#0d0887\"],[0.1111111111111111,\"#46039f\"],[0.2222222222222222,\"#7201a8\"],[0.3333333333333333,\"#9c179e\"],[0.4444444444444444,\"#bd3786\"],[0.5555555555555556,\"#d8576b\"],[0.6666666666666666,\"#ed7953\"],[0.7777777777777778,\"#fb9f3a\"],[0.8888888888888888,\"#fdca26\"],[1.0,\"#f0f921\"]],\"type\":\"histogram2dcontour\"}],\"histogram2d\":[{\"colorbar\":{\"outlinewidth\":0,\"ticks\":\"\"},\"colorscale\":[[0.0,\"#0d0887\"],[0.1111111111111111,\"#46039f\"],[0.2222222222222222,\"#7201a8\"],[0.3333333333333333,\"#9c179e\"],[0.4444444444444444,\"#bd3786\"],[0.5555555555555556,\"#d8576b\"],[0.6666666666666666,\"#ed7953\"],[0.7777777777777778,\"#fb9f3a\"],[0.8888888888888888,\"#fdca26\"],[1.0,\"#f0f921\"]],\"type\":\"histogram2d\"}],\"histogram\":[{\"marker\":{\"pattern\":{\"fillmode\":\"overlay\",\"size\":10,\"solidity\":0.2}},\"type\":\"histogram\"}],\"mesh3d\":[{\"colorbar\":{\"outlinewidth\":0,\"ticks\":\"\"},\"type\":\"mesh3d\"}],\"parcoords\":[{\"line\":{\"colorbar\":{\"outlinewidth\":0,\"ticks\":\"\"}},\"type\":\"parcoords\"}],\"pie\":[{\"automargin\":true,\"type\":\"pie\"}],\"scatter3d\":[{\"line\":{\"colorbar\":{\"outlinewidth\":0,\"ticks\":\"\"}},\"marker\":{\"colorbar\":{\"outlinewidth\":0,\"ticks\":\"\"}},\"type\":\"scatter3d\"}],\"scattercarpet\":[{\"marker\":{\"colorbar\":{\"outlinewidth\":0,\"ticks\":\"\"}},\"type\":\"scattercarpet\"}],\"scattergeo\":[{\"marker\":{\"colorbar\":{\"outlinewidth\":0,\"ticks\":\"\"}},\"type\":\"scattergeo\"}],\"scattergl\":[{\"marker\":{\"colorbar\":{\"outlinewidth\":0,\"ticks\":\"\"}},\"type\":\"scattergl\"}],\"scattermapbox\":[{\"marker\":{\"colorbar\":{\"outlinewidth\":0,\"ticks\":\"\"}},\"type\":\"scattermapbox\"}],\"scatterpolargl\":[{\"marker\":{\"colorbar\":{\"outlinewidth\":0,\"ticks\":\"\"}},\"type\":\"scatterpolargl\"}],\"scatterpolar\":[{\"marker\":{\"colorbar\":{\"outlinewidth\":0,\"ticks\":\"\"}},\"type\":\"scatterpolar\"}],\"scatter\":[{\"fillpattern\":{\"fillmode\":\"overlay\",\"size\":10,\"solidity\":0.2},\"type\":\"scatter\"}],\"scatterternary\":[{\"marker\":{\"colorbar\":{\"outlinewidth\":0,\"ticks\":\"\"}},\"type\":\"scatterternary\"}],\"surface\":[{\"colorbar\":{\"outlinewidth\":0,\"ticks\":\"\"},\"colorscale\":[[0.0,\"#0d0887\"],[0.1111111111111111,\"#46039f\"],[0.2222222222222222,\"#7201a8\"],[0.3333333333333333,\"#9c179e\"],[0.4444444444444444,\"#bd3786\"],[0.5555555555555556,\"#d8576b\"],[0.6666666666666666,\"#ed7953\"],[0.7777777777777778,\"#fb9f3a\"],[0.8888888888888888,\"#fdca26\"],[1.0,\"#f0f921\"]],\"type\":\"surface\"}],\"table\":[{\"cells\":{\"fill\":{\"color\":\"#EBF0F8\"},\"line\":{\"color\":\"white\"}},\"header\":{\"fill\":{\"color\":\"#C8D4E3\"},\"line\":{\"color\":\"white\"}},\"type\":\"table\"}]},\"layout\":{\"annotationdefaults\":{\"arrowcolor\":\"#2a3f5f\",\"arrowhead\":0,\"arrowwidth\":1},\"autotypenumbers\":\"strict\",\"coloraxis\":{\"colorbar\":{\"outlinewidth\":0,\"ticks\":\"\"}},\"colorscale\":{\"diverging\":[[0,\"#8e0152\"],[0.1,\"#c51b7d\"],[0.2,\"#de77ae\"],[0.3,\"#f1b6da\"],[0.4,\"#fde0ef\"],[0.5,\"#f7f7f7\"],[0.6,\"#e6f5d0\"],[0.7,\"#b8e186\"],[0.8,\"#7fbc41\"],[0.9,\"#4d9221\"],[1,\"#276419\"]],\"sequential\":[[0.0,\"#0d0887\"],[0.1111111111111111,\"#46039f\"],[0.2222222222222222,\"#7201a8\"],[0.3333333333333333,\"#9c179e\"],[0.4444444444444444,\"#bd3786\"],[0.5555555555555556,\"#d8576b\"],[0.6666666666666666,\"#ed7953\"],[0.7777777777777778,\"#fb9f3a\"],[0.8888888888888888,\"#fdca26\"],[1.0,\"#f0f921\"]],\"sequentialminus\":[[0.0,\"#0d0887\"],[0.1111111111111111,\"#46039f\"],[0.2222222222222222,\"#7201a8\"],[0.3333333333333333,\"#9c179e\"],[0.4444444444444444,\"#bd3786\"],[0.5555555555555556,\"#d8576b\"],[0.6666666666666666,\"#ed7953\"],[0.7777777777777778,\"#fb9f3a\"],[0.8888888888888888,\"#fdca26\"],[1.0,\"#f0f921\"]]},\"colorway\":[\"#636efa\",\"#EF553B\",\"#00cc96\",\"#ab63fa\",\"#FFA15A\",\"#19d3f3\",\"#FF6692\",\"#B6E880\",\"#FF97FF\",\"#FECB52\"],\"font\":{\"color\":\"#2a3f5f\"},\"geo\":{\"bgcolor\":\"white\",\"lakecolor\":\"white\",\"landcolor\":\"white\",\"showlakes\":true,\"showland\":true,\"subunitcolor\":\"#C8D4E3\"},\"hoverlabel\":{\"align\":\"left\"},\"hovermode\":\"closest\",\"mapbox\":{\"style\":\"light\"},\"paper_bgcolor\":\"white\",\"plot_bgcolor\":\"white\",\"polar\":{\"angularaxis\":{\"gridcolor\":\"#EBF0F8\",\"linecolor\":\"#EBF0F8\",\"ticks\":\"\"},\"bgcolor\":\"white\",\"radialaxis\":{\"gridcolor\":\"#EBF0F8\",\"linecolor\":\"#EBF0F8\",\"ticks\":\"\"}},\"scene\":{\"xaxis\":{\"backgroundcolor\":\"white\",\"gridcolor\":\"#DFE8F3\",\"gridwidth\":2,\"linecolor\":\"#EBF0F8\",\"showbackground\":true,\"ticks\":\"\",\"zerolinecolor\":\"#EBF0F8\"},\"yaxis\":{\"backgroundcolor\":\"white\",\"gridcolor\":\"#DFE8F3\",\"gridwidth\":2,\"linecolor\":\"#EBF0F8\",\"showbackground\":true,\"ticks\":\"\",\"zerolinecolor\":\"#EBF0F8\"},\"zaxis\":{\"backgroundcolor\":\"white\",\"gridcolor\":\"#DFE8F3\",\"gridwidth\":2,\"linecolor\":\"#EBF0F8\",\"showbackground\":true,\"ticks\":\"\",\"zerolinecolor\":\"#EBF0F8\"}},\"shapedefaults\":{\"line\":{\"color\":\"#2a3f5f\"}},\"ternary\":{\"aaxis\":{\"gridcolor\":\"#DFE8F3\",\"linecolor\":\"#A2B1C6\",\"ticks\":\"\"},\"baxis\":{\"gridcolor\":\"#DFE8F3\",\"linecolor\":\"#A2B1C6\",\"ticks\":\"\"},\"bgcolor\":\"white\",\"caxis\":{\"gridcolor\":\"#DFE8F3\",\"linecolor\":\"#A2B1C6\",\"ticks\":\"\"}},\"title\":{\"x\":0.05},\"xaxis\":{\"automargin\":true,\"gridcolor\":\"#EBF0F8\",\"linecolor\":\"#EBF0F8\",\"ticks\":\"\",\"title\":{\"standoff\":15},\"zerolinecolor\":\"#EBF0F8\",\"zerolinewidth\":2},\"yaxis\":{\"automargin\":true,\"gridcolor\":\"#EBF0F8\",\"linecolor\":\"#EBF0F8\",\"ticks\":\"\",\"title\":{\"standoff\":15},\"zerolinecolor\":\"#EBF0F8\",\"zerolinewidth\":2}}},\"xaxis\":{\"anchor\":\"y\",\"domain\":[0.0,1.0],\"title\":{\"text\":\"Average Salary in USD\"}},\"yaxis\":{\"anchor\":\"x\",\"domain\":[0.0,1.0],\"title\":{\"text\":\"Job Title\"},\"categoryorder\":\"total ascending\"},\"legend\":{\"tracegroupgap\":0},\"title\":{\"text\":\"Top 10 Job Titles with the Highest Average Salaries\"},\"barmode\":\"relative\"},                        {\"responsive\": true}                    ).then(function(){\n                            \nvar gd = document.getElementById('f6e9af98-32ab-465e-a088-9956eb934214');\nvar x = new MutationObserver(function (mutations, observer) {{\n        var display = window.getComputedStyle(gd).display;\n        if (!display || display === 'none') {{\n            console.log([gd, 'removed!']);\n            Plotly.purge(gd);\n            observer.disconnect();\n        }}\n}});\n\n// Listen for the removal of the full notebook cells\nvar notebookContainer = gd.closest('#notebook-container');\nif (notebookContainer) {{\n    x.observe(notebookContainer, {childList: true});\n}}\n\n// Listen for the clearing of the current output cell\nvar outputEl = gd.closest('.output');\nif (outputEl) {{\n    x.observe(outputEl, {childList: true});\n}}\n\n                        })                };                });            </script>        </div>"
          },
          "metadata": {}
        },
        {
          "output_type": "display_data",
          "data": {
            "text/html": "<div>                            <div id=\"3780221e-7b2c-45fc-9ad5-9bcedac4e87a\" class=\"plotly-graph-div\" style=\"height:525px; width:100%;\"></div>            <script type=\"text/javascript\">                require([\"plotly\"], function(Plotly) {                    window.PLOTLYENV=window.PLOTLYENV || {};                                    if (document.getElementById(\"3780221e-7b2c-45fc-9ad5-9bcedac4e87a\")) {                    Plotly.newPlot(                        \"3780221e-7b2c-45fc-9ad5-9bcedac4e87a\",                        [{\"alignmentgroup\":\"True\",\"hovertemplate\":\"Average Salary in USD=%{x:.2f}\\u003cbr\\u003eJob Title=%{y}\\u003cextra\\u003e\\u003c\\u002fextra\\u003e\",\"legendgroup\":\"\",\"marker\":{\"color\":\"#636efa\",\"pattern\":{\"shape\":\"\"}},\"name\":\"\",\"offsetgroup\":\"\",\"orientation\":\"h\",\"showlegend\":false,\"textposition\":\"auto\",\"x\":[5423.0,6072.0,28599.6,35967.333333333336,47651.833333333336,54376.0,62250.0,69329.15,69766.71428571429,76537.10169491525],\"xaxis\":\"x\",\"y\":[\"3D Computer Vision Researcher\",\"Product Data Analyst\",\"AI Scientist\",\"Computer Vision Engineer\",\"Big Data Engineer\",\"Applied Data Scientist\",\"Finance Data Analyst\",\"Data Analyst\",\"Data Science Consultant\",\"Data Scientist\"],\"yaxis\":\"y\",\"type\":\"bar\"}],                        {\"template\":{\"data\":{\"barpolar\":[{\"marker\":{\"line\":{\"color\":\"white\",\"width\":0.5},\"pattern\":{\"fillmode\":\"overlay\",\"size\":10,\"solidity\":0.2}},\"type\":\"barpolar\"}],\"bar\":[{\"error_x\":{\"color\":\"#2a3f5f\"},\"error_y\":{\"color\":\"#2a3f5f\"},\"marker\":{\"line\":{\"color\":\"white\",\"width\":0.5},\"pattern\":{\"fillmode\":\"overlay\",\"size\":10,\"solidity\":0.2}},\"type\":\"bar\"}],\"carpet\":[{\"aaxis\":{\"endlinecolor\":\"#2a3f5f\",\"gridcolor\":\"#C8D4E3\",\"linecolor\":\"#C8D4E3\",\"minorgridcolor\":\"#C8D4E3\",\"startlinecolor\":\"#2a3f5f\"},\"baxis\":{\"endlinecolor\":\"#2a3f5f\",\"gridcolor\":\"#C8D4E3\",\"linecolor\":\"#C8D4E3\",\"minorgridcolor\":\"#C8D4E3\",\"startlinecolor\":\"#2a3f5f\"},\"type\":\"carpet\"}],\"choropleth\":[{\"colorbar\":{\"outlinewidth\":0,\"ticks\":\"\"},\"type\":\"choropleth\"}],\"contourcarpet\":[{\"colorbar\":{\"outlinewidth\":0,\"ticks\":\"\"},\"type\":\"contourcarpet\"}],\"contour\":[{\"colorbar\":{\"outlinewidth\":0,\"ticks\":\"\"},\"colorscale\":[[0.0,\"#0d0887\"],[0.1111111111111111,\"#46039f\"],[0.2222222222222222,\"#7201a8\"],[0.3333333333333333,\"#9c179e\"],[0.4444444444444444,\"#bd3786\"],[0.5555555555555556,\"#d8576b\"],[0.6666666666666666,\"#ed7953\"],[0.7777777777777778,\"#fb9f3a\"],[0.8888888888888888,\"#fdca26\"],[1.0,\"#f0f921\"]],\"type\":\"contour\"}],\"heatmapgl\":[{\"colorbar\":{\"outlinewidth\":0,\"ticks\":\"\"},\"colorscale\":[[0.0,\"#0d0887\"],[0.1111111111111111,\"#46039f\"],[0.2222222222222222,\"#7201a8\"],[0.3333333333333333,\"#9c179e\"],[0.4444444444444444,\"#bd3786\"],[0.5555555555555556,\"#d8576b\"],[0.6666666666666666,\"#ed7953\"],[0.7777777777777778,\"#fb9f3a\"],[0.8888888888888888,\"#fdca26\"],[1.0,\"#f0f921\"]],\"type\":\"heatmapgl\"}],\"heatmap\":[{\"colorbar\":{\"outlinewidth\":0,\"ticks\":\"\"},\"colorscale\":[[0.0,\"#0d0887\"],[0.1111111111111111,\"#46039f\"],[0.2222222222222222,\"#7201a8\"],[0.3333333333333333,\"#9c179e\"],[0.4444444444444444,\"#bd3786\"],[0.5555555555555556,\"#d8576b\"],[0.6666666666666666,\"#ed7953\"],[0.7777777777777778,\"#fb9f3a\"],[0.8888888888888888,\"#fdca26\"],[1.0,\"#f0f921\"]],\"type\":\"heatmap\"}],\"histogram2dcontour\":[{\"colorbar\":{\"outlinewidth\":0,\"ticks\":\"\"},\"colorscale\":[[0.0,\"#0d0887\"],[0.1111111111111111,\"#46039f\"],[0.2222222222222222,\"#7201a8\"],[0.3333333333333333,\"#9c179e\"],[0.4444444444444444,\"#bd3786\"],[0.5555555555555556,\"#d8576b\"],[0.6666666666666666,\"#ed7953\"],[0.7777777777777778,\"#fb9f3a\"],[0.8888888888888888,\"#fdca26\"],[1.0,\"#f0f921\"]],\"type\":\"histogram2dcontour\"}],\"histogram2d\":[{\"colorbar\":{\"outlinewidth\":0,\"ticks\":\"\"},\"colorscale\":[[0.0,\"#0d0887\"],[0.1111111111111111,\"#46039f\"],[0.2222222222222222,\"#7201a8\"],[0.3333333333333333,\"#9c179e\"],[0.4444444444444444,\"#bd3786\"],[0.5555555555555556,\"#d8576b\"],[0.6666666666666666,\"#ed7953\"],[0.7777777777777778,\"#fb9f3a\"],[0.8888888888888888,\"#fdca26\"],[1.0,\"#f0f921\"]],\"type\":\"histogram2d\"}],\"histogram\":[{\"marker\":{\"pattern\":{\"fillmode\":\"overlay\",\"size\":10,\"solidity\":0.2}},\"type\":\"histogram\"}],\"mesh3d\":[{\"colorbar\":{\"outlinewidth\":0,\"ticks\":\"\"},\"type\":\"mesh3d\"}],\"parcoords\":[{\"line\":{\"colorbar\":{\"outlinewidth\":0,\"ticks\":\"\"}},\"type\":\"parcoords\"}],\"pie\":[{\"automargin\":true,\"type\":\"pie\"}],\"scatter3d\":[{\"line\":{\"colorbar\":{\"outlinewidth\":0,\"ticks\":\"\"}},\"marker\":{\"colorbar\":{\"outlinewidth\":0,\"ticks\":\"\"}},\"type\":\"scatter3d\"}],\"scattercarpet\":[{\"marker\":{\"colorbar\":{\"outlinewidth\":0,\"ticks\":\"\"}},\"type\":\"scattercarpet\"}],\"scattergeo\":[{\"marker\":{\"colorbar\":{\"outlinewidth\":0,\"ticks\":\"\"}},\"type\":\"scattergeo\"}],\"scattergl\":[{\"marker\":{\"colorbar\":{\"outlinewidth\":0,\"ticks\":\"\"}},\"type\":\"scattergl\"}],\"scattermapbox\":[{\"marker\":{\"colorbar\":{\"outlinewidth\":0,\"ticks\":\"\"}},\"type\":\"scattermapbox\"}],\"scatterpolargl\":[{\"marker\":{\"colorbar\":{\"outlinewidth\":0,\"ticks\":\"\"}},\"type\":\"scatterpolargl\"}],\"scatterpolar\":[{\"marker\":{\"colorbar\":{\"outlinewidth\":0,\"ticks\":\"\"}},\"type\":\"scatterpolar\"}],\"scatter\":[{\"fillpattern\":{\"fillmode\":\"overlay\",\"size\":10,\"solidity\":0.2},\"type\":\"scatter\"}],\"scatterternary\":[{\"marker\":{\"colorbar\":{\"outlinewidth\":0,\"ticks\":\"\"}},\"type\":\"scatterternary\"}],\"surface\":[{\"colorbar\":{\"outlinewidth\":0,\"ticks\":\"\"},\"colorscale\":[[0.0,\"#0d0887\"],[0.1111111111111111,\"#46039f\"],[0.2222222222222222,\"#7201a8\"],[0.3333333333333333,\"#9c179e\"],[0.4444444444444444,\"#bd3786\"],[0.5555555555555556,\"#d8576b\"],[0.6666666666666666,\"#ed7953\"],[0.7777777777777778,\"#fb9f3a\"],[0.8888888888888888,\"#fdca26\"],[1.0,\"#f0f921\"]],\"type\":\"surface\"}],\"table\":[{\"cells\":{\"fill\":{\"color\":\"#EBF0F8\"},\"line\":{\"color\":\"white\"}},\"header\":{\"fill\":{\"color\":\"#C8D4E3\"},\"line\":{\"color\":\"white\"}},\"type\":\"table\"}]},\"layout\":{\"annotationdefaults\":{\"arrowcolor\":\"#2a3f5f\",\"arrowhead\":0,\"arrowwidth\":1},\"autotypenumbers\":\"strict\",\"coloraxis\":{\"colorbar\":{\"outlinewidth\":0,\"ticks\":\"\"}},\"colorscale\":{\"diverging\":[[0,\"#8e0152\"],[0.1,\"#c51b7d\"],[0.2,\"#de77ae\"],[0.3,\"#f1b6da\"],[0.4,\"#fde0ef\"],[0.5,\"#f7f7f7\"],[0.6,\"#e6f5d0\"],[0.7,\"#b8e186\"],[0.8,\"#7fbc41\"],[0.9,\"#4d9221\"],[1,\"#276419\"]],\"sequential\":[[0.0,\"#0d0887\"],[0.1111111111111111,\"#46039f\"],[0.2222222222222222,\"#7201a8\"],[0.3333333333333333,\"#9c179e\"],[0.4444444444444444,\"#bd3786\"],[0.5555555555555556,\"#d8576b\"],[0.6666666666666666,\"#ed7953\"],[0.7777777777777778,\"#fb9f3a\"],[0.8888888888888888,\"#fdca26\"],[1.0,\"#f0f921\"]],\"sequentialminus\":[[0.0,\"#0d0887\"],[0.1111111111111111,\"#46039f\"],[0.2222222222222222,\"#7201a8\"],[0.3333333333333333,\"#9c179e\"],[0.4444444444444444,\"#bd3786\"],[0.5555555555555556,\"#d8576b\"],[0.6666666666666666,\"#ed7953\"],[0.7777777777777778,\"#fb9f3a\"],[0.8888888888888888,\"#fdca26\"],[1.0,\"#f0f921\"]]},\"colorway\":[\"#636efa\",\"#EF553B\",\"#00cc96\",\"#ab63fa\",\"#FFA15A\",\"#19d3f3\",\"#FF6692\",\"#B6E880\",\"#FF97FF\",\"#FECB52\"],\"font\":{\"color\":\"#2a3f5f\"},\"geo\":{\"bgcolor\":\"white\",\"lakecolor\":\"white\",\"landcolor\":\"white\",\"showlakes\":true,\"showland\":true,\"subunitcolor\":\"#C8D4E3\"},\"hoverlabel\":{\"align\":\"left\"},\"hovermode\":\"closest\",\"mapbox\":{\"style\":\"light\"},\"paper_bgcolor\":\"white\",\"plot_bgcolor\":\"white\",\"polar\":{\"angularaxis\":{\"gridcolor\":\"#EBF0F8\",\"linecolor\":\"#EBF0F8\",\"ticks\":\"\"},\"bgcolor\":\"white\",\"radialaxis\":{\"gridcolor\":\"#EBF0F8\",\"linecolor\":\"#EBF0F8\",\"ticks\":\"\"}},\"scene\":{\"xaxis\":{\"backgroundcolor\":\"white\",\"gridcolor\":\"#DFE8F3\",\"gridwidth\":2,\"linecolor\":\"#EBF0F8\",\"showbackground\":true,\"ticks\":\"\",\"zerolinecolor\":\"#EBF0F8\"},\"yaxis\":{\"backgroundcolor\":\"white\",\"gridcolor\":\"#DFE8F3\",\"gridwidth\":2,\"linecolor\":\"#EBF0F8\",\"showbackground\":true,\"ticks\":\"\",\"zerolinecolor\":\"#EBF0F8\"},\"zaxis\":{\"backgroundcolor\":\"white\",\"gridcolor\":\"#DFE8F3\",\"gridwidth\":2,\"linecolor\":\"#EBF0F8\",\"showbackground\":true,\"ticks\":\"\",\"zerolinecolor\":\"#EBF0F8\"}},\"shapedefaults\":{\"line\":{\"color\":\"#2a3f5f\"}},\"ternary\":{\"aaxis\":{\"gridcolor\":\"#DFE8F3\",\"linecolor\":\"#A2B1C6\",\"ticks\":\"\"},\"baxis\":{\"gridcolor\":\"#DFE8F3\",\"linecolor\":\"#A2B1C6\",\"ticks\":\"\"},\"bgcolor\":\"white\",\"caxis\":{\"gridcolor\":\"#DFE8F3\",\"linecolor\":\"#A2B1C6\",\"ticks\":\"\"}},\"title\":{\"x\":0.05},\"xaxis\":{\"automargin\":true,\"gridcolor\":\"#EBF0F8\",\"linecolor\":\"#EBF0F8\",\"ticks\":\"\",\"title\":{\"standoff\":15},\"zerolinecolor\":\"#EBF0F8\",\"zerolinewidth\":2},\"yaxis\":{\"automargin\":true,\"gridcolor\":\"#EBF0F8\",\"linecolor\":\"#EBF0F8\",\"ticks\":\"\",\"title\":{\"standoff\":15},\"zerolinecolor\":\"#EBF0F8\",\"zerolinewidth\":2}}},\"xaxis\":{\"anchor\":\"y\",\"domain\":[0.0,1.0],\"title\":{\"text\":\"Average Salary in USD\"}},\"yaxis\":{\"anchor\":\"x\",\"domain\":[0.0,1.0],\"title\":{\"text\":\"Job Title\"},\"categoryorder\":\"total ascending\"},\"legend\":{\"tracegroupgap\":0},\"title\":{\"text\":\"Top 10 Job Titles with the Lowest Average Salaries\"},\"barmode\":\"relative\"},                        {\"responsive\": true}                    ).then(function(){\n                            \nvar gd = document.getElementById('3780221e-7b2c-45fc-9ad5-9bcedac4e87a');\nvar x = new MutationObserver(function (mutations, observer) {{\n        var display = window.getComputedStyle(gd).display;\n        if (!display || display === 'none') {{\n            console.log([gd, 'removed!']);\n            Plotly.purge(gd);\n            observer.disconnect();\n        }}\n}});\n\n// Listen for the removal of the full notebook cells\nvar notebookContainer = gd.closest('#notebook-container');\nif (notebookContainer) {{\n    x.observe(notebookContainer, {childList: true});\n}}\n\n// Listen for the clearing of the current output cell\nvar outputEl = gd.closest('.output');\nif (outputEl) {{\n    x.observe(outputEl, {childList: true});\n}}\n\n                        })                };                });            </script>        </div>"
          },
          "metadata": {}
        }
      ]
    },
    {
      "cell_type": "markdown",
      "source": [
        "<a id='3'></a>\n",
        "<p style=\"background-color:#000080;font-family:newtimeroman;color:#ffffff;font-size:150%;text-align:center;border-radius:10px; padding: 10px;\">\n",
        "<b>3. How does the average salary vary between different employment types (e.g., full-time, part-time, contract, freelance)?</b>\n",
        "</p>\n"
      ],
      "metadata": {
        "id": "nwBtEYXjvH_Y"
      }
    },
    {
      "cell_type": "code",
      "source": [
        "import pandas as pd\n",
        "import plotly.express as px\n",
        "\n",
        "# Define a dictionary to map abbreviations to full names\n",
        "employment_type_mapping = {\n",
        "    'FT': 'Full-time',\n",
        "    'PT': 'Part-time',\n",
        "    'CT': 'Contract',\n",
        "    'FL': 'Freelance'\n",
        "}\n",
        "\n",
        "# Replace the abbreviations with full names in the DataFrame\n",
        "data['employment_type'] = data['employment_type'].map(employment_type_mapping)\n",
        "\n",
        "# Verify the mapping\n",
        "print(data['employment_type'].unique())\n"
      ],
      "metadata": {
        "execution": {
          "iopub.status.busy": "2024-07-14T08:19:28.728087Z",
          "iopub.execute_input": "2024-07-14T08:19:28.728495Z",
          "iopub.status.idle": "2024-07-14T08:19:28.73677Z",
          "shell.execute_reply.started": "2024-07-14T08:19:28.728466Z",
          "shell.execute_reply": "2024-07-14T08:19:28.735571Z"
        },
        "trusted": true,
        "id": "EEuizUhgvH_Y",
        "outputId": "512c2208-84b4-4abb-992b-430808908900"
      },
      "execution_count": null,
      "outputs": [
        {
          "name": "stdout",
          "text": "['Full-time' 'Part-time' 'Contract' 'Freelance']\n",
          "output_type": "stream"
        }
      ]
    },
    {
      "cell_type": "code",
      "source": [
        "# Calculate average salary for each employment type\n",
        "avg_salary_by_employment = data.groupby('employment_type')['salary_in_usd'].mean().sort_values()\n",
        "print(avg_salary_by_employment)\n"
      ],
      "metadata": {
        "execution": {
          "iopub.status.busy": "2024-07-14T08:19:31.2753Z",
          "iopub.execute_input": "2024-07-14T08:19:31.275658Z",
          "iopub.status.idle": "2024-07-14T08:19:31.28272Z",
          "shell.execute_reply.started": "2024-07-14T08:19:31.275628Z",
          "shell.execute_reply": "2024-07-14T08:19:31.281846Z"
        },
        "trusted": true,
        "id": "rdVTRaxpvH_Y",
        "outputId": "d946aa03-3709-484a-d155-26b838121fb6"
      },
      "execution_count": null,
      "outputs": [
        {
          "name": "stdout",
          "text": "employment_type\nPart-time     23748.142857\nFreelance     30666.666667\nFull-time    100945.567100\nContract     222750.000000\nName: salary_in_usd, dtype: float64\n",
          "output_type": "stream"
        }
      ]
    },
    {
      "cell_type": "code",
      "source": [
        "# Plot the average salary for each employment type\n",
        "fig_employment = px.bar(avg_salary_by_employment.reset_index(),\n",
        "                        x='employment_type',\n",
        "                        y='salary_in_usd',\n",
        "                        title='Average Salary by Employment Type',\n",
        "                        labels={'salary_in_usd': 'Average Salary in USD', 'employment_type': 'Employment Type'},\n",
        "                        hover_data={'salary_in_usd': ':.2f'})\n",
        "\n",
        "# Update layout for better appearance\n",
        "fig_employment.update_layout(template='plotly_white',\n",
        "                             title_x=0.5,\n",
        "                             title_font=dict(size=20),\n",
        "                             xaxis_title='Employment Type',\n",
        "                             yaxis_title='Average Salary in USD')\n",
        "\n",
        "fig_employment.show()\n"
      ],
      "metadata": {
        "execution": {
          "iopub.status.busy": "2024-07-14T08:19:33.427143Z",
          "iopub.execute_input": "2024-07-14T08:19:33.42801Z",
          "iopub.status.idle": "2024-07-14T08:19:33.520329Z",
          "shell.execute_reply.started": "2024-07-14T08:19:33.427978Z",
          "shell.execute_reply": "2024-07-14T08:19:33.519442Z"
        },
        "trusted": true,
        "id": "POmViRcCvH_Y",
        "outputId": "1a89de31-bb0c-49af-af02-1341cbca8417"
      },
      "execution_count": null,
      "outputs": [
        {
          "output_type": "display_data",
          "data": {
            "text/html": "<div>                            <div id=\"2ba9db19-991a-43f6-9f8c-fc2615768aff\" class=\"plotly-graph-div\" style=\"height:525px; width:100%;\"></div>            <script type=\"text/javascript\">                require([\"plotly\"], function(Plotly) {                    window.PLOTLYENV=window.PLOTLYENV || {};                                    if (document.getElementById(\"2ba9db19-991a-43f6-9f8c-fc2615768aff\")) {                    Plotly.newPlot(                        \"2ba9db19-991a-43f6-9f8c-fc2615768aff\",                        [{\"alignmentgroup\":\"True\",\"hovertemplate\":\"Employment Type=%{x}\\u003cbr\\u003eAverage Salary in USD=%{y:.2f}\\u003cextra\\u003e\\u003c\\u002fextra\\u003e\",\"legendgroup\":\"\",\"marker\":{\"color\":\"#636efa\",\"pattern\":{\"shape\":\"\"}},\"name\":\"\",\"offsetgroup\":\"\",\"orientation\":\"v\",\"showlegend\":false,\"textposition\":\"auto\",\"x\":[\"Part-time\",\"Freelance\",\"Full-time\",\"Contract\"],\"xaxis\":\"x\",\"y\":[23748.14285714286,30666.666666666668,100945.5670995671,222750.0],\"yaxis\":\"y\",\"type\":\"bar\"}],                        {\"template\":{\"data\":{\"barpolar\":[{\"marker\":{\"line\":{\"color\":\"white\",\"width\":0.5},\"pattern\":{\"fillmode\":\"overlay\",\"size\":10,\"solidity\":0.2}},\"type\":\"barpolar\"}],\"bar\":[{\"error_x\":{\"color\":\"#2a3f5f\"},\"error_y\":{\"color\":\"#2a3f5f\"},\"marker\":{\"line\":{\"color\":\"white\",\"width\":0.5},\"pattern\":{\"fillmode\":\"overlay\",\"size\":10,\"solidity\":0.2}},\"type\":\"bar\"}],\"carpet\":[{\"aaxis\":{\"endlinecolor\":\"#2a3f5f\",\"gridcolor\":\"#C8D4E3\",\"linecolor\":\"#C8D4E3\",\"minorgridcolor\":\"#C8D4E3\",\"startlinecolor\":\"#2a3f5f\"},\"baxis\":{\"endlinecolor\":\"#2a3f5f\",\"gridcolor\":\"#C8D4E3\",\"linecolor\":\"#C8D4E3\",\"minorgridcolor\":\"#C8D4E3\",\"startlinecolor\":\"#2a3f5f\"},\"type\":\"carpet\"}],\"choropleth\":[{\"colorbar\":{\"outlinewidth\":0,\"ticks\":\"\"},\"type\":\"choropleth\"}],\"contourcarpet\":[{\"colorbar\":{\"outlinewidth\":0,\"ticks\":\"\"},\"type\":\"contourcarpet\"}],\"contour\":[{\"colorbar\":{\"outlinewidth\":0,\"ticks\":\"\"},\"colorscale\":[[0.0,\"#0d0887\"],[0.1111111111111111,\"#46039f\"],[0.2222222222222222,\"#7201a8\"],[0.3333333333333333,\"#9c179e\"],[0.4444444444444444,\"#bd3786\"],[0.5555555555555556,\"#d8576b\"],[0.6666666666666666,\"#ed7953\"],[0.7777777777777778,\"#fb9f3a\"],[0.8888888888888888,\"#fdca26\"],[1.0,\"#f0f921\"]],\"type\":\"contour\"}],\"heatmapgl\":[{\"colorbar\":{\"outlinewidth\":0,\"ticks\":\"\"},\"colorscale\":[[0.0,\"#0d0887\"],[0.1111111111111111,\"#46039f\"],[0.2222222222222222,\"#7201a8\"],[0.3333333333333333,\"#9c179e\"],[0.4444444444444444,\"#bd3786\"],[0.5555555555555556,\"#d8576b\"],[0.6666666666666666,\"#ed7953\"],[0.7777777777777778,\"#fb9f3a\"],[0.8888888888888888,\"#fdca26\"],[1.0,\"#f0f921\"]],\"type\":\"heatmapgl\"}],\"heatmap\":[{\"colorbar\":{\"outlinewidth\":0,\"ticks\":\"\"},\"colorscale\":[[0.0,\"#0d0887\"],[0.1111111111111111,\"#46039f\"],[0.2222222222222222,\"#7201a8\"],[0.3333333333333333,\"#9c179e\"],[0.4444444444444444,\"#bd3786\"],[0.5555555555555556,\"#d8576b\"],[0.6666666666666666,\"#ed7953\"],[0.7777777777777778,\"#fb9f3a\"],[0.8888888888888888,\"#fdca26\"],[1.0,\"#f0f921\"]],\"type\":\"heatmap\"}],\"histogram2dcontour\":[{\"colorbar\":{\"outlinewidth\":0,\"ticks\":\"\"},\"colorscale\":[[0.0,\"#0d0887\"],[0.1111111111111111,\"#46039f\"],[0.2222222222222222,\"#7201a8\"],[0.3333333333333333,\"#9c179e\"],[0.4444444444444444,\"#bd3786\"],[0.5555555555555556,\"#d8576b\"],[0.6666666666666666,\"#ed7953\"],[0.7777777777777778,\"#fb9f3a\"],[0.8888888888888888,\"#fdca26\"],[1.0,\"#f0f921\"]],\"type\":\"histogram2dcontour\"}],\"histogram2d\":[{\"colorbar\":{\"outlinewidth\":0,\"ticks\":\"\"},\"colorscale\":[[0.0,\"#0d0887\"],[0.1111111111111111,\"#46039f\"],[0.2222222222222222,\"#7201a8\"],[0.3333333333333333,\"#9c179e\"],[0.4444444444444444,\"#bd3786\"],[0.5555555555555556,\"#d8576b\"],[0.6666666666666666,\"#ed7953\"],[0.7777777777777778,\"#fb9f3a\"],[0.8888888888888888,\"#fdca26\"],[1.0,\"#f0f921\"]],\"type\":\"histogram2d\"}],\"histogram\":[{\"marker\":{\"pattern\":{\"fillmode\":\"overlay\",\"size\":10,\"solidity\":0.2}},\"type\":\"histogram\"}],\"mesh3d\":[{\"colorbar\":{\"outlinewidth\":0,\"ticks\":\"\"},\"type\":\"mesh3d\"}],\"parcoords\":[{\"line\":{\"colorbar\":{\"outlinewidth\":0,\"ticks\":\"\"}},\"type\":\"parcoords\"}],\"pie\":[{\"automargin\":true,\"type\":\"pie\"}],\"scatter3d\":[{\"line\":{\"colorbar\":{\"outlinewidth\":0,\"ticks\":\"\"}},\"marker\":{\"colorbar\":{\"outlinewidth\":0,\"ticks\":\"\"}},\"type\":\"scatter3d\"}],\"scattercarpet\":[{\"marker\":{\"colorbar\":{\"outlinewidth\":0,\"ticks\":\"\"}},\"type\":\"scattercarpet\"}],\"scattergeo\":[{\"marker\":{\"colorbar\":{\"outlinewidth\":0,\"ticks\":\"\"}},\"type\":\"scattergeo\"}],\"scattergl\":[{\"marker\":{\"colorbar\":{\"outlinewidth\":0,\"ticks\":\"\"}},\"type\":\"scattergl\"}],\"scattermapbox\":[{\"marker\":{\"colorbar\":{\"outlinewidth\":0,\"ticks\":\"\"}},\"type\":\"scattermapbox\"}],\"scatterpolargl\":[{\"marker\":{\"colorbar\":{\"outlinewidth\":0,\"ticks\":\"\"}},\"type\":\"scatterpolargl\"}],\"scatterpolar\":[{\"marker\":{\"colorbar\":{\"outlinewidth\":0,\"ticks\":\"\"}},\"type\":\"scatterpolar\"}],\"scatter\":[{\"fillpattern\":{\"fillmode\":\"overlay\",\"size\":10,\"solidity\":0.2},\"type\":\"scatter\"}],\"scatterternary\":[{\"marker\":{\"colorbar\":{\"outlinewidth\":0,\"ticks\":\"\"}},\"type\":\"scatterternary\"}],\"surface\":[{\"colorbar\":{\"outlinewidth\":0,\"ticks\":\"\"},\"colorscale\":[[0.0,\"#0d0887\"],[0.1111111111111111,\"#46039f\"],[0.2222222222222222,\"#7201a8\"],[0.3333333333333333,\"#9c179e\"],[0.4444444444444444,\"#bd3786\"],[0.5555555555555556,\"#d8576b\"],[0.6666666666666666,\"#ed7953\"],[0.7777777777777778,\"#fb9f3a\"],[0.8888888888888888,\"#fdca26\"],[1.0,\"#f0f921\"]],\"type\":\"surface\"}],\"table\":[{\"cells\":{\"fill\":{\"color\":\"#EBF0F8\"},\"line\":{\"color\":\"white\"}},\"header\":{\"fill\":{\"color\":\"#C8D4E3\"},\"line\":{\"color\":\"white\"}},\"type\":\"table\"}]},\"layout\":{\"annotationdefaults\":{\"arrowcolor\":\"#2a3f5f\",\"arrowhead\":0,\"arrowwidth\":1},\"autotypenumbers\":\"strict\",\"coloraxis\":{\"colorbar\":{\"outlinewidth\":0,\"ticks\":\"\"}},\"colorscale\":{\"diverging\":[[0,\"#8e0152\"],[0.1,\"#c51b7d\"],[0.2,\"#de77ae\"],[0.3,\"#f1b6da\"],[0.4,\"#fde0ef\"],[0.5,\"#f7f7f7\"],[0.6,\"#e6f5d0\"],[0.7,\"#b8e186\"],[0.8,\"#7fbc41\"],[0.9,\"#4d9221\"],[1,\"#276419\"]],\"sequential\":[[0.0,\"#0d0887\"],[0.1111111111111111,\"#46039f\"],[0.2222222222222222,\"#7201a8\"],[0.3333333333333333,\"#9c179e\"],[0.4444444444444444,\"#bd3786\"],[0.5555555555555556,\"#d8576b\"],[0.6666666666666666,\"#ed7953\"],[0.7777777777777778,\"#fb9f3a\"],[0.8888888888888888,\"#fdca26\"],[1.0,\"#f0f921\"]],\"sequentialminus\":[[0.0,\"#0d0887\"],[0.1111111111111111,\"#46039f\"],[0.2222222222222222,\"#7201a8\"],[0.3333333333333333,\"#9c179e\"],[0.4444444444444444,\"#bd3786\"],[0.5555555555555556,\"#d8576b\"],[0.6666666666666666,\"#ed7953\"],[0.7777777777777778,\"#fb9f3a\"],[0.8888888888888888,\"#fdca26\"],[1.0,\"#f0f921\"]]},\"colorway\":[\"#636efa\",\"#EF553B\",\"#00cc96\",\"#ab63fa\",\"#FFA15A\",\"#19d3f3\",\"#FF6692\",\"#B6E880\",\"#FF97FF\",\"#FECB52\"],\"font\":{\"color\":\"#2a3f5f\"},\"geo\":{\"bgcolor\":\"white\",\"lakecolor\":\"white\",\"landcolor\":\"white\",\"showlakes\":true,\"showland\":true,\"subunitcolor\":\"#C8D4E3\"},\"hoverlabel\":{\"align\":\"left\"},\"hovermode\":\"closest\",\"mapbox\":{\"style\":\"light\"},\"paper_bgcolor\":\"white\",\"plot_bgcolor\":\"white\",\"polar\":{\"angularaxis\":{\"gridcolor\":\"#EBF0F8\",\"linecolor\":\"#EBF0F8\",\"ticks\":\"\"},\"bgcolor\":\"white\",\"radialaxis\":{\"gridcolor\":\"#EBF0F8\",\"linecolor\":\"#EBF0F8\",\"ticks\":\"\"}},\"scene\":{\"xaxis\":{\"backgroundcolor\":\"white\",\"gridcolor\":\"#DFE8F3\",\"gridwidth\":2,\"linecolor\":\"#EBF0F8\",\"showbackground\":true,\"ticks\":\"\",\"zerolinecolor\":\"#EBF0F8\"},\"yaxis\":{\"backgroundcolor\":\"white\",\"gridcolor\":\"#DFE8F3\",\"gridwidth\":2,\"linecolor\":\"#EBF0F8\",\"showbackground\":true,\"ticks\":\"\",\"zerolinecolor\":\"#EBF0F8\"},\"zaxis\":{\"backgroundcolor\":\"white\",\"gridcolor\":\"#DFE8F3\",\"gridwidth\":2,\"linecolor\":\"#EBF0F8\",\"showbackground\":true,\"ticks\":\"\",\"zerolinecolor\":\"#EBF0F8\"}},\"shapedefaults\":{\"line\":{\"color\":\"#2a3f5f\"}},\"ternary\":{\"aaxis\":{\"gridcolor\":\"#DFE8F3\",\"linecolor\":\"#A2B1C6\",\"ticks\":\"\"},\"baxis\":{\"gridcolor\":\"#DFE8F3\",\"linecolor\":\"#A2B1C6\",\"ticks\":\"\"},\"bgcolor\":\"white\",\"caxis\":{\"gridcolor\":\"#DFE8F3\",\"linecolor\":\"#A2B1C6\",\"ticks\":\"\"}},\"title\":{\"x\":0.05},\"xaxis\":{\"automargin\":true,\"gridcolor\":\"#EBF0F8\",\"linecolor\":\"#EBF0F8\",\"ticks\":\"\",\"title\":{\"standoff\":15},\"zerolinecolor\":\"#EBF0F8\",\"zerolinewidth\":2},\"yaxis\":{\"automargin\":true,\"gridcolor\":\"#EBF0F8\",\"linecolor\":\"#EBF0F8\",\"ticks\":\"\",\"title\":{\"standoff\":15},\"zerolinecolor\":\"#EBF0F8\",\"zerolinewidth\":2}}},\"xaxis\":{\"anchor\":\"y\",\"domain\":[0.0,1.0],\"title\":{\"text\":\"Employment Type\"}},\"yaxis\":{\"anchor\":\"x\",\"domain\":[0.0,1.0],\"title\":{\"text\":\"Average Salary in USD\"}},\"legend\":{\"tracegroupgap\":0},\"title\":{\"text\":\"Average Salary by Employment Type\",\"font\":{\"size\":20},\"x\":0.5},\"barmode\":\"relative\"},                        {\"responsive\": true}                    ).then(function(){\n                            \nvar gd = document.getElementById('2ba9db19-991a-43f6-9f8c-fc2615768aff');\nvar x = new MutationObserver(function (mutations, observer) {{\n        var display = window.getComputedStyle(gd).display;\n        if (!display || display === 'none') {{\n            console.log([gd, 'removed!']);\n            Plotly.purge(gd);\n            observer.disconnect();\n        }}\n}});\n\n// Listen for the removal of the full notebook cells\nvar notebookContainer = gd.closest('#notebook-container');\nif (notebookContainer) {{\n    x.observe(notebookContainer, {childList: true});\n}}\n\n// Listen for the clearing of the current output cell\nvar outputEl = gd.closest('.output');\nif (outputEl) {{\n    x.observe(outputEl, {childList: true});\n}}\n\n                        })                };                });            </script>        </div>"
          },
          "metadata": {}
        }
      ]
    },
    {
      "cell_type": "markdown",
      "source": [
        "<a id='4'></a>\n",
        "<p style=\"background-color:#000080;font-family:newtimeroman;color:#ffffff;font-size:150%;text-align:center;border-radius:10px; padding: 10px;\">\n",
        "<b>4. What is the distribution of salaries across different countries or company locations?</b>\n",
        "</p>\n"
      ],
      "metadata": {
        "id": "reAy2K0UvH_Y"
      }
    },
    {
      "cell_type": "code",
      "source": [
        "\n",
        "import plotly.express as px\n",
        "\n",
        "# Mapping of country abbreviations to full names\n",
        "country_full_names = {\n",
        "    'DE': 'Germany', 'US': 'United States', 'RU': 'Russia', 'FR': 'France', 'AT': 'Austria',\n",
        "    'CA': 'Canada', 'UA': 'Ukraine', 'NG': 'Nigeria', 'IN': 'India', 'ES': 'Spain',\n",
        "    'PL': 'Poland', 'GB': 'United Kingdom', 'PT': 'Portugal', 'DK': 'Denmark', 'SG': 'Singapore',\n",
        "    'MX': 'Mexico', 'TR': 'Turkey', 'NL': 'Netherlands', 'AE': 'United Arab Emirates', 'JP': 'Japan',\n",
        "    'CN': 'China', 'HU': 'Hungary', 'KE': 'Kenya', 'CO': 'Colombia', 'NZ': 'New Zealand',\n",
        "    'IR': 'Iran', 'CL': 'Chile', 'PK': 'Pakistan', 'BE': 'Belgium', 'GR': 'Greece',\n",
        "    'SI': 'Slovenia', 'BR': 'Brazil', 'CH': 'Switzerland', 'IT': 'Italy', 'MD': 'Moldova',\n",
        "    'LU': 'Luxembourg', 'VN': 'Vietnam', 'AS': 'American Samoa', 'HR': 'Croatia', 'IL': 'Israel',\n",
        "    'MT': 'Malta'\n",
        "}\n",
        "\n",
        "# Map full names to the dataset\n",
        "data['company_location_full'] = data['company_location'].map(country_full_names)\n",
        "\n",
        "# Create a box plot for salary distribution across different company locations with full names on hover\n",
        "fig = px.box(data, x='company_location', y='salary_in_usd',\n",
        "             title='Distribution of Salaries Across Different Company Locations',\n",
        "             labels={'salary_in_usd': 'Salary in USD', 'company_location': 'Company Location'},\n",
        "             points='all',  # Show all points\n",
        "             hover_data=['company_location_full'],  # Add full country names to hover data\n",
        "             width=1200, height=600)  # Adjust the width and height for better visibility\n",
        "\n",
        "# Update layout for better readability\n",
        "fig.update_layout(\n",
        "    title_font_size=20,\n",
        "    xaxis_title_font_size=16,\n",
        "    yaxis_title_font_size=16,\n",
        "    font=dict(size=14)\n",
        ")\n",
        "\n",
        "fig.show()\n"
      ],
      "metadata": {
        "execution": {
          "iopub.status.busy": "2024-07-14T08:46:59.660411Z",
          "iopub.execute_input": "2024-07-14T08:46:59.66105Z",
          "iopub.status.idle": "2024-07-14T08:46:59.755683Z",
          "shell.execute_reply.started": "2024-07-14T08:46:59.661015Z",
          "shell.execute_reply": "2024-07-14T08:46:59.754737Z"
        },
        "trusted": true,
        "id": "KT3PpuklvH_Z",
        "outputId": "5147e1c3-d6fe-4d79-97e5-6b801ce01282"
      },
      "execution_count": null,
      "outputs": [
        {
          "output_type": "display_data",
          "data": {
            "text/html": "<div>                            <div id=\"e4291746-752d-4df7-892e-86ad61266741\" class=\"plotly-graph-div\" style=\"height:600px; width:1200px;\"></div>            <script type=\"text/javascript\">                require([\"plotly\"], function(Plotly) {                    window.PLOTLYENV=window.PLOTLYENV || {};                                    if (document.getElementById(\"e4291746-752d-4df7-892e-86ad61266741\")) {                    Plotly.newPlot(                        \"e4291746-752d-4df7-892e-86ad61266741\",                        [{\"alignmentgroup\":\"True\",\"boxpoints\":\"all\",\"customdata\":[[\"Germany\"],[\"United States\"],[\"Russia\"],[\"Russia\"],[\"United States\"],[\"United States\"],[\"United States\"],[\"France\"],[\"Austria\"],[\"Canada\"],[\"United States\"],[\"Ukraine\"],[\"Canada\"],[\"United States\"],[\"United States\"],[\"United States\"],[\"United States\"],[\"United States\"],[\"United States\"],[\"Nigeria\"],[\"United States\"],[\"India\"],[\"United States\"],[\"Canada\"],[\"Spain\"],[\"Poland\"],[\"Poland\"],[\"United States\"],[\"United Kingdom\"],[\"United States\"],[\"France\"],[\"United States\"],[\"Nigeria\"],[\"United States\"],[\"United States\"],[\"Germany\"],[\"United States\"],[\"United States\"],[\"United States\"],[\"United States\"],[\"France\"],[\"United States\"],[\"United States\"],[\"Spain\"],[\"United States\"],[\"Germany\"],[\"Portugal\"],[\"Denmark\"],[\"United Kingdom\"],[\"United Kingdom\"],[\"Germany\"],[\"India\"],[\"United States\"],[\"United States\"],[\"Canada\"],[\"United Kingdom\"],[\"United States\"],[\"United Kingdom\"],[\"United States\"],[\"United States\"],[\"Germany\"],[\"United States\"],[\"United States\"],[\"United States\"],[\"United Kingdom\"],[\"Singapore\"],[\"India\"],[\"United States\"],[\"United States\"],[\"United States\"],[\"United States\"],[\"United States\"],[\"United States\"],[\"United States\"],[\"India\"],[\"Portugal\"],[\"United States\"],[\"France\"],[\"India\"],[\"Mexico\"],[\"United States\"],[\"United Kingdom\"],[\"Turkey\"],[\"France\"],[\"United Kingdom\"],[\"United States\"],[\"Canada\"],[\"United States\"],[\"United States\"],[\"Canada\"],[\"India\"],[\"Netherlands\"],[\"United Arab Emirates\"],[\"Canada\"],[\"Japan\"],[\"United States\"],[\"United States\"],[\"United States\"],[\"United Kingdom\"],[\"United States\"],[\"United States\"],[\"United States\"],[\"Germany\"],[\"United States\"],[\"United States\"],[\"Netherlands\"],[\"China\"],[\"United States\"],[\"United States\"],[\"Turkey\"],[\"Spain\"],[\"United States\"],[\"United States\"],[\"France\"],[\"Germany\"],[\"Germany\"],[\"United States\"],[\"United States\"],[\"Germany\"],[\"Turkey\"],[\"United States\"],[\"United States\"],[\"United States\"],[\"Germany\"],[\"India\"],[\"India\"],[\"Germany\"],[\"United States\"],[\"Germany\"],[\"India\"],[\"Canada\"],[\"Hungary\"],[\"United States\"],[\"Germany\"],[\"United States\"],[\"India\"],[\"Kenya\"],[\"United States\"],[\"Canada\"],[\"United States\"],[\"United States\"],[\"Colombia\"],[\"New Zealand\"],[\"France\"],[\"India\"],[\"Spain\"],[\"United Kingdom\"],[\"Iran\"],[\"France\"],[\"United States\"],[\"United States\"],[\"Germany\"],[\"India\"],[\"United States\"],[\"United States\"],[\"Chile\"],[\"Mexico\"],[\"United States\"],[\"Austria\"],[\"United States\"],[\"Spain\"],[\"United States\"],[\"United States\"],[\"Canada\"],[\"United Kingdom\"],[\"India\"],[\"United Kingdom\"],[\"Poland\"],[\"Pakistan\"],[\"Japan\"],[\"United Kingdom\"],[\"Belgium\"],[\"India\"],[\"United States\"],[\"Denmark\"],[\"Germany\"],[\"China\"],[\"India\"],[\"Greece\"],[\"United States\"],[\"United Kingdom\"],[\"France\"],[\"Slovenia\"],[\"United States\"],[\"United States\"],[\"United States\"],[\"United States\"],[\"Denmark\"],[\"United States\"],[\"United States\"],[\"Greece\"],[\"United States\"],[\"Brazil\"],[\"United States\"],[\"Switzerland\"],[\"France\"],[\"United States\"],[\"Germany\"],[\"Germany\"],[\"Italy\"],[\"United States\"],[\"United States\"],[\"United States\"],[\"Canada\"],[\"United Kingdom\"],[\"Pakistan\"],[\"United Kingdom\"],[\"Japan\"],[\"France\"],[\"Moldova\"],[\"United States\"],[\"United States\"],[\"Brazil\"],[\"Luxembourg\"],[\"Germany\"],[\"Germany\"],[\"Spain\"],[\"Spain\"],[\"Vietnam\"],[\"American Samoa\"],[\"Austria\"],[\"Luxembourg\"],[\"United States\"],[\"United States\"],[\"India\"],[\"United States\"],[\"United States\"],[\"United States\"],[\"United States\"],[\"Netherlands\"],[\"United States\"],[\"United States\"],[\"United States\"],[\"United States\"],[\"Croatia\"],[\"Japan\"],[\"Israel\"],[\"United States\"],[\"Malta\"],[\"United States\"],[\"United States\"],[\"United States\"],[\"United States\"],[\"United States\"],[\"India\"]],\"hovertemplate\":\"Company Location=%{x}\\u003cbr\\u003eSalary in USD=%{y}\\u003cbr\\u003ecompany_location_full=%{customdata[0]}\\u003cextra\\u003e\\u003c\\u002fextra\\u003e\",\"legendgroup\":\"\",\"marker\":{\"color\":\"#636efa\"},\"name\":\"\",\"notched\":false,\"offsetgroup\":\"\",\"orientation\":\"v\",\"showlegend\":false,\"x\":[\"DE\",\"US\",\"RU\",\"RU\",\"US\",\"US\",\"US\",\"FR\",\"AT\",\"CA\",\"US\",\"UA\",\"CA\",\"US\",\"US\",\"US\",\"US\",\"US\",\"US\",\"NG\",\"US\",\"IN\",\"US\",\"CA\",\"ES\",\"PL\",\"PL\",\"US\",\"GB\",\"US\",\"FR\",\"US\",\"NG\",\"US\",\"US\",\"DE\",\"US\",\"US\",\"US\",\"US\",\"FR\",\"US\",\"US\",\"ES\",\"US\",\"DE\",\"PT\",\"DK\",\"GB\",\"GB\",\"DE\",\"IN\",\"US\",\"US\",\"CA\",\"GB\",\"US\",\"GB\",\"US\",\"US\",\"DE\",\"US\",\"US\",\"US\",\"GB\",\"SG\",\"IN\",\"US\",\"US\",\"US\",\"US\",\"US\",\"US\",\"US\",\"IN\",\"PT\",\"US\",\"FR\",\"IN\",\"MX\",\"US\",\"GB\",\"TR\",\"FR\",\"GB\",\"US\",\"CA\",\"US\",\"US\",\"CA\",\"IN\",\"NL\",\"AE\",\"CA\",\"JP\",\"US\",\"US\",\"US\",\"GB\",\"US\",\"US\",\"US\",\"DE\",\"US\",\"US\",\"NL\",\"CN\",\"US\",\"US\",\"TR\",\"ES\",\"US\",\"US\",\"FR\",\"DE\",\"DE\",\"US\",\"US\",\"DE\",\"TR\",\"US\",\"US\",\"US\",\"DE\",\"IN\",\"IN\",\"DE\",\"US\",\"DE\",\"IN\",\"CA\",\"HU\",\"US\",\"DE\",\"US\",\"IN\",\"KE\",\"US\",\"CA\",\"US\",\"US\",\"CO\",\"NZ\",\"FR\",\"IN\",\"ES\",\"GB\",\"IR\",\"FR\",\"US\",\"US\",\"DE\",\"IN\",\"US\",\"US\",\"CL\",\"MX\",\"US\",\"AT\",\"US\",\"ES\",\"US\",\"US\",\"CA\",\"GB\",\"IN\",\"GB\",\"PL\",\"PK\",\"JP\",\"GB\",\"BE\",\"IN\",\"US\",\"DK\",\"DE\",\"CN\",\"IN\",\"GR\",\"US\",\"GB\",\"FR\",\"SI\",\"US\",\"US\",\"US\",\"US\",\"DK\",\"US\",\"US\",\"GR\",\"US\",\"BR\",\"US\",\"CH\",\"FR\",\"US\",\"DE\",\"DE\",\"IT\",\"US\",\"US\",\"US\",\"CA\",\"GB\",\"PK\",\"GB\",\"JP\",\"FR\",\"MD\",\"US\",\"US\",\"BR\",\"LU\",\"DE\",\"DE\",\"ES\",\"ES\",\"VN\",\"AS\",\"AT\",\"LU\",\"US\",\"US\",\"IN\",\"US\",\"US\",\"US\",\"US\",\"NL\",\"US\",\"US\",\"US\",\"US\",\"HR\",\"JP\",\"IL\",\"US\",\"MT\",\"US\",\"US\",\"US\",\"US\",\"US\",\"IN\"],\"x0\":\" \",\"xaxis\":\"x\",\"y\":[64369,68428,85000,230000,125000,120000,450000,46759,74130,127543,144000,13400,75966,150000,103000,153000,90000,90000,60000,50000,12000,5423,270000,54376,47681,154963,28801,110000,83000,250000,59601,80000,10000,138000,140000,79866,170000,80000,45760,100000,53641,235000,150000,79833,225000,77481,50180,89402,103750,114125,95362,30509,150000,115000,187917,51814,106000,112872,36732,150000,15966,96554,70000,450000,76958,89514,29831,276000,188000,160000,105000,200000,174000,93000,28475,61270,90000,70139,6072,33511,170000,96833,13105,36952,72625,91000,99956,165000,80000,103954,21695,42000,115000,63971,260000,110000,180000,200000,109024,200000,256000,110000,79833,72500,185000,70329,100000,112000,150000,21843,55000,58000,100000,78340,85000,77481,105000,72000,65561,30337,111775,93150,160000,25747,66442,16949,64369,190000,143043,16271,71968,35735,135000,25032,54238,24407,9272,147000,96357,174000,135000,21844,125000,51321,40481,70329,50000,4000,39916,87000,26224,91500,22671,5695,81000,40798,2876,90000,61985,195000,38144,85000,416000,225000,56578,33899,117583,47129,8000,41689,114047,89402,5707,56000,28850,89402,43331,6072,47899,98000,66400,57217,25032,120000,20000,325000,200000,45896,160000,50000,40529,600000,13000,165000,5898,42197,185000,62726,91500,21669,110000,140000,120000,87961,62250,12000,77481,74000,152000,18000,60000,130000,19052,59601,175228,148261,38776,47204,4000,18102,91237,62726,115000,235000,19661,12000,75000,62000,73000,45773,190200,118000,138350,130800,45618,168000,119353,423000,28608,165000,412000,151000,105000,100000,94917],\"y0\":\" \",\"yaxis\":\"y\",\"type\":\"box\"}],                        {\"template\":{\"data\":{\"histogram2dcontour\":[{\"type\":\"histogram2dcontour\",\"colorbar\":{\"outlinewidth\":0,\"ticks\":\"\"},\"colorscale\":[[0.0,\"#0d0887\"],[0.1111111111111111,\"#46039f\"],[0.2222222222222222,\"#7201a8\"],[0.3333333333333333,\"#9c179e\"],[0.4444444444444444,\"#bd3786\"],[0.5555555555555556,\"#d8576b\"],[0.6666666666666666,\"#ed7953\"],[0.7777777777777778,\"#fb9f3a\"],[0.8888888888888888,\"#fdca26\"],[1.0,\"#f0f921\"]]}],\"choropleth\":[{\"type\":\"choropleth\",\"colorbar\":{\"outlinewidth\":0,\"ticks\":\"\"}}],\"histogram2d\":[{\"type\":\"histogram2d\",\"colorbar\":{\"outlinewidth\":0,\"ticks\":\"\"},\"colorscale\":[[0.0,\"#0d0887\"],[0.1111111111111111,\"#46039f\"],[0.2222222222222222,\"#7201a8\"],[0.3333333333333333,\"#9c179e\"],[0.4444444444444444,\"#bd3786\"],[0.5555555555555556,\"#d8576b\"],[0.6666666666666666,\"#ed7953\"],[0.7777777777777778,\"#fb9f3a\"],[0.8888888888888888,\"#fdca26\"],[1.0,\"#f0f921\"]]}],\"heatmap\":[{\"type\":\"heatmap\",\"colorbar\":{\"outlinewidth\":0,\"ticks\":\"\"},\"colorscale\":[[0.0,\"#0d0887\"],[0.1111111111111111,\"#46039f\"],[0.2222222222222222,\"#7201a8\"],[0.3333333333333333,\"#9c179e\"],[0.4444444444444444,\"#bd3786\"],[0.5555555555555556,\"#d8576b\"],[0.6666666666666666,\"#ed7953\"],[0.7777777777777778,\"#fb9f3a\"],[0.8888888888888888,\"#fdca26\"],[1.0,\"#f0f921\"]]}],\"heatmapgl\":[{\"type\":\"heatmapgl\",\"colorbar\":{\"outlinewidth\":0,\"ticks\":\"\"},\"colorscale\":[[0.0,\"#0d0887\"],[0.1111111111111111,\"#46039f\"],[0.2222222222222222,\"#7201a8\"],[0.3333333333333333,\"#9c179e\"],[0.4444444444444444,\"#bd3786\"],[0.5555555555555556,\"#d8576b\"],[0.6666666666666666,\"#ed7953\"],[0.7777777777777778,\"#fb9f3a\"],[0.8888888888888888,\"#fdca26\"],[1.0,\"#f0f921\"]]}],\"contourcarpet\":[{\"type\":\"contourcarpet\",\"colorbar\":{\"outlinewidth\":0,\"ticks\":\"\"}}],\"contour\":[{\"type\":\"contour\",\"colorbar\":{\"outlinewidth\":0,\"ticks\":\"\"},\"colorscale\":[[0.0,\"#0d0887\"],[0.1111111111111111,\"#46039f\"],[0.2222222222222222,\"#7201a8\"],[0.3333333333333333,\"#9c179e\"],[0.4444444444444444,\"#bd3786\"],[0.5555555555555556,\"#d8576b\"],[0.6666666666666666,\"#ed7953\"],[0.7777777777777778,\"#fb9f3a\"],[0.8888888888888888,\"#fdca26\"],[1.0,\"#f0f921\"]]}],\"surface\":[{\"type\":\"surface\",\"colorbar\":{\"outlinewidth\":0,\"ticks\":\"\"},\"colorscale\":[[0.0,\"#0d0887\"],[0.1111111111111111,\"#46039f\"],[0.2222222222222222,\"#7201a8\"],[0.3333333333333333,\"#9c179e\"],[0.4444444444444444,\"#bd3786\"],[0.5555555555555556,\"#d8576b\"],[0.6666666666666666,\"#ed7953\"],[0.7777777777777778,\"#fb9f3a\"],[0.8888888888888888,\"#fdca26\"],[1.0,\"#f0f921\"]]}],\"mesh3d\":[{\"type\":\"mesh3d\",\"colorbar\":{\"outlinewidth\":0,\"ticks\":\"\"}}],\"scatter\":[{\"fillpattern\":{\"fillmode\":\"overlay\",\"size\":10,\"solidity\":0.2},\"type\":\"scatter\"}],\"parcoords\":[{\"type\":\"parcoords\",\"line\":{\"colorbar\":{\"outlinewidth\":0,\"ticks\":\"\"}}}],\"scatterpolargl\":[{\"type\":\"scatterpolargl\",\"marker\":{\"colorbar\":{\"outlinewidth\":0,\"ticks\":\"\"}}}],\"bar\":[{\"error_x\":{\"color\":\"#2a3f5f\"},\"error_y\":{\"color\":\"#2a3f5f\"},\"marker\":{\"line\":{\"color\":\"#E5ECF6\",\"width\":0.5},\"pattern\":{\"fillmode\":\"overlay\",\"size\":10,\"solidity\":0.2}},\"type\":\"bar\"}],\"scattergeo\":[{\"type\":\"scattergeo\",\"marker\":{\"colorbar\":{\"outlinewidth\":0,\"ticks\":\"\"}}}],\"scatterpolar\":[{\"type\":\"scatterpolar\",\"marker\":{\"colorbar\":{\"outlinewidth\":0,\"ticks\":\"\"}}}],\"histogram\":[{\"marker\":{\"pattern\":{\"fillmode\":\"overlay\",\"size\":10,\"solidity\":0.2}},\"type\":\"histogram\"}],\"scattergl\":[{\"type\":\"scattergl\",\"marker\":{\"colorbar\":{\"outlinewidth\":0,\"ticks\":\"\"}}}],\"scatter3d\":[{\"type\":\"scatter3d\",\"line\":{\"colorbar\":{\"outlinewidth\":0,\"ticks\":\"\"}},\"marker\":{\"colorbar\":{\"outlinewidth\":0,\"ticks\":\"\"}}}],\"scattermapbox\":[{\"type\":\"scattermapbox\",\"marker\":{\"colorbar\":{\"outlinewidth\":0,\"ticks\":\"\"}}}],\"scatterternary\":[{\"type\":\"scatterternary\",\"marker\":{\"colorbar\":{\"outlinewidth\":0,\"ticks\":\"\"}}}],\"scattercarpet\":[{\"type\":\"scattercarpet\",\"marker\":{\"colorbar\":{\"outlinewidth\":0,\"ticks\":\"\"}}}],\"carpet\":[{\"aaxis\":{\"endlinecolor\":\"#2a3f5f\",\"gridcolor\":\"white\",\"linecolor\":\"white\",\"minorgridcolor\":\"white\",\"startlinecolor\":\"#2a3f5f\"},\"baxis\":{\"endlinecolor\":\"#2a3f5f\",\"gridcolor\":\"white\",\"linecolor\":\"white\",\"minorgridcolor\":\"white\",\"startlinecolor\":\"#2a3f5f\"},\"type\":\"carpet\"}],\"table\":[{\"cells\":{\"fill\":{\"color\":\"#EBF0F8\"},\"line\":{\"color\":\"white\"}},\"header\":{\"fill\":{\"color\":\"#C8D4E3\"},\"line\":{\"color\":\"white\"}},\"type\":\"table\"}],\"barpolar\":[{\"marker\":{\"line\":{\"color\":\"#E5ECF6\",\"width\":0.5},\"pattern\":{\"fillmode\":\"overlay\",\"size\":10,\"solidity\":0.2}},\"type\":\"barpolar\"}],\"pie\":[{\"automargin\":true,\"type\":\"pie\"}]},\"layout\":{\"autotypenumbers\":\"strict\",\"colorway\":[\"#636efa\",\"#EF553B\",\"#00cc96\",\"#ab63fa\",\"#FFA15A\",\"#19d3f3\",\"#FF6692\",\"#B6E880\",\"#FF97FF\",\"#FECB52\"],\"font\":{\"color\":\"#2a3f5f\"},\"hovermode\":\"closest\",\"hoverlabel\":{\"align\":\"left\"},\"paper_bgcolor\":\"white\",\"plot_bgcolor\":\"#E5ECF6\",\"polar\":{\"bgcolor\":\"#E5ECF6\",\"angularaxis\":{\"gridcolor\":\"white\",\"linecolor\":\"white\",\"ticks\":\"\"},\"radialaxis\":{\"gridcolor\":\"white\",\"linecolor\":\"white\",\"ticks\":\"\"}},\"ternary\":{\"bgcolor\":\"#E5ECF6\",\"aaxis\":{\"gridcolor\":\"white\",\"linecolor\":\"white\",\"ticks\":\"\"},\"baxis\":{\"gridcolor\":\"white\",\"linecolor\":\"white\",\"ticks\":\"\"},\"caxis\":{\"gridcolor\":\"white\",\"linecolor\":\"white\",\"ticks\":\"\"}},\"coloraxis\":{\"colorbar\":{\"outlinewidth\":0,\"ticks\":\"\"}},\"colorscale\":{\"sequential\":[[0.0,\"#0d0887\"],[0.1111111111111111,\"#46039f\"],[0.2222222222222222,\"#7201a8\"],[0.3333333333333333,\"#9c179e\"],[0.4444444444444444,\"#bd3786\"],[0.5555555555555556,\"#d8576b\"],[0.6666666666666666,\"#ed7953\"],[0.7777777777777778,\"#fb9f3a\"],[0.8888888888888888,\"#fdca26\"],[1.0,\"#f0f921\"]],\"sequentialminus\":[[0.0,\"#0d0887\"],[0.1111111111111111,\"#46039f\"],[0.2222222222222222,\"#7201a8\"],[0.3333333333333333,\"#9c179e\"],[0.4444444444444444,\"#bd3786\"],[0.5555555555555556,\"#d8576b\"],[0.6666666666666666,\"#ed7953\"],[0.7777777777777778,\"#fb9f3a\"],[0.8888888888888888,\"#fdca26\"],[1.0,\"#f0f921\"]],\"diverging\":[[0,\"#8e0152\"],[0.1,\"#c51b7d\"],[0.2,\"#de77ae\"],[0.3,\"#f1b6da\"],[0.4,\"#fde0ef\"],[0.5,\"#f7f7f7\"],[0.6,\"#e6f5d0\"],[0.7,\"#b8e186\"],[0.8,\"#7fbc41\"],[0.9,\"#4d9221\"],[1,\"#276419\"]]},\"xaxis\":{\"gridcolor\":\"white\",\"linecolor\":\"white\",\"ticks\":\"\",\"title\":{\"standoff\":15},\"zerolinecolor\":\"white\",\"automargin\":true,\"zerolinewidth\":2},\"yaxis\":{\"gridcolor\":\"white\",\"linecolor\":\"white\",\"ticks\":\"\",\"title\":{\"standoff\":15},\"zerolinecolor\":\"white\",\"automargin\":true,\"zerolinewidth\":2},\"scene\":{\"xaxis\":{\"backgroundcolor\":\"#E5ECF6\",\"gridcolor\":\"white\",\"linecolor\":\"white\",\"showbackground\":true,\"ticks\":\"\",\"zerolinecolor\":\"white\",\"gridwidth\":2},\"yaxis\":{\"backgroundcolor\":\"#E5ECF6\",\"gridcolor\":\"white\",\"linecolor\":\"white\",\"showbackground\":true,\"ticks\":\"\",\"zerolinecolor\":\"white\",\"gridwidth\":2},\"zaxis\":{\"backgroundcolor\":\"#E5ECF6\",\"gridcolor\":\"white\",\"linecolor\":\"white\",\"showbackground\":true,\"ticks\":\"\",\"zerolinecolor\":\"white\",\"gridwidth\":2}},\"shapedefaults\":{\"line\":{\"color\":\"#2a3f5f\"}},\"annotationdefaults\":{\"arrowcolor\":\"#2a3f5f\",\"arrowhead\":0,\"arrowwidth\":1},\"geo\":{\"bgcolor\":\"white\",\"landcolor\":\"#E5ECF6\",\"subunitcolor\":\"white\",\"showland\":true,\"showlakes\":true,\"lakecolor\":\"white\"},\"title\":{\"x\":0.05},\"mapbox\":{\"style\":\"light\"}}},\"xaxis\":{\"anchor\":\"y\",\"domain\":[0.0,1.0],\"title\":{\"text\":\"Company Location\",\"font\":{\"size\":16}}},\"yaxis\":{\"anchor\":\"x\",\"domain\":[0.0,1.0],\"title\":{\"text\":\"Salary in USD\",\"font\":{\"size\":16}}},\"legend\":{\"tracegroupgap\":0},\"title\":{\"text\":\"Distribution of Salaries Across Different Company Locations\",\"font\":{\"size\":20}},\"boxmode\":\"group\",\"height\":600,\"width\":1200,\"font\":{\"size\":14}},                        {\"responsive\": true}                    ).then(function(){\n                            \nvar gd = document.getElementById('e4291746-752d-4df7-892e-86ad61266741');\nvar x = new MutationObserver(function (mutations, observer) {{\n        var display = window.getComputedStyle(gd).display;\n        if (!display || display === 'none') {{\n            console.log([gd, 'removed!']);\n            Plotly.purge(gd);\n            observer.disconnect();\n        }}\n}});\n\n// Listen for the removal of the full notebook cells\nvar notebookContainer = gd.closest('#notebook-container');\nif (notebookContainer) {{\n    x.observe(notebookContainer, {childList: true});\n}}\n\n// Listen for the clearing of the current output cell\nvar outputEl = gd.closest('.output');\nif (outputEl) {{\n    x.observe(outputEl, {childList: true});\n}}\n\n                        })                };                });            </script>        </div>"
          },
          "metadata": {}
        }
      ]
    },
    {
      "cell_type": "markdown",
      "source": [
        "<a id='5'></a>\n",
        "<p style=\"background-color:#000080;font-family:newtimeroman;color:#ffffff;font-size:150%;text-align:center;border-radius:10px; padding: 10px;\">\n",
        "<b>5. How does the remote ratio (percentage of remote work) impact the average salary?</b>\n",
        "</p>\n"
      ],
      "metadata": {
        "id": "SAOAK6LvvH_Z"
      }
    },
    {
      "cell_type": "code",
      "source": [
        "import plotly.express as px\n",
        "\n",
        "# Define a dictionary to map remote ratio to a more descriptive text\n",
        "remote_ratio_labels = {0: '0% Remote', 50: '50% Remote', 100: '100% Remote'}\n",
        "\n",
        "# Replace the remote_ratio values in the dataframe with the descriptive text\n",
        "avg_salary_by_remote_ratio['remote_ratio'] = avg_salary_by_remote_ratio['remote_ratio'].map(remote_ratio_labels)\n",
        "\n",
        "# Create a bar plot for average salary by remote ratio with updated labels\n",
        "fig = px.bar(avg_salary_by_remote_ratio, x='remote_ratio', y='salary_in_usd',\n",
        "             title='Average Salary by Remote Ratio',\n",
        "             labels={'salary_in_usd': 'Average Salary in USD', 'remote_ratio': 'Remote Ratio'},\n",
        "             text='salary_in_usd',  # Add text labels to the bars\n",
        "             width=800, height=600)  # Adjust the width and height for better visibility\n",
        "\n",
        "# Update text labels to be more readable\n",
        "fig.update_traces(texttemplate='%{text:,.0f}k', textposition='outside')\n",
        "\n",
        "# Update layout for better readability\n",
        "fig.update_layout(\n",
        "    title_font_size=20,\n",
        "    xaxis_title_font_size=16,\n",
        "    yaxis_title_font_size=16,\n",
        "    font=dict(size=14)\n",
        ")\n",
        "\n",
        "# Show the plot\n",
        "fig.show()\n",
        "\n",
        "\n"
      ],
      "metadata": {
        "execution": {
          "iopub.status.busy": "2024-07-14T08:51:59.895251Z",
          "iopub.execute_input": "2024-07-14T08:51:59.896087Z",
          "iopub.status.idle": "2024-07-14T08:51:59.974964Z",
          "shell.execute_reply.started": "2024-07-14T08:51:59.89604Z",
          "shell.execute_reply": "2024-07-14T08:51:59.974103Z"
        },
        "trusted": true,
        "id": "sFAu6yBnvH_Z",
        "outputId": "14f282c7-bc6b-4e9d-a37d-2f46707463c2"
      },
      "execution_count": null,
      "outputs": [
        {
          "output_type": "display_data",
          "data": {
            "text/html": "<div>                            <div id=\"4497678f-03f4-4080-91d6-9eb6a87cbd50\" class=\"plotly-graph-div\" style=\"height:600px; width:800px;\"></div>            <script type=\"text/javascript\">                require([\"plotly\"], function(Plotly) {                    window.PLOTLYENV=window.PLOTLYENV || {};                                    if (document.getElementById(\"4497678f-03f4-4080-91d6-9eb6a87cbd50\")) {                    Plotly.newPlot(                        \"4497678f-03f4-4080-91d6-9eb6a87cbd50\",                        [{\"alignmentgroup\":\"True\",\"hovertemplate\":\"Remote Ratio=%{x}\\u003cbr\\u003eAverage Salary in USD=%{text}\\u003cextra\\u003e\\u003c\\u002fextra\\u003e\",\"legendgroup\":\"\",\"marker\":{\"color\":\"#636efa\",\"pattern\":{\"shape\":\"\"}},\"name\":\"\",\"offsetgroup\":\"\",\"orientation\":\"v\",\"showlegend\":false,\"text\":[84962.45,79503.32394366198,115107.67910447762],\"textposition\":\"outside\",\"x\":[\"0% Remote\",\"50% Remote\",\"100% Remote\"],\"xaxis\":\"x\",\"y\":[84962.45,79503.32394366198,115107.67910447762],\"yaxis\":\"y\",\"type\":\"bar\",\"texttemplate\":\"%{text:,.0f}k\"}],                        {\"template\":{\"data\":{\"histogram2dcontour\":[{\"type\":\"histogram2dcontour\",\"colorbar\":{\"outlinewidth\":0,\"ticks\":\"\"},\"colorscale\":[[0.0,\"#0d0887\"],[0.1111111111111111,\"#46039f\"],[0.2222222222222222,\"#7201a8\"],[0.3333333333333333,\"#9c179e\"],[0.4444444444444444,\"#bd3786\"],[0.5555555555555556,\"#d8576b\"],[0.6666666666666666,\"#ed7953\"],[0.7777777777777778,\"#fb9f3a\"],[0.8888888888888888,\"#fdca26\"],[1.0,\"#f0f921\"]]}],\"choropleth\":[{\"type\":\"choropleth\",\"colorbar\":{\"outlinewidth\":0,\"ticks\":\"\"}}],\"histogram2d\":[{\"type\":\"histogram2d\",\"colorbar\":{\"outlinewidth\":0,\"ticks\":\"\"},\"colorscale\":[[0.0,\"#0d0887\"],[0.1111111111111111,\"#46039f\"],[0.2222222222222222,\"#7201a8\"],[0.3333333333333333,\"#9c179e\"],[0.4444444444444444,\"#bd3786\"],[0.5555555555555556,\"#d8576b\"],[0.6666666666666666,\"#ed7953\"],[0.7777777777777778,\"#fb9f3a\"],[0.8888888888888888,\"#fdca26\"],[1.0,\"#f0f921\"]]}],\"heatmap\":[{\"type\":\"heatmap\",\"colorbar\":{\"outlinewidth\":0,\"ticks\":\"\"},\"colorscale\":[[0.0,\"#0d0887\"],[0.1111111111111111,\"#46039f\"],[0.2222222222222222,\"#7201a8\"],[0.3333333333333333,\"#9c179e\"],[0.4444444444444444,\"#bd3786\"],[0.5555555555555556,\"#d8576b\"],[0.6666666666666666,\"#ed7953\"],[0.7777777777777778,\"#fb9f3a\"],[0.8888888888888888,\"#fdca26\"],[1.0,\"#f0f921\"]]}],\"heatmapgl\":[{\"type\":\"heatmapgl\",\"colorbar\":{\"outlinewidth\":0,\"ticks\":\"\"},\"colorscale\":[[0.0,\"#0d0887\"],[0.1111111111111111,\"#46039f\"],[0.2222222222222222,\"#7201a8\"],[0.3333333333333333,\"#9c179e\"],[0.4444444444444444,\"#bd3786\"],[0.5555555555555556,\"#d8576b\"],[0.6666666666666666,\"#ed7953\"],[0.7777777777777778,\"#fb9f3a\"],[0.8888888888888888,\"#fdca26\"],[1.0,\"#f0f921\"]]}],\"contourcarpet\":[{\"type\":\"contourcarpet\",\"colorbar\":{\"outlinewidth\":0,\"ticks\":\"\"}}],\"contour\":[{\"type\":\"contour\",\"colorbar\":{\"outlinewidth\":0,\"ticks\":\"\"},\"colorscale\":[[0.0,\"#0d0887\"],[0.1111111111111111,\"#46039f\"],[0.2222222222222222,\"#7201a8\"],[0.3333333333333333,\"#9c179e\"],[0.4444444444444444,\"#bd3786\"],[0.5555555555555556,\"#d8576b\"],[0.6666666666666666,\"#ed7953\"],[0.7777777777777778,\"#fb9f3a\"],[0.8888888888888888,\"#fdca26\"],[1.0,\"#f0f921\"]]}],\"surface\":[{\"type\":\"surface\",\"colorbar\":{\"outlinewidth\":0,\"ticks\":\"\"},\"colorscale\":[[0.0,\"#0d0887\"],[0.1111111111111111,\"#46039f\"],[0.2222222222222222,\"#7201a8\"],[0.3333333333333333,\"#9c179e\"],[0.4444444444444444,\"#bd3786\"],[0.5555555555555556,\"#d8576b\"],[0.6666666666666666,\"#ed7953\"],[0.7777777777777778,\"#fb9f3a\"],[0.8888888888888888,\"#fdca26\"],[1.0,\"#f0f921\"]]}],\"mesh3d\":[{\"type\":\"mesh3d\",\"colorbar\":{\"outlinewidth\":0,\"ticks\":\"\"}}],\"scatter\":[{\"fillpattern\":{\"fillmode\":\"overlay\",\"size\":10,\"solidity\":0.2},\"type\":\"scatter\"}],\"parcoords\":[{\"type\":\"parcoords\",\"line\":{\"colorbar\":{\"outlinewidth\":0,\"ticks\":\"\"}}}],\"scatterpolargl\":[{\"type\":\"scatterpolargl\",\"marker\":{\"colorbar\":{\"outlinewidth\":0,\"ticks\":\"\"}}}],\"bar\":[{\"error_x\":{\"color\":\"#2a3f5f\"},\"error_y\":{\"color\":\"#2a3f5f\"},\"marker\":{\"line\":{\"color\":\"#E5ECF6\",\"width\":0.5},\"pattern\":{\"fillmode\":\"overlay\",\"size\":10,\"solidity\":0.2}},\"type\":\"bar\"}],\"scattergeo\":[{\"type\":\"scattergeo\",\"marker\":{\"colorbar\":{\"outlinewidth\":0,\"ticks\":\"\"}}}],\"scatterpolar\":[{\"type\":\"scatterpolar\",\"marker\":{\"colorbar\":{\"outlinewidth\":0,\"ticks\":\"\"}}}],\"histogram\":[{\"marker\":{\"pattern\":{\"fillmode\":\"overlay\",\"size\":10,\"solidity\":0.2}},\"type\":\"histogram\"}],\"scattergl\":[{\"type\":\"scattergl\",\"marker\":{\"colorbar\":{\"outlinewidth\":0,\"ticks\":\"\"}}}],\"scatter3d\":[{\"type\":\"scatter3d\",\"line\":{\"colorbar\":{\"outlinewidth\":0,\"ticks\":\"\"}},\"marker\":{\"colorbar\":{\"outlinewidth\":0,\"ticks\":\"\"}}}],\"scattermapbox\":[{\"type\":\"scattermapbox\",\"marker\":{\"colorbar\":{\"outlinewidth\":0,\"ticks\":\"\"}}}],\"scatterternary\":[{\"type\":\"scatterternary\",\"marker\":{\"colorbar\":{\"outlinewidth\":0,\"ticks\":\"\"}}}],\"scattercarpet\":[{\"type\":\"scattercarpet\",\"marker\":{\"colorbar\":{\"outlinewidth\":0,\"ticks\":\"\"}}}],\"carpet\":[{\"aaxis\":{\"endlinecolor\":\"#2a3f5f\",\"gridcolor\":\"white\",\"linecolor\":\"white\",\"minorgridcolor\":\"white\",\"startlinecolor\":\"#2a3f5f\"},\"baxis\":{\"endlinecolor\":\"#2a3f5f\",\"gridcolor\":\"white\",\"linecolor\":\"white\",\"minorgridcolor\":\"white\",\"startlinecolor\":\"#2a3f5f\"},\"type\":\"carpet\"}],\"table\":[{\"cells\":{\"fill\":{\"color\":\"#EBF0F8\"},\"line\":{\"color\":\"white\"}},\"header\":{\"fill\":{\"color\":\"#C8D4E3\"},\"line\":{\"color\":\"white\"}},\"type\":\"table\"}],\"barpolar\":[{\"marker\":{\"line\":{\"color\":\"#E5ECF6\",\"width\":0.5},\"pattern\":{\"fillmode\":\"overlay\",\"size\":10,\"solidity\":0.2}},\"type\":\"barpolar\"}],\"pie\":[{\"automargin\":true,\"type\":\"pie\"}]},\"layout\":{\"autotypenumbers\":\"strict\",\"colorway\":[\"#636efa\",\"#EF553B\",\"#00cc96\",\"#ab63fa\",\"#FFA15A\",\"#19d3f3\",\"#FF6692\",\"#B6E880\",\"#FF97FF\",\"#FECB52\"],\"font\":{\"color\":\"#2a3f5f\"},\"hovermode\":\"closest\",\"hoverlabel\":{\"align\":\"left\"},\"paper_bgcolor\":\"white\",\"plot_bgcolor\":\"#E5ECF6\",\"polar\":{\"bgcolor\":\"#E5ECF6\",\"angularaxis\":{\"gridcolor\":\"white\",\"linecolor\":\"white\",\"ticks\":\"\"},\"radialaxis\":{\"gridcolor\":\"white\",\"linecolor\":\"white\",\"ticks\":\"\"}},\"ternary\":{\"bgcolor\":\"#E5ECF6\",\"aaxis\":{\"gridcolor\":\"white\",\"linecolor\":\"white\",\"ticks\":\"\"},\"baxis\":{\"gridcolor\":\"white\",\"linecolor\":\"white\",\"ticks\":\"\"},\"caxis\":{\"gridcolor\":\"white\",\"linecolor\":\"white\",\"ticks\":\"\"}},\"coloraxis\":{\"colorbar\":{\"outlinewidth\":0,\"ticks\":\"\"}},\"colorscale\":{\"sequential\":[[0.0,\"#0d0887\"],[0.1111111111111111,\"#46039f\"],[0.2222222222222222,\"#7201a8\"],[0.3333333333333333,\"#9c179e\"],[0.4444444444444444,\"#bd3786\"],[0.5555555555555556,\"#d8576b\"],[0.6666666666666666,\"#ed7953\"],[0.7777777777777778,\"#fb9f3a\"],[0.8888888888888888,\"#fdca26\"],[1.0,\"#f0f921\"]],\"sequentialminus\":[[0.0,\"#0d0887\"],[0.1111111111111111,\"#46039f\"],[0.2222222222222222,\"#7201a8\"],[0.3333333333333333,\"#9c179e\"],[0.4444444444444444,\"#bd3786\"],[0.5555555555555556,\"#d8576b\"],[0.6666666666666666,\"#ed7953\"],[0.7777777777777778,\"#fb9f3a\"],[0.8888888888888888,\"#fdca26\"],[1.0,\"#f0f921\"]],\"diverging\":[[0,\"#8e0152\"],[0.1,\"#c51b7d\"],[0.2,\"#de77ae\"],[0.3,\"#f1b6da\"],[0.4,\"#fde0ef\"],[0.5,\"#f7f7f7\"],[0.6,\"#e6f5d0\"],[0.7,\"#b8e186\"],[0.8,\"#7fbc41\"],[0.9,\"#4d9221\"],[1,\"#276419\"]]},\"xaxis\":{\"gridcolor\":\"white\",\"linecolor\":\"white\",\"ticks\":\"\",\"title\":{\"standoff\":15},\"zerolinecolor\":\"white\",\"automargin\":true,\"zerolinewidth\":2},\"yaxis\":{\"gridcolor\":\"white\",\"linecolor\":\"white\",\"ticks\":\"\",\"title\":{\"standoff\":15},\"zerolinecolor\":\"white\",\"automargin\":true,\"zerolinewidth\":2},\"scene\":{\"xaxis\":{\"backgroundcolor\":\"#E5ECF6\",\"gridcolor\":\"white\",\"linecolor\":\"white\",\"showbackground\":true,\"ticks\":\"\",\"zerolinecolor\":\"white\",\"gridwidth\":2},\"yaxis\":{\"backgroundcolor\":\"#E5ECF6\",\"gridcolor\":\"white\",\"linecolor\":\"white\",\"showbackground\":true,\"ticks\":\"\",\"zerolinecolor\":\"white\",\"gridwidth\":2},\"zaxis\":{\"backgroundcolor\":\"#E5ECF6\",\"gridcolor\":\"white\",\"linecolor\":\"white\",\"showbackground\":true,\"ticks\":\"\",\"zerolinecolor\":\"white\",\"gridwidth\":2}},\"shapedefaults\":{\"line\":{\"color\":\"#2a3f5f\"}},\"annotationdefaults\":{\"arrowcolor\":\"#2a3f5f\",\"arrowhead\":0,\"arrowwidth\":1},\"geo\":{\"bgcolor\":\"white\",\"landcolor\":\"#E5ECF6\",\"subunitcolor\":\"white\",\"showland\":true,\"showlakes\":true,\"lakecolor\":\"white\"},\"title\":{\"x\":0.05},\"mapbox\":{\"style\":\"light\"}}},\"xaxis\":{\"anchor\":\"y\",\"domain\":[0.0,1.0],\"title\":{\"text\":\"Remote Ratio\",\"font\":{\"size\":16}}},\"yaxis\":{\"anchor\":\"x\",\"domain\":[0.0,1.0],\"title\":{\"text\":\"Average Salary in USD\",\"font\":{\"size\":16}}},\"legend\":{\"tracegroupgap\":0},\"title\":{\"text\":\"Average Salary by Remote Ratio\",\"font\":{\"size\":20}},\"barmode\":\"relative\",\"height\":600,\"width\":800,\"font\":{\"size\":14}},                        {\"responsive\": true}                    ).then(function(){\n                            \nvar gd = document.getElementById('4497678f-03f4-4080-91d6-9eb6a87cbd50');\nvar x = new MutationObserver(function (mutations, observer) {{\n        var display = window.getComputedStyle(gd).display;\n        if (!display || display === 'none') {{\n            console.log([gd, 'removed!']);\n            Plotly.purge(gd);\n            observer.disconnect();\n        }}\n}});\n\n// Listen for the removal of the full notebook cells\nvar notebookContainer = gd.closest('#notebook-container');\nif (notebookContainer) {{\n    x.observe(notebookContainer, {childList: true});\n}}\n\n// Listen for the clearing of the current output cell\nvar outputEl = gd.closest('.output');\nif (outputEl) {{\n    x.observe(outputEl, {childList: true});\n}}\n\n                        })                };                });            </script>        </div>"
          },
          "metadata": {}
        }
      ]
    },
    {
      "cell_type": "markdown",
      "source": [
        "<a id='6'></a>\n",
        "<p style=\"background-color:#000080;font-family:newtimeroman;color:#ffffff;font-size:150%;text-align:center;border-radius:10px; padding: 10px;\">\n",
        "<b>Are there any noticeable trends in salaries between the years 2020 and 2021?</b>\n",
        "</p>"
      ],
      "metadata": {
        "id": "N5hJ1EQCvH_Z"
      }
    },
    {
      "cell_type": "code",
      "source": [
        "import pandas as pd\n",
        "import plotly.express as px\n",
        "\n",
        "# Load the dataset\n",
        "data = pd.read_csv('/kaggle/input/data-science-jobs-salaries/Data Science Jobs Salaries.csv')\n",
        "\n",
        "# Display the first few rows of the dataset to confirm data is loaded correctly\n",
        "print(data.head())\n",
        "\n",
        "# Data Cleaning\n",
        "# Renaming columns to remove spaces and convert to lowercase for easier access\n",
        "data.columns = [col.strip().replace(' ', '_').lower() for col in data.columns]\n",
        "\n",
        "# Fixing the work_year column to remove non-numeric characters\n",
        "data['work_year'] = data['work_year'].str.extract('(\\d+)').astype(int)\n",
        "\n",
        "# Convert infinite values to NaN and drop rows with NaN values\n",
        "data.replace([float('inf'), float('-inf')], pd.NA, inplace=True)\n",
        "data.dropna(inplace=True)\n",
        "\n",
        "# Filter data for the years 2020 and 2021\n",
        "data_filtered = data[data['work_year'].isin([2020, 2021])]\n",
        "\n",
        "# Calculate average salary for each year and job title\n",
        "average_salary_by_title = data_filtered.groupby(['work_year', 'job_title'])['salary_in_usd'].mean().reset_index()\n",
        "\n",
        "# Salary Trends between 2020 and 2021 by Job Title using Plotly\n",
        "fig = px.line(average_salary_by_title, x='work_year', y='salary_in_usd', color='job_title', markers=True, title='Salary Trends between 2020 and 2021 by Job Title')\n",
        "fig.update_layout(xaxis_title='Year', yaxis_title='Average Salary (USD)', yaxis=dict(tickformat='.2s'))\n",
        "fig.show()\n",
        "\n",
        "\n"
      ],
      "metadata": {
        "execution": {
          "iopub.status.busy": "2024-07-14T14:06:19.007296Z",
          "iopub.execute_input": "2024-07-14T14:06:19.007951Z",
          "iopub.status.idle": "2024-07-14T14:06:19.260094Z",
          "shell.execute_reply.started": "2024-07-14T14:06:19.007914Z",
          "shell.execute_reply": "2024-07-14T14:06:19.25924Z"
        },
        "jupyter": {
          "source_hidden": true
        },
        "trusted": true,
        "id": "_linVOaevH_Z",
        "outputId": "e45f483a-8786-4c2a-fcf0-7fe2b3126f53"
      },
      "execution_count": null,
      "outputs": [
        {
          "name": "stdout",
          "text": "  work_year experience_level employment_type                  job_title  \\\n0     2021e               EN              FT    Data Science Consultant   \n1      2020               SE              FT             Data Scientist   \n2     2021e               EX              FT       Head of Data Science   \n3     2021e               EX              FT               Head of Data   \n4     2021e               EN              FT  Machine Learning Engineer   \n\n   salary salary_currency  salary_in_usd employee_residence  remote_ratio  \\\n0   54000             EUR          64369                 DE            50   \n1   60000             EUR          68428                 GR           100   \n2   85000             USD          85000                 RU             0   \n3  230000             USD         230000                 RU            50   \n4  125000             USD         125000                 US           100   \n\n  company_location company_size  \n0               DE            L  \n1               US            L  \n2               RU            M  \n3               RU            L  \n4               US            S  \n",
          "output_type": "stream"
        },
        {
          "name": "stderr",
          "text": "/opt/conda/lib/python3.10/site-packages/plotly/express/_core.py:2065: FutureWarning:\n\nWhen grouping with a length-1 list-like, you will need to pass a length-1 tuple to get_group in a future version of pandas. Pass `(name,)` instead of `name` to silence this warning.\n\n",
          "output_type": "stream"
        },
        {
          "output_type": "display_data",
          "data": {
            "text/html": "<div>                            <div id=\"4432d01a-894c-46c3-9f6f-47238afed549\" class=\"plotly-graph-div\" style=\"height:525px; width:100%;\"></div>            <script type=\"text/javascript\">                require([\"plotly\"], function(Plotly) {                    window.PLOTLYENV=window.PLOTLYENV || {};                                    if (document.getElementById(\"4432d01a-894c-46c3-9f6f-47238afed549\")) {                    Plotly.newPlot(                        \"4432d01a-894c-46c3-9f6f-47238afed549\",                        [{\"hovertemplate\":\"job_title=AI Scientist\\u003cbr\\u003ework_year=%{x}\\u003cbr\\u003esalary_in_usd=%{y}\\u003cextra\\u003e\\u003c\\u002fextra\\u003e\",\"legendgroup\":\"AI Scientist\",\"line\":{\"color\":\"#636efa\",\"dash\":\"solid\"},\"marker\":{\"symbol\":\"circle\"},\"mode\":\"markers+lines\",\"name\":\"AI Scientist\",\"orientation\":\"v\",\"showlegend\":true,\"x\":[2020,2021],\"xaxis\":\"x\",\"y\":[45896.0,24275.5],\"yaxis\":\"y\",\"type\":\"scatter\"},{\"hovertemplate\":\"job_title=BI Data Analyst\\u003cbr\\u003ework_year=%{x}\\u003cbr\\u003esalary_in_usd=%{y}\\u003cextra\\u003e\\u003c\\u002fextra\\u003e\",\"legendgroup\":\"BI Data Analyst\",\"line\":{\"color\":\"#EF553B\",\"dash\":\"solid\"},\"marker\":{\"symbol\":\"circle\"},\"mode\":\"markers+lines\",\"name\":\"BI Data Analyst\",\"orientation\":\"v\",\"showlegend\":true,\"x\":[2020,2021],\"xaxis\":\"x\",\"y\":[98000.0,74001.0],\"yaxis\":\"y\",\"type\":\"scatter\"},{\"hovertemplate\":\"job_title=Big Data Engineer\\u003cbr\\u003ework_year=%{x}\\u003cbr\\u003esalary_in_usd=%{y}\\u003cextra\\u003e\\u003c\\u002fextra\\u003e\",\"legendgroup\":\"Big Data Engineer\",\"line\":{\"color\":\"#00cc96\",\"dash\":\"solid\"},\"marker\":{\"symbol\":\"circle\"},\"mode\":\"markers+lines\",\"name\":\"Big Data Engineer\",\"orientation\":\"v\",\"showlegend\":true,\"x\":[2020,2021],\"xaxis\":\"x\",\"y\":[111535.5,15710.0],\"yaxis\":\"y\",\"type\":\"scatter\"},{\"hovertemplate\":\"job_title=Business Data Analyst\\u003cbr\\u003ework_year=%{x}\\u003cbr\\u003esalary_in_usd=%{y}\\u003cextra\\u003e\\u003c\\u002fextra\\u003e\",\"legendgroup\":\"Business Data Analyst\",\"line\":{\"color\":\"#ab63fa\",\"dash\":\"solid\"},\"marker\":{\"symbol\":\"circle\"},\"mode\":\"markers+lines\",\"name\":\"Business Data Analyst\",\"orientation\":\"v\",\"showlegend\":true,\"x\":[2020,2021],\"xaxis\":\"x\",\"y\":[117500.0,59601.0],\"yaxis\":\"y\",\"type\":\"scatter\"},{\"hovertemplate\":\"job_title=Computer Vision Engineer\\u003cbr\\u003ework_year=%{x}\\u003cbr\\u003esalary_in_usd=%{y}\\u003cextra\\u003e\\u003c\\u002fextra\\u003e\",\"legendgroup\":\"Computer Vision Engineer\",\"line\":{\"color\":\"#FFA15A\",\"dash\":\"solid\"},\"marker\":{\"symbol\":\"circle\"},\"mode\":\"markers+lines\",\"name\":\"Computer Vision Engineer\",\"orientation\":\"v\",\"showlegend\":true,\"x\":[2020,2021],\"xaxis\":\"x\",\"y\":[60000.0,23951.0],\"yaxis\":\"y\",\"type\":\"scatter\"},{\"hovertemplate\":\"job_title=Data Analyst\\u003cbr\\u003ework_year=%{x}\\u003cbr\\u003esalary_in_usd=%{y}\\u003cextra\\u003e\\u003c\\u002fextra\\u003e\",\"legendgroup\":\"Data Analyst\",\"line\":{\"color\":\"#19d3f3\",\"dash\":\"solid\"},\"marker\":{\"symbol\":\"circle\"},\"mode\":\"markers+lines\",\"name\":\"Data Analyst\",\"orientation\":\"v\",\"showlegend\":true,\"x\":[2020,2021],\"xaxis\":\"x\",\"y\":[45547.28571428572,82134.76923076923],\"yaxis\":\"y\",\"type\":\"scatter\"},{\"hovertemplate\":\"job_title=Data Engineer\\u003cbr\\u003ework_year=%{x}\\u003cbr\\u003esalary_in_usd=%{y}\\u003cextra\\u003e\\u003c\\u002fextra\\u003e\",\"legendgroup\":\"Data Engineer\",\"line\":{\"color\":\"#FF6692\",\"dash\":\"solid\"},\"marker\":{\"symbol\":\"circle\"},\"mode\":\"markers+lines\",\"name\":\"Data Engineer\",\"orientation\":\"v\",\"showlegend\":true,\"x\":[2020,2021],\"xaxis\":\"x\",\"y\":[91504.0,78846.64285714286],\"yaxis\":\"y\",\"type\":\"scatter\"},{\"hovertemplate\":\"job_title=Data Engineering Manager\\u003cbr\\u003ework_year=%{x}\\u003cbr\\u003esalary_in_usd=%{y}\\u003cextra\\u003e\\u003c\\u002fextra\\u003e\",\"legendgroup\":\"Data Engineering Manager\",\"line\":{\"color\":\"#B6E880\",\"dash\":\"solid\"},\"marker\":{\"symbol\":\"circle\"},\"mode\":\"markers+lines\",\"name\":\"Data Engineering Manager\",\"orientation\":\"v\",\"showlegend\":true,\"x\":[2020,2021],\"xaxis\":\"x\",\"y\":[79833.0,163500.0],\"yaxis\":\"y\",\"type\":\"scatter\"},{\"hovertemplate\":\"job_title=Data Science Consultant\\u003cbr\\u003ework_year=%{x}\\u003cbr\\u003esalary_in_usd=%{y}\\u003cextra\\u003e\\u003c\\u002fextra\\u003e\",\"legendgroup\":\"Data Science Consultant\",\"line\":{\"color\":\"#FF97FF\",\"dash\":\"solid\"},\"marker\":{\"symbol\":\"circle\"},\"mode\":\"markers+lines\",\"name\":\"Data Science Consultant\",\"orientation\":\"v\",\"showlegend\":true,\"x\":[2020,2021],\"xaxis\":\"x\",\"y\":[54353.5,75932.0],\"yaxis\":\"y\",\"type\":\"scatter\"},{\"hovertemplate\":\"job_title=Data Science Manager\\u003cbr\\u003ework_year=%{x}\\u003cbr\\u003esalary_in_usd=%{y}\\u003cextra\\u003e\\u003c\\u002fextra\\u003e\",\"legendgroup\":\"Data Science Manager\",\"line\":{\"color\":\"#FECB52\",\"dash\":\"solid\"},\"marker\":{\"symbol\":\"circle\"},\"mode\":\"markers+lines\",\"name\":\"Data Science Manager\",\"orientation\":\"v\",\"showlegend\":true,\"x\":[2020,2021],\"xaxis\":\"x\",\"y\":[190200.0,118788.75],\"yaxis\":\"y\",\"type\":\"scatter\"},{\"hovertemplate\":\"job_title=Data Scientist\\u003cbr\\u003ework_year=%{x}\\u003cbr\\u003esalary_in_usd=%{y}\\u003cextra\\u003e\\u003c\\u002fextra\\u003e\",\"legendgroup\":\"Data Scientist\",\"line\":{\"color\":\"#636efa\",\"dash\":\"solid\"},\"marker\":{\"symbol\":\"circle\"},\"mode\":\"markers+lines\",\"name\":\"Data Scientist\",\"orientation\":\"v\",\"showlegend\":true,\"x\":[2020,2021],\"xaxis\":\"x\",\"y\":[87805.65,70758.35897435897],\"yaxis\":\"y\",\"type\":\"scatter\"},{\"hovertemplate\":\"job_title=Director of Data Science\\u003cbr\\u003ework_year=%{x}\\u003cbr\\u003esalary_in_usd=%{y}\\u003cextra\\u003e\\u003c\\u002fextra\\u003e\",\"legendgroup\":\"Director of Data Science\",\"line\":{\"color\":\"#EF553B\",\"dash\":\"solid\"},\"marker\":{\"symbol\":\"circle\"},\"mode\":\"markers+lines\",\"name\":\"Director of Data Science\",\"orientation\":\"v\",\"showlegend\":true,\"x\":[2020,2021],\"xaxis\":\"x\",\"y\":[325000.0,155335.33333333334],\"yaxis\":\"y\",\"type\":\"scatter\"},{\"hovertemplate\":\"job_title=Lead Data Analyst\\u003cbr\\u003ework_year=%{x}\\u003cbr\\u003esalary_in_usd=%{y}\\u003cextra\\u003e\\u003c\\u002fextra\\u003e\",\"legendgroup\":\"Lead Data Analyst\",\"line\":{\"color\":\"#00cc96\",\"dash\":\"solid\"},\"marker\":{\"symbol\":\"circle\"},\"mode\":\"markers+lines\",\"name\":\"Lead Data Analyst\",\"orientation\":\"v\",\"showlegend\":true,\"x\":[2020,2021],\"xaxis\":\"x\",\"y\":[87000.0,94830.5],\"yaxis\":\"y\",\"type\":\"scatter\"},{\"hovertemplate\":\"job_title=Lead Data Engineer\\u003cbr\\u003ework_year=%{x}\\u003cbr\\u003esalary_in_usd=%{y}\\u003cextra\\u003e\\u003c\\u002fextra\\u003e\",\"legendgroup\":\"Lead Data Engineer\",\"line\":{\"color\":\"#ab63fa\",\"dash\":\"solid\"},\"marker\":{\"symbol\":\"circle\"},\"mode\":\"markers+lines\",\"name\":\"Lead Data Engineer\",\"orientation\":\"v\",\"showlegend\":true,\"x\":[2020,2021],\"xaxis\":\"x\",\"y\":[90500.0,179916.66666666666],\"yaxis\":\"y\",\"type\":\"scatter\"},{\"hovertemplate\":\"job_title=Lead Data Scientist\\u003cbr\\u003ework_year=%{x}\\u003cbr\\u003esalary_in_usd=%{y}\\u003cextra\\u003e\\u003c\\u002fextra\\u003e\",\"legendgroup\":\"Lead Data Scientist\",\"line\":{\"color\":\"#FFA15A\",\"dash\":\"solid\"},\"marker\":{\"symbol\":\"circle\"},\"mode\":\"markers+lines\",\"name\":\"Lead Data Scientist\",\"orientation\":\"v\",\"showlegend\":true,\"x\":[2020],\"xaxis\":\"x\",\"y\":[152500.0],\"yaxis\":\"y\",\"type\":\"scatter\"},{\"hovertemplate\":\"job_title=ML Engineer\\u003cbr\\u003ework_year=%{x}\\u003cbr\\u003esalary_in_usd=%{y}\\u003cextra\\u003e\\u003c\\u002fextra\\u003e\",\"legendgroup\":\"ML Engineer\",\"line\":{\"color\":\"#19d3f3\",\"dash\":\"solid\"},\"marker\":{\"symbol\":\"circle\"},\"mode\":\"markers+lines\",\"name\":\"ML Engineer\",\"orientation\":\"v\",\"showlegend\":true,\"x\":[2020,2021],\"xaxis\":\"x\",\"y\":[15966.0,263000.0],\"yaxis\":\"y\",\"type\":\"scatter\"},{\"hovertemplate\":\"job_title=Machine Learning Engineer\\u003cbr\\u003ework_year=%{x}\\u003cbr\\u003esalary_in_usd=%{y}\\u003cextra\\u003e\\u003c\\u002fextra\\u003e\",\"legendgroup\":\"Machine Learning Engineer\",\"line\":{\"color\":\"#FF6692\",\"dash\":\"solid\"},\"marker\":{\"symbol\":\"circle\"},\"mode\":\"markers+lines\",\"name\":\"Machine Learning Engineer\",\"orientation\":\"v\",\"showlegend\":true,\"x\":[2020,2021],\"xaxis\":\"x\",\"y\":[125389.8,79488.73333333334],\"yaxis\":\"y\",\"type\":\"scatter\"},{\"hovertemplate\":\"job_title=Machine Learning Infrastructure Engineer\\u003cbr\\u003ework_year=%{x}\\u003cbr\\u003esalary_in_usd=%{y}\\u003cextra\\u003e\\u003c\\u002fextra\\u003e\",\"legendgroup\":\"Machine Learning Infrastructure Engineer\",\"line\":{\"color\":\"#B6E880\",\"dash\":\"solid\"},\"marker\":{\"symbol\":\"circle\"},\"mode\":\"markers+lines\",\"name\":\"Machine Learning Infrastructure Engineer\",\"orientation\":\"v\",\"showlegend\":true,\"x\":[2020,2021],\"xaxis\":\"x\",\"y\":[50180.0,195000.0],\"yaxis\":\"y\",\"type\":\"scatter\"},{\"hovertemplate\":\"job_title=Machine Learning Scientist\\u003cbr\\u003ework_year=%{x}\\u003cbr\\u003esalary_in_usd=%{y}\\u003cextra\\u003e\\u003c\\u002fextra\\u003e\",\"legendgroup\":\"Machine Learning Scientist\",\"line\":{\"color\":\"#FF97FF\",\"dash\":\"solid\"},\"marker\":{\"symbol\":\"circle\"},\"mode\":\"markers+lines\",\"name\":\"Machine Learning Scientist\",\"orientation\":\"v\",\"showlegend\":true,\"x\":[2020,2021],\"xaxis\":\"x\",\"y\":[260000.0,154000.0],\"yaxis\":\"y\",\"type\":\"scatter\"},{\"hovertemplate\":\"job_title=Principal Data Scientist\\u003cbr\\u003ework_year=%{x}\\u003cbr\\u003esalary_in_usd=%{y}\\u003cextra\\u003e\\u003c\\u002fextra\\u003e\",\"legendgroup\":\"Principal Data Scientist\",\"line\":{\"color\":\"#FECB52\",\"dash\":\"solid\"},\"marker\":{\"symbol\":\"circle\"},\"mode\":\"markers+lines\",\"name\":\"Principal Data Scientist\",\"orientation\":\"v\",\"showlegend\":true,\"x\":[2020,2021],\"xaxis\":\"x\",\"y\":[148261.0,244307.0],\"yaxis\":\"y\",\"type\":\"scatter\"},{\"hovertemplate\":\"job_title=Product Data Analyst\\u003cbr\\u003ework_year=%{x}\\u003cbr\\u003esalary_in_usd=%{y}\\u003cextra\\u003e\\u003c\\u002fextra\\u003e\",\"legendgroup\":\"Product Data Analyst\",\"line\":{\"color\":\"#636efa\",\"dash\":\"solid\"},\"marker\":{\"symbol\":\"circle\"},\"mode\":\"markers+lines\",\"name\":\"Product Data Analyst\",\"orientation\":\"v\",\"showlegend\":true,\"x\":[2020],\"xaxis\":\"x\",\"y\":[6072.0],\"yaxis\":\"y\",\"type\":\"scatter\"},{\"hovertemplate\":\"job_title=Research Scientist\\u003cbr\\u003ework_year=%{x}\\u003cbr\\u003esalary_in_usd=%{y}\\u003cextra\\u003e\\u003c\\u002fextra\\u003e\",\"legendgroup\":\"Research Scientist\",\"line\":{\"color\":\"#EF553B\",\"dash\":\"solid\"},\"marker\":{\"symbol\":\"circle\"},\"mode\":\"markers+lines\",\"name\":\"Research Scientist\",\"orientation\":\"v\",\"showlegend\":true,\"x\":[2020,2021],\"xaxis\":\"x\",\"y\":[246000.0,87466.5],\"yaxis\":\"y\",\"type\":\"scatter\"},{\"hovertemplate\":\"job_title=3D Computer Vision Researcher\\u003cbr\\u003ework_year=%{x}\\u003cbr\\u003esalary_in_usd=%{y}\\u003cextra\\u003e\\u003c\\u002fextra\\u003e\",\"legendgroup\":\"3D Computer Vision Researcher\",\"line\":{\"color\":\"#00cc96\",\"dash\":\"solid\"},\"marker\":{\"symbol\":\"circle\"},\"mode\":\"markers+lines\",\"name\":\"3D Computer Vision Researcher\",\"orientation\":\"v\",\"showlegend\":true,\"x\":[2021],\"xaxis\":\"x\",\"y\":[5423.0],\"yaxis\":\"y\",\"type\":\"scatter\"},{\"hovertemplate\":\"job_title=Applied Data Scientist\\u003cbr\\u003ework_year=%{x}\\u003cbr\\u003esalary_in_usd=%{y}\\u003cextra\\u003e\\u003c\\u002fextra\\u003e\",\"legendgroup\":\"Applied Data Scientist\",\"line\":{\"color\":\"#ab63fa\",\"dash\":\"solid\"},\"marker\":{\"symbol\":\"circle\"},\"mode\":\"markers+lines\",\"name\":\"Applied Data Scientist\",\"orientation\":\"v\",\"showlegend\":true,\"x\":[2021],\"xaxis\":\"x\",\"y\":[54376.0],\"yaxis\":\"y\",\"type\":\"scatter\"},{\"hovertemplate\":\"job_title=Applied Machine Learning Scientist\\u003cbr\\u003ework_year=%{x}\\u003cbr\\u003esalary_in_usd=%{y}\\u003cextra\\u003e\\u003c\\u002fextra\\u003e\",\"legendgroup\":\"Applied Machine Learning Scientist\",\"line\":{\"color\":\"#FFA15A\",\"dash\":\"solid\"},\"marker\":{\"symbol\":\"circle\"},\"mode\":\"markers+lines\",\"name\":\"Applied Machine Learning Scientist\",\"orientation\":\"v\",\"showlegend\":true,\"x\":[2021],\"xaxis\":\"x\",\"y\":[423000.0],\"yaxis\":\"y\",\"type\":\"scatter\"},{\"hovertemplate\":\"job_title=Big Data Architect\\u003cbr\\u003ework_year=%{x}\\u003cbr\\u003esalary_in_usd=%{y}\\u003cextra\\u003e\\u003c\\u002fextra\\u003e\",\"legendgroup\":\"Big Data Architect\",\"line\":{\"color\":\"#19d3f3\",\"dash\":\"solid\"},\"marker\":{\"symbol\":\"circle\"},\"mode\":\"markers+lines\",\"name\":\"Big Data Architect\",\"orientation\":\"v\",\"showlegend\":true,\"x\":[2021],\"xaxis\":\"x\",\"y\":[99956.0],\"yaxis\":\"y\",\"type\":\"scatter\"},{\"hovertemplate\":\"job_title=Cloud Data Engineer\\u003cbr\\u003ework_year=%{x}\\u003cbr\\u003esalary_in_usd=%{y}\\u003cextra\\u003e\\u003c\\u002fextra\\u003e\",\"legendgroup\":\"Cloud Data Engineer\",\"line\":{\"color\":\"#FF6692\",\"dash\":\"solid\"},\"marker\":{\"symbol\":\"circle\"},\"mode\":\"markers+lines\",\"name\":\"Cloud Data Engineer\",\"orientation\":\"v\",\"showlegend\":true,\"x\":[2021],\"xaxis\":\"x\",\"y\":[124757.0],\"yaxis\":\"y\",\"type\":\"scatter\"},{\"hovertemplate\":\"job_title=Computer Vision Software Engineer\\u003cbr\\u003ework_year=%{x}\\u003cbr\\u003esalary_in_usd=%{y}\\u003cextra\\u003e\\u003c\\u002fextra\\u003e\",\"legendgroup\":\"Computer Vision Software Engineer\",\"line\":{\"color\":\"#B6E880\",\"dash\":\"solid\"},\"marker\":{\"symbol\":\"circle\"},\"mode\":\"markers+lines\",\"name\":\"Computer Vision Software Engineer\",\"orientation\":\"v\",\"showlegend\":true,\"x\":[2021],\"xaxis\":\"x\",\"y\":[83277.0],\"yaxis\":\"y\",\"type\":\"scatter\"},{\"hovertemplate\":\"job_title=Data Analytics Engineer\\u003cbr\\u003ework_year=%{x}\\u003cbr\\u003esalary_in_usd=%{y}\\u003cextra\\u003e\\u003c\\u002fextra\\u003e\",\"legendgroup\":\"Data Analytics Engineer\",\"line\":{\"color\":\"#FF97FF\",\"dash\":\"solid\"},\"marker\":{\"symbol\":\"circle\"},\"mode\":\"markers+lines\",\"name\":\"Data Analytics Engineer\",\"orientation\":\"v\",\"showlegend\":true,\"x\":[2021],\"xaxis\":\"x\",\"y\":[79955.33333333333],\"yaxis\":\"y\",\"type\":\"scatter\"},{\"hovertemplate\":\"job_title=Data Analytics Manager\\u003cbr\\u003ework_year=%{x}\\u003cbr\\u003esalary_in_usd=%{y}\\u003cextra\\u003e\\u003c\\u002fextra\\u003e\",\"legendgroup\":\"Data Analytics Manager\",\"line\":{\"color\":\"#FECB52\",\"dash\":\"solid\"},\"marker\":{\"symbol\":\"circle\"},\"mode\":\"markers+lines\",\"name\":\"Data Analytics Manager\",\"orientation\":\"v\",\"showlegend\":true,\"x\":[2021],\"xaxis\":\"x\",\"y\":[126666.66666666667],\"yaxis\":\"y\",\"type\":\"scatter\"},{\"hovertemplate\":\"job_title=Data Architect\\u003cbr\\u003ework_year=%{x}\\u003cbr\\u003esalary_in_usd=%{y}\\u003cextra\\u003e\\u003c\\u002fextra\\u003e\",\"legendgroup\":\"Data Architect\",\"line\":{\"color\":\"#636efa\",\"dash\":\"solid\"},\"marker\":{\"symbol\":\"circle\"},\"mode\":\"markers+lines\",\"name\":\"Data Architect\",\"orientation\":\"v\",\"showlegend\":true,\"x\":[2021],\"xaxis\":\"x\",\"y\":[180000.0],\"yaxis\":\"y\",\"type\":\"scatter\"},{\"hovertemplate\":\"job_title=Data Science Engineer\\u003cbr\\u003ework_year=%{x}\\u003cbr\\u003esalary_in_usd=%{y}\\u003cextra\\u003e\\u003c\\u002fextra\\u003e\",\"legendgroup\":\"Data Science Engineer\",\"line\":{\"color\":\"#EF553B\",\"dash\":\"solid\"},\"marker\":{\"symbol\":\"circle\"},\"mode\":\"markers+lines\",\"name\":\"Data Science Engineer\",\"orientation\":\"v\",\"showlegend\":true,\"x\":[2021],\"xaxis\":\"x\",\"y\":[84036.0],\"yaxis\":\"y\",\"type\":\"scatter\"},{\"hovertemplate\":\"job_title=Data Specialist\\u003cbr\\u003ework_year=%{x}\\u003cbr\\u003esalary_in_usd=%{y}\\u003cextra\\u003e\\u003c\\u002fextra\\u003e\",\"legendgroup\":\"Data Specialist\",\"line\":{\"color\":\"#00cc96\",\"dash\":\"solid\"},\"marker\":{\"symbol\":\"circle\"},\"mode\":\"markers+lines\",\"name\":\"Data Specialist\",\"orientation\":\"v\",\"showlegend\":true,\"x\":[2021],\"xaxis\":\"x\",\"y\":[165000.0],\"yaxis\":\"y\",\"type\":\"scatter\"},{\"hovertemplate\":\"job_title=Director of Data Engineering\\u003cbr\\u003ework_year=%{x}\\u003cbr\\u003esalary_in_usd=%{y}\\u003cextra\\u003e\\u003c\\u002fextra\\u003e\",\"legendgroup\":\"Director of Data Engineering\",\"line\":{\"color\":\"#ab63fa\",\"dash\":\"solid\"},\"marker\":{\"symbol\":\"circle\"},\"mode\":\"markers+lines\",\"name\":\"Director of Data Engineering\",\"orientation\":\"v\",\"showlegend\":true,\"x\":[2021],\"xaxis\":\"x\",\"y\":[157062.5],\"yaxis\":\"y\",\"type\":\"scatter\"},{\"hovertemplate\":\"job_title=Finance Data Analyst\\u003cbr\\u003ework_year=%{x}\\u003cbr\\u003esalary_in_usd=%{y}\\u003cextra\\u003e\\u003c\\u002fextra\\u003e\",\"legendgroup\":\"Finance Data Analyst\",\"line\":{\"color\":\"#FFA15A\",\"dash\":\"solid\"},\"marker\":{\"symbol\":\"circle\"},\"mode\":\"markers+lines\",\"name\":\"Finance Data Analyst\",\"orientation\":\"v\",\"showlegend\":true,\"x\":[2021],\"xaxis\":\"x\",\"y\":[62250.0],\"yaxis\":\"y\",\"type\":\"scatter\"},{\"hovertemplate\":\"job_title=Financial Data Analyst\\u003cbr\\u003ework_year=%{x}\\u003cbr\\u003esalary_in_usd=%{y}\\u003cextra\\u003e\\u003c\\u002fextra\\u003e\",\"legendgroup\":\"Financial Data Analyst\",\"line\":{\"color\":\"#19d3f3\",\"dash\":\"solid\"},\"marker\":{\"symbol\":\"circle\"},\"mode\":\"markers+lines\",\"name\":\"Financial Data Analyst\",\"orientation\":\"v\",\"showlegend\":true,\"x\":[2021],\"xaxis\":\"x\",\"y\":[450000.0],\"yaxis\":\"y\",\"type\":\"scatter\"},{\"hovertemplate\":\"job_title=Head of Data\\u003cbr\\u003ework_year=%{x}\\u003cbr\\u003esalary_in_usd=%{y}\\u003cextra\\u003e\\u003c\\u002fextra\\u003e\",\"legendgroup\":\"Head of Data\",\"line\":{\"color\":\"#FF6692\",\"dash\":\"solid\"},\"marker\":{\"symbol\":\"circle\"},\"mode\":\"markers+lines\",\"name\":\"Head of Data\",\"orientation\":\"v\",\"showlegend\":true,\"x\":[2021],\"xaxis\":\"x\",\"y\":[232500.0],\"yaxis\":\"y\",\"type\":\"scatter\"},{\"hovertemplate\":\"job_title=Head of Data Science\\u003cbr\\u003ework_year=%{x}\\u003cbr\\u003esalary_in_usd=%{y}\\u003cextra\\u003e\\u003c\\u002fextra\\u003e\",\"legendgroup\":\"Head of Data Science\",\"line\":{\"color\":\"#B6E880\",\"dash\":\"solid\"},\"marker\":{\"symbol\":\"circle\"},\"mode\":\"markers+lines\",\"name\":\"Head of Data Science\",\"orientation\":\"v\",\"showlegend\":true,\"x\":[2021],\"xaxis\":\"x\",\"y\":[97500.0],\"yaxis\":\"y\",\"type\":\"scatter\"},{\"hovertemplate\":\"job_title=Manager Data Science\\u003cbr\\u003ework_year=%{x}\\u003cbr\\u003esalary_in_usd=%{y}\\u003cextra\\u003e\\u003c\\u002fextra\\u003e\",\"legendgroup\":\"Manager Data Science\",\"line\":{\"color\":\"#FF97FF\",\"dash\":\"solid\"},\"marker\":{\"symbol\":\"circle\"},\"mode\":\"markers+lines\",\"name\":\"Manager Data Science\",\"orientation\":\"v\",\"showlegend\":true,\"x\":[2021],\"xaxis\":\"x\",\"y\":[144000.0],\"yaxis\":\"y\",\"type\":\"scatter\"},{\"hovertemplate\":\"job_title=Marketing Data Analyst\\u003cbr\\u003ework_year=%{x}\\u003cbr\\u003esalary_in_usd=%{y}\\u003cextra\\u003e\\u003c\\u002fextra\\u003e\",\"legendgroup\":\"Marketing Data Analyst\",\"line\":{\"color\":\"#FECB52\",\"dash\":\"solid\"},\"marker\":{\"symbol\":\"circle\"},\"mode\":\"markers+lines\",\"name\":\"Marketing Data Analyst\",\"orientation\":\"v\",\"showlegend\":true,\"x\":[2021],\"xaxis\":\"x\",\"y\":[89402.0],\"yaxis\":\"y\",\"type\":\"scatter\"},{\"hovertemplate\":\"job_title=Principal Data Analyst\\u003cbr\\u003ework_year=%{x}\\u003cbr\\u003esalary_in_usd=%{y}\\u003cextra\\u003e\\u003c\\u002fextra\\u003e\",\"legendgroup\":\"Principal Data Analyst\",\"line\":{\"color\":\"#636efa\",\"dash\":\"solid\"},\"marker\":{\"symbol\":\"circle\"},\"mode\":\"markers+lines\",\"name\":\"Principal Data Analyst\",\"orientation\":\"v\",\"showlegend\":true,\"x\":[2021],\"xaxis\":\"x\",\"y\":[170000.0],\"yaxis\":\"y\",\"type\":\"scatter\"},{\"hovertemplate\":\"job_title=Principal Data Engineer\\u003cbr\\u003ework_year=%{x}\\u003cbr\\u003esalary_in_usd=%{y}\\u003cextra\\u003e\\u003c\\u002fextra\\u003e\",\"legendgroup\":\"Principal Data Engineer\",\"line\":{\"color\":\"#EF553B\",\"dash\":\"solid\"},\"marker\":{\"symbol\":\"circle\"},\"mode\":\"markers+lines\",\"name\":\"Principal Data Engineer\",\"orientation\":\"v\",\"showlegend\":true,\"x\":[2021],\"xaxis\":\"x\",\"y\":[392500.0],\"yaxis\":\"y\",\"type\":\"scatter\"},{\"hovertemplate\":\"job_title=Staff Data Scientist\\u003cbr\\u003ework_year=%{x}\\u003cbr\\u003esalary_in_usd=%{y}\\u003cextra\\u003e\\u003c\\u002fextra\\u003e\",\"legendgroup\":\"Staff Data Scientist\",\"line\":{\"color\":\"#00cc96\",\"dash\":\"solid\"},\"marker\":{\"symbol\":\"circle\"},\"mode\":\"markers+lines\",\"name\":\"Staff Data Scientist\",\"orientation\":\"v\",\"showlegend\":true,\"x\":[2021],\"xaxis\":\"x\",\"y\":[105000.0],\"yaxis\":\"y\",\"type\":\"scatter\"}],                        {\"template\":{\"data\":{\"histogram2dcontour\":[{\"type\":\"histogram2dcontour\",\"colorbar\":{\"outlinewidth\":0,\"ticks\":\"\"},\"colorscale\":[[0.0,\"#0d0887\"],[0.1111111111111111,\"#46039f\"],[0.2222222222222222,\"#7201a8\"],[0.3333333333333333,\"#9c179e\"],[0.4444444444444444,\"#bd3786\"],[0.5555555555555556,\"#d8576b\"],[0.6666666666666666,\"#ed7953\"],[0.7777777777777778,\"#fb9f3a\"],[0.8888888888888888,\"#fdca26\"],[1.0,\"#f0f921\"]]}],\"choropleth\":[{\"type\":\"choropleth\",\"colorbar\":{\"outlinewidth\":0,\"ticks\":\"\"}}],\"histogram2d\":[{\"type\":\"histogram2d\",\"colorbar\":{\"outlinewidth\":0,\"ticks\":\"\"},\"colorscale\":[[0.0,\"#0d0887\"],[0.1111111111111111,\"#46039f\"],[0.2222222222222222,\"#7201a8\"],[0.3333333333333333,\"#9c179e\"],[0.4444444444444444,\"#bd3786\"],[0.5555555555555556,\"#d8576b\"],[0.6666666666666666,\"#ed7953\"],[0.7777777777777778,\"#fb9f3a\"],[0.8888888888888888,\"#fdca26\"],[1.0,\"#f0f921\"]]}],\"heatmap\":[{\"type\":\"heatmap\",\"colorbar\":{\"outlinewidth\":0,\"ticks\":\"\"},\"colorscale\":[[0.0,\"#0d0887\"],[0.1111111111111111,\"#46039f\"],[0.2222222222222222,\"#7201a8\"],[0.3333333333333333,\"#9c179e\"],[0.4444444444444444,\"#bd3786\"],[0.5555555555555556,\"#d8576b\"],[0.6666666666666666,\"#ed7953\"],[0.7777777777777778,\"#fb9f3a\"],[0.8888888888888888,\"#fdca26\"],[1.0,\"#f0f921\"]]}],\"heatmapgl\":[{\"type\":\"heatmapgl\",\"colorbar\":{\"outlinewidth\":0,\"ticks\":\"\"},\"colorscale\":[[0.0,\"#0d0887\"],[0.1111111111111111,\"#46039f\"],[0.2222222222222222,\"#7201a8\"],[0.3333333333333333,\"#9c179e\"],[0.4444444444444444,\"#bd3786\"],[0.5555555555555556,\"#d8576b\"],[0.6666666666666666,\"#ed7953\"],[0.7777777777777778,\"#fb9f3a\"],[0.8888888888888888,\"#fdca26\"],[1.0,\"#f0f921\"]]}],\"contourcarpet\":[{\"type\":\"contourcarpet\",\"colorbar\":{\"outlinewidth\":0,\"ticks\":\"\"}}],\"contour\":[{\"type\":\"contour\",\"colorbar\":{\"outlinewidth\":0,\"ticks\":\"\"},\"colorscale\":[[0.0,\"#0d0887\"],[0.1111111111111111,\"#46039f\"],[0.2222222222222222,\"#7201a8\"],[0.3333333333333333,\"#9c179e\"],[0.4444444444444444,\"#bd3786\"],[0.5555555555555556,\"#d8576b\"],[0.6666666666666666,\"#ed7953\"],[0.7777777777777778,\"#fb9f3a\"],[0.8888888888888888,\"#fdca26\"],[1.0,\"#f0f921\"]]}],\"surface\":[{\"type\":\"surface\",\"colorbar\":{\"outlinewidth\":0,\"ticks\":\"\"},\"colorscale\":[[0.0,\"#0d0887\"],[0.1111111111111111,\"#46039f\"],[0.2222222222222222,\"#7201a8\"],[0.3333333333333333,\"#9c179e\"],[0.4444444444444444,\"#bd3786\"],[0.5555555555555556,\"#d8576b\"],[0.6666666666666666,\"#ed7953\"],[0.7777777777777778,\"#fb9f3a\"],[0.8888888888888888,\"#fdca26\"],[1.0,\"#f0f921\"]]}],\"mesh3d\":[{\"type\":\"mesh3d\",\"colorbar\":{\"outlinewidth\":0,\"ticks\":\"\"}}],\"scatter\":[{\"fillpattern\":{\"fillmode\":\"overlay\",\"size\":10,\"solidity\":0.2},\"type\":\"scatter\"}],\"parcoords\":[{\"type\":\"parcoords\",\"line\":{\"colorbar\":{\"outlinewidth\":0,\"ticks\":\"\"}}}],\"scatterpolargl\":[{\"type\":\"scatterpolargl\",\"marker\":{\"colorbar\":{\"outlinewidth\":0,\"ticks\":\"\"}}}],\"bar\":[{\"error_x\":{\"color\":\"#2a3f5f\"},\"error_y\":{\"color\":\"#2a3f5f\"},\"marker\":{\"line\":{\"color\":\"#E5ECF6\",\"width\":0.5},\"pattern\":{\"fillmode\":\"overlay\",\"size\":10,\"solidity\":0.2}},\"type\":\"bar\"}],\"scattergeo\":[{\"type\":\"scattergeo\",\"marker\":{\"colorbar\":{\"outlinewidth\":0,\"ticks\":\"\"}}}],\"scatterpolar\":[{\"type\":\"scatterpolar\",\"marker\":{\"colorbar\":{\"outlinewidth\":0,\"ticks\":\"\"}}}],\"histogram\":[{\"marker\":{\"pattern\":{\"fillmode\":\"overlay\",\"size\":10,\"solidity\":0.2}},\"type\":\"histogram\"}],\"scattergl\":[{\"type\":\"scattergl\",\"marker\":{\"colorbar\":{\"outlinewidth\":0,\"ticks\":\"\"}}}],\"scatter3d\":[{\"type\":\"scatter3d\",\"line\":{\"colorbar\":{\"outlinewidth\":0,\"ticks\":\"\"}},\"marker\":{\"colorbar\":{\"outlinewidth\":0,\"ticks\":\"\"}}}],\"scattermapbox\":[{\"type\":\"scattermapbox\",\"marker\":{\"colorbar\":{\"outlinewidth\":0,\"ticks\":\"\"}}}],\"scatterternary\":[{\"type\":\"scatterternary\",\"marker\":{\"colorbar\":{\"outlinewidth\":0,\"ticks\":\"\"}}}],\"scattercarpet\":[{\"type\":\"scattercarpet\",\"marker\":{\"colorbar\":{\"outlinewidth\":0,\"ticks\":\"\"}}}],\"carpet\":[{\"aaxis\":{\"endlinecolor\":\"#2a3f5f\",\"gridcolor\":\"white\",\"linecolor\":\"white\",\"minorgridcolor\":\"white\",\"startlinecolor\":\"#2a3f5f\"},\"baxis\":{\"endlinecolor\":\"#2a3f5f\",\"gridcolor\":\"white\",\"linecolor\":\"white\",\"minorgridcolor\":\"white\",\"startlinecolor\":\"#2a3f5f\"},\"type\":\"carpet\"}],\"table\":[{\"cells\":{\"fill\":{\"color\":\"#EBF0F8\"},\"line\":{\"color\":\"white\"}},\"header\":{\"fill\":{\"color\":\"#C8D4E3\"},\"line\":{\"color\":\"white\"}},\"type\":\"table\"}],\"barpolar\":[{\"marker\":{\"line\":{\"color\":\"#E5ECF6\",\"width\":0.5},\"pattern\":{\"fillmode\":\"overlay\",\"size\":10,\"solidity\":0.2}},\"type\":\"barpolar\"}],\"pie\":[{\"automargin\":true,\"type\":\"pie\"}]},\"layout\":{\"autotypenumbers\":\"strict\",\"colorway\":[\"#636efa\",\"#EF553B\",\"#00cc96\",\"#ab63fa\",\"#FFA15A\",\"#19d3f3\",\"#FF6692\",\"#B6E880\",\"#FF97FF\",\"#FECB52\"],\"font\":{\"color\":\"#2a3f5f\"},\"hovermode\":\"closest\",\"hoverlabel\":{\"align\":\"left\"},\"paper_bgcolor\":\"white\",\"plot_bgcolor\":\"#E5ECF6\",\"polar\":{\"bgcolor\":\"#E5ECF6\",\"angularaxis\":{\"gridcolor\":\"white\",\"linecolor\":\"white\",\"ticks\":\"\"},\"radialaxis\":{\"gridcolor\":\"white\",\"linecolor\":\"white\",\"ticks\":\"\"}},\"ternary\":{\"bgcolor\":\"#E5ECF6\",\"aaxis\":{\"gridcolor\":\"white\",\"linecolor\":\"white\",\"ticks\":\"\"},\"baxis\":{\"gridcolor\":\"white\",\"linecolor\":\"white\",\"ticks\":\"\"},\"caxis\":{\"gridcolor\":\"white\",\"linecolor\":\"white\",\"ticks\":\"\"}},\"coloraxis\":{\"colorbar\":{\"outlinewidth\":0,\"ticks\":\"\"}},\"colorscale\":{\"sequential\":[[0.0,\"#0d0887\"],[0.1111111111111111,\"#46039f\"],[0.2222222222222222,\"#7201a8\"],[0.3333333333333333,\"#9c179e\"],[0.4444444444444444,\"#bd3786\"],[0.5555555555555556,\"#d8576b\"],[0.6666666666666666,\"#ed7953\"],[0.7777777777777778,\"#fb9f3a\"],[0.8888888888888888,\"#fdca26\"],[1.0,\"#f0f921\"]],\"sequentialminus\":[[0.0,\"#0d0887\"],[0.1111111111111111,\"#46039f\"],[0.2222222222222222,\"#7201a8\"],[0.3333333333333333,\"#9c179e\"],[0.4444444444444444,\"#bd3786\"],[0.5555555555555556,\"#d8576b\"],[0.6666666666666666,\"#ed7953\"],[0.7777777777777778,\"#fb9f3a\"],[0.8888888888888888,\"#fdca26\"],[1.0,\"#f0f921\"]],\"diverging\":[[0,\"#8e0152\"],[0.1,\"#c51b7d\"],[0.2,\"#de77ae\"],[0.3,\"#f1b6da\"],[0.4,\"#fde0ef\"],[0.5,\"#f7f7f7\"],[0.6,\"#e6f5d0\"],[0.7,\"#b8e186\"],[0.8,\"#7fbc41\"],[0.9,\"#4d9221\"],[1,\"#276419\"]]},\"xaxis\":{\"gridcolor\":\"white\",\"linecolor\":\"white\",\"ticks\":\"\",\"title\":{\"standoff\":15},\"zerolinecolor\":\"white\",\"automargin\":true,\"zerolinewidth\":2},\"yaxis\":{\"gridcolor\":\"white\",\"linecolor\":\"white\",\"ticks\":\"\",\"title\":{\"standoff\":15},\"zerolinecolor\":\"white\",\"automargin\":true,\"zerolinewidth\":2},\"scene\":{\"xaxis\":{\"backgroundcolor\":\"#E5ECF6\",\"gridcolor\":\"white\",\"linecolor\":\"white\",\"showbackground\":true,\"ticks\":\"\",\"zerolinecolor\":\"white\",\"gridwidth\":2},\"yaxis\":{\"backgroundcolor\":\"#E5ECF6\",\"gridcolor\":\"white\",\"linecolor\":\"white\",\"showbackground\":true,\"ticks\":\"\",\"zerolinecolor\":\"white\",\"gridwidth\":2},\"zaxis\":{\"backgroundcolor\":\"#E5ECF6\",\"gridcolor\":\"white\",\"linecolor\":\"white\",\"showbackground\":true,\"ticks\":\"\",\"zerolinecolor\":\"white\",\"gridwidth\":2}},\"shapedefaults\":{\"line\":{\"color\":\"#2a3f5f\"}},\"annotationdefaults\":{\"arrowcolor\":\"#2a3f5f\",\"arrowhead\":0,\"arrowwidth\":1},\"geo\":{\"bgcolor\":\"white\",\"landcolor\":\"#E5ECF6\",\"subunitcolor\":\"white\",\"showland\":true,\"showlakes\":true,\"lakecolor\":\"white\"},\"title\":{\"x\":0.05},\"mapbox\":{\"style\":\"light\"}}},\"xaxis\":{\"anchor\":\"y\",\"domain\":[0.0,1.0],\"title\":{\"text\":\"Year\"}},\"yaxis\":{\"anchor\":\"x\",\"domain\":[0.0,1.0],\"title\":{\"text\":\"Average Salary (USD)\"},\"tickformat\":\".2s\"},\"legend\":{\"title\":{\"text\":\"job_title\"},\"tracegroupgap\":0},\"title\":{\"text\":\"Salary Trends between 2020 and 2021 by Job Title\"}},                        {\"responsive\": true}                    ).then(function(){\n                            \nvar gd = document.getElementById('4432d01a-894c-46c3-9f6f-47238afed549');\nvar x = new MutationObserver(function (mutations, observer) {{\n        var display = window.getComputedStyle(gd).display;\n        if (!display || display === 'none') {{\n            console.log([gd, 'removed!']);\n            Plotly.purge(gd);\n            observer.disconnect();\n        }}\n}});\n\n// Listen for the removal of the full notebook cells\nvar notebookContainer = gd.closest('#notebook-container');\nif (notebookContainer) {{\n    x.observe(notebookContainer, {childList: true});\n}}\n\n// Listen for the clearing of the current output cell\nvar outputEl = gd.closest('.output');\nif (outputEl) {{\n    x.observe(outputEl, {childList: true});\n}}\n\n                        })                };                });            </script>        </div>"
          },
          "metadata": {}
        }
      ]
    },
    {
      "cell_type": "code",
      "source": [
        "import pandas as pd\n",
        "\n",
        "# Load the dataset\n",
        "data = pd.read_csv('/kaggle/input/data-science-jobs-salaries/Data Science Jobs Salaries.csv')\n",
        "\n",
        "# Display the first few rows of the dataset to confirm data is loaded correctly\n",
        "print(data.head())\n",
        "\n",
        "# Data Cleaning\n",
        "# Renaming columns to remove spaces and convert to lowercase for easier access\n",
        "data.columns = [col.strip().replace(' ', '_').lower() for col in data.columns]\n",
        "\n",
        "# Fixing the work_year column to ensure it contains only valid years\n",
        "data['work_year'] = data['work_year'].str.extract('(\\d{4})')  # Extract 4-digit year\n",
        "data['work_year'] = pd.to_numeric(data['work_year'], errors='coerce')  # Convert to numeric, coerce errors to NaN\n",
        "data.dropna(subset=['work_year'], inplace=True)  # Drop rows where work_year is NaN\n",
        "data['work_year'] = data['work_year'].astype(int)  # Convert to integer\n",
        "\n",
        "# Display the first few rows of the cleaned dataset\n",
        "print(data.head())\n"
      ],
      "metadata": {
        "execution": {
          "iopub.status.busy": "2024-07-14T14:08:21.490798Z",
          "iopub.execute_input": "2024-07-14T14:08:21.491226Z",
          "iopub.status.idle": "2024-07-14T14:08:21.518277Z",
          "shell.execute_reply.started": "2024-07-14T14:08:21.491163Z",
          "shell.execute_reply": "2024-07-14T14:08:21.517322Z"
        },
        "collapsed": true,
        "jupyter": {
          "outputs_hidden": true,
          "source_hidden": true
        },
        "trusted": true,
        "id": "uHlOf4KzvH_Z",
        "outputId": "8bd2d550-11ed-4d8e-847f-56857379d09e"
      },
      "execution_count": null,
      "outputs": [
        {
          "name": "stdout",
          "text": "  work_year experience_level employment_type                  job_title  \\\n0     2021e               EN              FT    Data Science Consultant   \n1      2020               SE              FT             Data Scientist   \n2     2021e               EX              FT       Head of Data Science   \n3     2021e               EX              FT               Head of Data   \n4     2021e               EN              FT  Machine Learning Engineer   \n\n   salary salary_currency  salary_in_usd employee_residence  remote_ratio  \\\n0   54000             EUR          64369                 DE            50   \n1   60000             EUR          68428                 GR           100   \n2   85000             USD          85000                 RU             0   \n3  230000             USD         230000                 RU            50   \n4  125000             USD         125000                 US           100   \n\n  company_location company_size  \n0               DE            L  \n1               US            L  \n2               RU            M  \n3               RU            L  \n4               US            S  \n   work_year experience_level employment_type                  job_title  \\\n0       2021               EN              FT    Data Science Consultant   \n1       2020               SE              FT             Data Scientist   \n2       2021               EX              FT       Head of Data Science   \n3       2021               EX              FT               Head of Data   \n4       2021               EN              FT  Machine Learning Engineer   \n\n   salary salary_currency  salary_in_usd employee_residence  remote_ratio  \\\n0   54000             EUR          64369                 DE            50   \n1   60000             EUR          68428                 GR           100   \n2   85000             USD          85000                 RU             0   \n3  230000             USD         230000                 RU            50   \n4  125000             USD         125000                 US           100   \n\n  company_location company_size  \n0               DE            L  \n1               US            L  \n2               RU            M  \n3               RU            L  \n4               US            S  \n",
          "output_type": "stream"
        }
      ]
    },
    {
      "cell_type": "code",
      "source": [
        "import pandas as pd\n",
        "\n",
        "# Load the dataset\n",
        "file_path = '/kaggle/input/data-science-jobs-salaries/Data Science Jobs Salaries.csv'\n",
        "data = pd.read_csv(file_path)\n",
        "\n",
        "# Display the first few rows of the dataset to confirm data is loaded correctly\n",
        "print(data.head())\n",
        "\n",
        "# Data Cleaning\n",
        "# Renaming columns to remove spaces and convert to lowercase for easier access\n",
        "data.columns = [col.strip().replace(' ', '_').lower() for col in data.columns]\n",
        "\n",
        "# Fixing the work_year column to ensure it contains only valid years\n",
        "data['work_year'] = data['work_year'].str.extract('(\\d{4})')  # Extract 4-digit year\n",
        "data['work_year'] = pd.to_numeric(data['work_year'], errors='coerce')  # Convert to numeric, coerce errors to NaN\n",
        "data.dropna(subset=['work_year'], inplace=True)  # Drop rows where work_year is NaN\n",
        "data['work_year'] = data['work_year'].astype(int)  # Convert to integer\n",
        "\n",
        "# Save the cleaned dataset back to CSV\n",
        "data.to_csv('cleaned_data.csv', index=False)\n",
        "\n",
        "# Display the first few rows of the cleaned dataset\n",
        "print(data.head())\n"
      ],
      "metadata": {
        "execution": {
          "iopub.status.busy": "2024-07-14T14:09:31.287598Z",
          "iopub.execute_input": "2024-07-14T14:09:31.288181Z",
          "iopub.status.idle": "2024-07-14T14:09:31.32571Z",
          "shell.execute_reply.started": "2024-07-14T14:09:31.288143Z",
          "shell.execute_reply": "2024-07-14T14:09:31.324787Z"
        },
        "collapsed": true,
        "jupyter": {
          "outputs_hidden": true,
          "source_hidden": true
        },
        "trusted": true,
        "id": "A22pHlZ1vH_a",
        "outputId": "cc553dfe-65d8-4491-ab82-5248336aeef3"
      },
      "execution_count": null,
      "outputs": [
        {
          "name": "stdout",
          "text": "  work_year experience_level employment_type                  job_title  \\\n0     2021e               EN              FT    Data Science Consultant   \n1      2020               SE              FT             Data Scientist   \n2     2021e               EX              FT       Head of Data Science   \n3     2021e               EX              FT               Head of Data   \n4     2021e               EN              FT  Machine Learning Engineer   \n\n   salary salary_currency  salary_in_usd employee_residence  remote_ratio  \\\n0   54000             EUR          64369                 DE            50   \n1   60000             EUR          68428                 GR           100   \n2   85000             USD          85000                 RU             0   \n3  230000             USD         230000                 RU            50   \n4  125000             USD         125000                 US           100   \n\n  company_location company_size  \n0               DE            L  \n1               US            L  \n2               RU            M  \n3               RU            L  \n4               US            S  \n   work_year experience_level employment_type                  job_title  \\\n0       2021               EN              FT    Data Science Consultant   \n1       2020               SE              FT             Data Scientist   \n2       2021               EX              FT       Head of Data Science   \n3       2021               EX              FT               Head of Data   \n4       2021               EN              FT  Machine Learning Engineer   \n\n   salary salary_currency  salary_in_usd employee_residence  remote_ratio  \\\n0   54000             EUR          64369                 DE            50   \n1   60000             EUR          68428                 GR           100   \n2   85000             USD          85000                 RU             0   \n3  230000             USD         230000                 RU            50   \n4  125000             USD         125000                 US           100   \n\n  company_location company_size  \n0               DE            L  \n1               US            L  \n2               RU            M  \n3               RU            L  \n4               US            S  \n",
          "output_type": "stream"
        }
      ]
    },
    {
      "cell_type": "code",
      "source": [
        "import pandas as pd\n",
        "\n",
        "# Load the cleaned dataset\n",
        "cleaned_file_path = 'cleaned_data.csv'\n",
        "cleaned_data = pd.read_csv(cleaned_file_path)\n",
        "\n",
        "# Display the unique values in the work_year column\n",
        "print(\"Unique values in 'work_year' column:\", cleaned_data['work_year'].unique())\n",
        "\n",
        "# Display the first few rows of the cleaned dataset\n",
        "print(cleaned_data.head())\n",
        "\n",
        "# Verify the data types\n",
        "print(\"\\nData types:\")\n",
        "print(cleaned_data.dtypes)\n"
      ],
      "metadata": {
        "execution": {
          "iopub.status.busy": "2024-07-14T14:10:37.071801Z",
          "iopub.execute_input": "2024-07-14T14:10:37.07214Z",
          "iopub.status.idle": "2024-07-14T14:10:37.093419Z",
          "shell.execute_reply.started": "2024-07-14T14:10:37.072113Z",
          "shell.execute_reply": "2024-07-14T14:10:37.092224Z"
        },
        "jupyter": {
          "source_hidden": true,
          "outputs_hidden": true
        },
        "collapsed": true,
        "trusted": true,
        "id": "IpgEPw4bvH_a",
        "outputId": "f383812f-5885-4997-a929-306f13702bbe"
      },
      "execution_count": null,
      "outputs": [
        {
          "name": "stdout",
          "text": "Unique values in 'work_year' column: [2021 2020]\n   work_year experience_level employment_type                  job_title  \\\n0       2021               EN              FT    Data Science Consultant   \n1       2020               SE              FT             Data Scientist   \n2       2021               EX              FT       Head of Data Science   \n3       2021               EX              FT               Head of Data   \n4       2021               EN              FT  Machine Learning Engineer   \n\n   salary salary_currency  salary_in_usd employee_residence  remote_ratio  \\\n0   54000             EUR          64369                 DE            50   \n1   60000             EUR          68428                 GR           100   \n2   85000             USD          85000                 RU             0   \n3  230000             USD         230000                 RU            50   \n4  125000             USD         125000                 US           100   \n\n  company_location company_size  \n0               DE            L  \n1               US            L  \n2               RU            M  \n3               RU            L  \n4               US            S  \n\nData types:\nwork_year              int64\nexperience_level      object\nemployment_type       object\njob_title             object\nsalary                 int64\nsalary_currency       object\nsalary_in_usd          int64\nemployee_residence    object\nremote_ratio           int64\ncompany_location      object\ncompany_size          object\ndtype: object\n",
          "output_type": "stream"
        }
      ]
    },
    {
      "cell_type": "code",
      "source": [
        "import pandas as pd\n",
        "\n",
        "# Load the cleaned dataset\n",
        "cleaned_file_path = 'cleaned_data.csv'\n",
        "data = pd.read_csv(cleaned_file_path)\n",
        "\n",
        "# Filter data for the years 2020 and 2021\n",
        "data_filtered = data[data['work_year'].isin([2020, 2021])]\n",
        "\n",
        "# Group by job_title and work_year, then calculate the mean salary\n",
        "avg_salary_by_title = data_filtered.groupby(['job_title', 'work_year'])['salary_in_usd'].mean().reset_index()\n",
        "\n",
        "# Pivot the data to have years as columns\n",
        "pivot_data = avg_salary_by_title.pivot(index='job_title', columns='work_year', values='salary_in_usd').reset_index()\n",
        "\n",
        "# Calculate the percentage change\n",
        "pivot_data['percentage_change'] = ((pivot_data[2021] - pivot_data[2020]) / pivot_data[2020]) * 100\n",
        "\n",
        "# Drop rows with NaN values (titles that don't exist in both years)\n",
        "pivot_data.dropna(inplace=True)\n",
        "\n",
        "# Sort by percentage change\n",
        "pivot_data_sorted = pivot_data.sort_values(by='percentage_change')\n",
        "\n",
        "# Get the top 3 increases and decreases\n",
        "top_3_decreases = pivot_data_sorted.head(3)\n",
        "top_3_increases = pivot_data_sorted.tail(3)\n",
        "\n",
        "# Combine the results\n",
        "result = pd.concat([top_3_decreases, top_3_increases])\n",
        "\n",
        "import plotly.express as px\n",
        "\n",
        "# Create a bar plot to show the percentage change\n",
        "fig = px.bar(result, x='job_title', y='percentage_change',\n",
        "             title='Top 3 Job Titles with Biggest Salary Increase and Decrease from 2020 to 2021',\n",
        "             labels={'job_title': 'Job Title', 'percentage_change': 'Percentage Change (%)'},\n",
        "             color='percentage_change',\n",
        "             color_continuous_scale='RdYlGn',\n",
        "             height=400)\n",
        "fig.show()\n"
      ],
      "metadata": {
        "execution": {
          "iopub.status.busy": "2024-07-14T14:28:54.79293Z",
          "iopub.execute_input": "2024-07-14T14:28:54.793565Z",
          "iopub.status.idle": "2024-07-14T14:28:54.967807Z",
          "shell.execute_reply.started": "2024-07-14T14:28:54.793531Z",
          "shell.execute_reply": "2024-07-14T14:28:54.966945Z"
        },
        "jupyter": {
          "source_hidden": true
        },
        "trusted": true,
        "id": "r5TeF8yEvH_a",
        "outputId": "8e31187c-825b-4fa3-e909-de13027d99ae"
      },
      "execution_count": null,
      "outputs": [
        {
          "output_type": "display_data",
          "data": {
            "text/html": "<div>                            <div id=\"07f2ab4e-c98a-4d63-9307-d73f7d5a64f1\" class=\"plotly-graph-div\" style=\"height:400px; width:100%;\"></div>            <script type=\"text/javascript\">                require([\"plotly\"], function(Plotly) {                    window.PLOTLYENV=window.PLOTLYENV || {};                                    if (document.getElementById(\"07f2ab4e-c98a-4d63-9307-d73f7d5a64f1\")) {                    Plotly.newPlot(                        \"07f2ab4e-c98a-4d63-9307-d73f7d5a64f1\",                        [{\"alignmentgroup\":\"True\",\"hovertemplate\":\"Job Title=%{x}\\u003cbr\\u003ePercentage Change (%)=%{marker.color}\\u003cextra\\u003e\\u003c\\u002fextra\\u003e\",\"legendgroup\":\"\",\"marker\":{\"color\":[-85.91479842740652,-64.44451219512194,-60.08166666666666,104.80252527150427,288.60103626943004,1547.2504071151195],\"coloraxis\":\"coloraxis\",\"pattern\":{\"shape\":\"\"}},\"name\":\"\",\"offsetgroup\":\"\",\"orientation\":\"v\",\"showlegend\":false,\"textposition\":\"auto\",\"x\":[\"Big Data Engineer\",\"Research Scientist\",\"Computer Vision Engineer\",\"Data Engineering Manager\",\"Machine Learning Infrastructure Engineer\",\"ML Engineer\"],\"xaxis\":\"x\",\"y\":[-85.91479842740652,-64.44451219512194,-60.08166666666666,104.80252527150427,288.60103626943004,1547.2504071151195],\"yaxis\":\"y\",\"type\":\"bar\"}],                        {\"template\":{\"data\":{\"histogram2dcontour\":[{\"type\":\"histogram2dcontour\",\"colorbar\":{\"outlinewidth\":0,\"ticks\":\"\"},\"colorscale\":[[0.0,\"#0d0887\"],[0.1111111111111111,\"#46039f\"],[0.2222222222222222,\"#7201a8\"],[0.3333333333333333,\"#9c179e\"],[0.4444444444444444,\"#bd3786\"],[0.5555555555555556,\"#d8576b\"],[0.6666666666666666,\"#ed7953\"],[0.7777777777777778,\"#fb9f3a\"],[0.8888888888888888,\"#fdca26\"],[1.0,\"#f0f921\"]]}],\"choropleth\":[{\"type\":\"choropleth\",\"colorbar\":{\"outlinewidth\":0,\"ticks\":\"\"}}],\"histogram2d\":[{\"type\":\"histogram2d\",\"colorbar\":{\"outlinewidth\":0,\"ticks\":\"\"},\"colorscale\":[[0.0,\"#0d0887\"],[0.1111111111111111,\"#46039f\"],[0.2222222222222222,\"#7201a8\"],[0.3333333333333333,\"#9c179e\"],[0.4444444444444444,\"#bd3786\"],[0.5555555555555556,\"#d8576b\"],[0.6666666666666666,\"#ed7953\"],[0.7777777777777778,\"#fb9f3a\"],[0.8888888888888888,\"#fdca26\"],[1.0,\"#f0f921\"]]}],\"heatmap\":[{\"type\":\"heatmap\",\"colorbar\":{\"outlinewidth\":0,\"ticks\":\"\"},\"colorscale\":[[0.0,\"#0d0887\"],[0.1111111111111111,\"#46039f\"],[0.2222222222222222,\"#7201a8\"],[0.3333333333333333,\"#9c179e\"],[0.4444444444444444,\"#bd3786\"],[0.5555555555555556,\"#d8576b\"],[0.6666666666666666,\"#ed7953\"],[0.7777777777777778,\"#fb9f3a\"],[0.8888888888888888,\"#fdca26\"],[1.0,\"#f0f921\"]]}],\"heatmapgl\":[{\"type\":\"heatmapgl\",\"colorbar\":{\"outlinewidth\":0,\"ticks\":\"\"},\"colorscale\":[[0.0,\"#0d0887\"],[0.1111111111111111,\"#46039f\"],[0.2222222222222222,\"#7201a8\"],[0.3333333333333333,\"#9c179e\"],[0.4444444444444444,\"#bd3786\"],[0.5555555555555556,\"#d8576b\"],[0.6666666666666666,\"#ed7953\"],[0.7777777777777778,\"#fb9f3a\"],[0.8888888888888888,\"#fdca26\"],[1.0,\"#f0f921\"]]}],\"contourcarpet\":[{\"type\":\"contourcarpet\",\"colorbar\":{\"outlinewidth\":0,\"ticks\":\"\"}}],\"contour\":[{\"type\":\"contour\",\"colorbar\":{\"outlinewidth\":0,\"ticks\":\"\"},\"colorscale\":[[0.0,\"#0d0887\"],[0.1111111111111111,\"#46039f\"],[0.2222222222222222,\"#7201a8\"],[0.3333333333333333,\"#9c179e\"],[0.4444444444444444,\"#bd3786\"],[0.5555555555555556,\"#d8576b\"],[0.6666666666666666,\"#ed7953\"],[0.7777777777777778,\"#fb9f3a\"],[0.8888888888888888,\"#fdca26\"],[1.0,\"#f0f921\"]]}],\"surface\":[{\"type\":\"surface\",\"colorbar\":{\"outlinewidth\":0,\"ticks\":\"\"},\"colorscale\":[[0.0,\"#0d0887\"],[0.1111111111111111,\"#46039f\"],[0.2222222222222222,\"#7201a8\"],[0.3333333333333333,\"#9c179e\"],[0.4444444444444444,\"#bd3786\"],[0.5555555555555556,\"#d8576b\"],[0.6666666666666666,\"#ed7953\"],[0.7777777777777778,\"#fb9f3a\"],[0.8888888888888888,\"#fdca26\"],[1.0,\"#f0f921\"]]}],\"mesh3d\":[{\"type\":\"mesh3d\",\"colorbar\":{\"outlinewidth\":0,\"ticks\":\"\"}}],\"scatter\":[{\"fillpattern\":{\"fillmode\":\"overlay\",\"size\":10,\"solidity\":0.2},\"type\":\"scatter\"}],\"parcoords\":[{\"type\":\"parcoords\",\"line\":{\"colorbar\":{\"outlinewidth\":0,\"ticks\":\"\"}}}],\"scatterpolargl\":[{\"type\":\"scatterpolargl\",\"marker\":{\"colorbar\":{\"outlinewidth\":0,\"ticks\":\"\"}}}],\"bar\":[{\"error_x\":{\"color\":\"#2a3f5f\"},\"error_y\":{\"color\":\"#2a3f5f\"},\"marker\":{\"line\":{\"color\":\"#E5ECF6\",\"width\":0.5},\"pattern\":{\"fillmode\":\"overlay\",\"size\":10,\"solidity\":0.2}},\"type\":\"bar\"}],\"scattergeo\":[{\"type\":\"scattergeo\",\"marker\":{\"colorbar\":{\"outlinewidth\":0,\"ticks\":\"\"}}}],\"scatterpolar\":[{\"type\":\"scatterpolar\",\"marker\":{\"colorbar\":{\"outlinewidth\":0,\"ticks\":\"\"}}}],\"histogram\":[{\"marker\":{\"pattern\":{\"fillmode\":\"overlay\",\"size\":10,\"solidity\":0.2}},\"type\":\"histogram\"}],\"scattergl\":[{\"type\":\"scattergl\",\"marker\":{\"colorbar\":{\"outlinewidth\":0,\"ticks\":\"\"}}}],\"scatter3d\":[{\"type\":\"scatter3d\",\"line\":{\"colorbar\":{\"outlinewidth\":0,\"ticks\":\"\"}},\"marker\":{\"colorbar\":{\"outlinewidth\":0,\"ticks\":\"\"}}}],\"scattermapbox\":[{\"type\":\"scattermapbox\",\"marker\":{\"colorbar\":{\"outlinewidth\":0,\"ticks\":\"\"}}}],\"scatterternary\":[{\"type\":\"scatterternary\",\"marker\":{\"colorbar\":{\"outlinewidth\":0,\"ticks\":\"\"}}}],\"scattercarpet\":[{\"type\":\"scattercarpet\",\"marker\":{\"colorbar\":{\"outlinewidth\":0,\"ticks\":\"\"}}}],\"carpet\":[{\"aaxis\":{\"endlinecolor\":\"#2a3f5f\",\"gridcolor\":\"white\",\"linecolor\":\"white\",\"minorgridcolor\":\"white\",\"startlinecolor\":\"#2a3f5f\"},\"baxis\":{\"endlinecolor\":\"#2a3f5f\",\"gridcolor\":\"white\",\"linecolor\":\"white\",\"minorgridcolor\":\"white\",\"startlinecolor\":\"#2a3f5f\"},\"type\":\"carpet\"}],\"table\":[{\"cells\":{\"fill\":{\"color\":\"#EBF0F8\"},\"line\":{\"color\":\"white\"}},\"header\":{\"fill\":{\"color\":\"#C8D4E3\"},\"line\":{\"color\":\"white\"}},\"type\":\"table\"}],\"barpolar\":[{\"marker\":{\"line\":{\"color\":\"#E5ECF6\",\"width\":0.5},\"pattern\":{\"fillmode\":\"overlay\",\"size\":10,\"solidity\":0.2}},\"type\":\"barpolar\"}],\"pie\":[{\"automargin\":true,\"type\":\"pie\"}]},\"layout\":{\"autotypenumbers\":\"strict\",\"colorway\":[\"#636efa\",\"#EF553B\",\"#00cc96\",\"#ab63fa\",\"#FFA15A\",\"#19d3f3\",\"#FF6692\",\"#B6E880\",\"#FF97FF\",\"#FECB52\"],\"font\":{\"color\":\"#2a3f5f\"},\"hovermode\":\"closest\",\"hoverlabel\":{\"align\":\"left\"},\"paper_bgcolor\":\"white\",\"plot_bgcolor\":\"#E5ECF6\",\"polar\":{\"bgcolor\":\"#E5ECF6\",\"angularaxis\":{\"gridcolor\":\"white\",\"linecolor\":\"white\",\"ticks\":\"\"},\"radialaxis\":{\"gridcolor\":\"white\",\"linecolor\":\"white\",\"ticks\":\"\"}},\"ternary\":{\"bgcolor\":\"#E5ECF6\",\"aaxis\":{\"gridcolor\":\"white\",\"linecolor\":\"white\",\"ticks\":\"\"},\"baxis\":{\"gridcolor\":\"white\",\"linecolor\":\"white\",\"ticks\":\"\"},\"caxis\":{\"gridcolor\":\"white\",\"linecolor\":\"white\",\"ticks\":\"\"}},\"coloraxis\":{\"colorbar\":{\"outlinewidth\":0,\"ticks\":\"\"}},\"colorscale\":{\"sequential\":[[0.0,\"#0d0887\"],[0.1111111111111111,\"#46039f\"],[0.2222222222222222,\"#7201a8\"],[0.3333333333333333,\"#9c179e\"],[0.4444444444444444,\"#bd3786\"],[0.5555555555555556,\"#d8576b\"],[0.6666666666666666,\"#ed7953\"],[0.7777777777777778,\"#fb9f3a\"],[0.8888888888888888,\"#fdca26\"],[1.0,\"#f0f921\"]],\"sequentialminus\":[[0.0,\"#0d0887\"],[0.1111111111111111,\"#46039f\"],[0.2222222222222222,\"#7201a8\"],[0.3333333333333333,\"#9c179e\"],[0.4444444444444444,\"#bd3786\"],[0.5555555555555556,\"#d8576b\"],[0.6666666666666666,\"#ed7953\"],[0.7777777777777778,\"#fb9f3a\"],[0.8888888888888888,\"#fdca26\"],[1.0,\"#f0f921\"]],\"diverging\":[[0,\"#8e0152\"],[0.1,\"#c51b7d\"],[0.2,\"#de77ae\"],[0.3,\"#f1b6da\"],[0.4,\"#fde0ef\"],[0.5,\"#f7f7f7\"],[0.6,\"#e6f5d0\"],[0.7,\"#b8e186\"],[0.8,\"#7fbc41\"],[0.9,\"#4d9221\"],[1,\"#276419\"]]},\"xaxis\":{\"gridcolor\":\"white\",\"linecolor\":\"white\",\"ticks\":\"\",\"title\":{\"standoff\":15},\"zerolinecolor\":\"white\",\"automargin\":true,\"zerolinewidth\":2},\"yaxis\":{\"gridcolor\":\"white\",\"linecolor\":\"white\",\"ticks\":\"\",\"title\":{\"standoff\":15},\"zerolinecolor\":\"white\",\"automargin\":true,\"zerolinewidth\":2},\"scene\":{\"xaxis\":{\"backgroundcolor\":\"#E5ECF6\",\"gridcolor\":\"white\",\"linecolor\":\"white\",\"showbackground\":true,\"ticks\":\"\",\"zerolinecolor\":\"white\",\"gridwidth\":2},\"yaxis\":{\"backgroundcolor\":\"#E5ECF6\",\"gridcolor\":\"white\",\"linecolor\":\"white\",\"showbackground\":true,\"ticks\":\"\",\"zerolinecolor\":\"white\",\"gridwidth\":2},\"zaxis\":{\"backgroundcolor\":\"#E5ECF6\",\"gridcolor\":\"white\",\"linecolor\":\"white\",\"showbackground\":true,\"ticks\":\"\",\"zerolinecolor\":\"white\",\"gridwidth\":2}},\"shapedefaults\":{\"line\":{\"color\":\"#2a3f5f\"}},\"annotationdefaults\":{\"arrowcolor\":\"#2a3f5f\",\"arrowhead\":0,\"arrowwidth\":1},\"geo\":{\"bgcolor\":\"white\",\"landcolor\":\"#E5ECF6\",\"subunitcolor\":\"white\",\"showland\":true,\"showlakes\":true,\"lakecolor\":\"white\"},\"title\":{\"x\":0.05},\"mapbox\":{\"style\":\"light\"}}},\"xaxis\":{\"anchor\":\"y\",\"domain\":[0.0,1.0],\"title\":{\"text\":\"Job Title\"}},\"yaxis\":{\"anchor\":\"x\",\"domain\":[0.0,1.0],\"title\":{\"text\":\"Percentage Change (%)\"}},\"coloraxis\":{\"colorbar\":{\"title\":{\"text\":\"Percentage Change (%)\"}},\"colorscale\":[[0.0,\"rgb(165,0,38)\"],[0.1,\"rgb(215,48,39)\"],[0.2,\"rgb(244,109,67)\"],[0.3,\"rgb(253,174,97)\"],[0.4,\"rgb(254,224,139)\"],[0.5,\"rgb(255,255,191)\"],[0.6,\"rgb(217,239,139)\"],[0.7,\"rgb(166,217,106)\"],[0.8,\"rgb(102,189,99)\"],[0.9,\"rgb(26,152,80)\"],[1.0,\"rgb(0,104,55)\"]]},\"legend\":{\"tracegroupgap\":0},\"title\":{\"text\":\"Top 3 Job Titles with Biggest Salary Increase and Decrease from 2020 to 2021\"},\"barmode\":\"relative\",\"height\":400},                        {\"responsive\": true}                    ).then(function(){\n                            \nvar gd = document.getElementById('07f2ab4e-c98a-4d63-9307-d73f7d5a64f1');\nvar x = new MutationObserver(function (mutations, observer) {{\n        var display = window.getComputedStyle(gd).display;\n        if (!display || display === 'none') {{\n            console.log([gd, 'removed!']);\n            Plotly.purge(gd);\n            observer.disconnect();\n        }}\n}});\n\n// Listen for the removal of the full notebook cells\nvar notebookContainer = gd.closest('#notebook-container');\nif (notebookContainer) {{\n    x.observe(notebookContainer, {childList: true});\n}}\n\n// Listen for the clearing of the current output cell\nvar outputEl = gd.closest('.output');\nif (outputEl) {{\n    x.observe(outputEl, {childList: true});\n}}\n\n                        })                };                });            </script>        </div>"
          },
          "metadata": {}
        }
      ]
    },
    {
      "cell_type": "markdown",
      "source": [
        "<a id='7'></a>\n",
        "<p style=\"background-color:#000080;font-family:newtimeroman;color:#ffffff;font-size:150%;text-align:center;border-radius:10px; padding: 10px;\">\n",
        "<b>7. Which company sizes (small, medium, large) offer the highest average salaries?</b>\n",
        "</p>\n"
      ],
      "metadata": {
        "id": "BKVpe0vhvH_b"
      }
    },
    {
      "cell_type": "code",
      "source": [
        "import pandas as pd\n",
        "import plotly.express as px\n",
        "\n",
        "# Load the cleaned dataset\n",
        "cleaned_file_path = 'cleaned_data.csv'\n",
        "data = pd.read_csv(cleaned_file_path)\n",
        "\n",
        "# Group by company_size and calculate the mean salary\n",
        "avg_salary_by_size = data.groupby('company_size')['salary_in_usd'].mean().reset_index()\n",
        "\n",
        "# Create a bar plot to show the average salary by company size\n",
        "fig = px.bar(avg_salary_by_size, x='company_size', y='salary_in_usd',\n",
        "             title='Average Salary by Company Size',\n",
        "             labels={'company_size': 'Company Size', 'salary_in_usd': 'Average Salary (USD)'},\n",
        "             color='salary_in_usd',\n",
        "             color_continuous_scale='Blues',\n",
        "             height=400)\n",
        "fig.show()\n"
      ],
      "metadata": {
        "execution": {
          "iopub.status.busy": "2024-07-14T14:31:57.866454Z",
          "iopub.execute_input": "2024-07-14T14:31:57.867151Z",
          "iopub.status.idle": "2024-07-14T14:31:57.941444Z",
          "shell.execute_reply.started": "2024-07-14T14:31:57.867097Z",
          "shell.execute_reply": "2024-07-14T14:31:57.940564Z"
        },
        "trusted": true,
        "id": "HXrSTvjsvH_b",
        "outputId": "5261bb2f-050d-4498-d58b-d082d56930b1"
      },
      "execution_count": null,
      "outputs": [
        {
          "output_type": "display_data",
          "data": {
            "text/html": "<div>                            <div id=\"1d0a963b-44dc-4c4d-beab-3d2b2ef1c32d\" class=\"plotly-graph-div\" style=\"height:400px; width:100%;\"></div>            <script type=\"text/javascript\">                require([\"plotly\"], function(Plotly) {                    window.PLOTLYENV=window.PLOTLYENV || {};                                    if (document.getElementById(\"1d0a963b-44dc-4c4d-beab-3d2b2ef1c32d\")) {                    Plotly.newPlot(                        \"1d0a963b-44dc-4c4d-beab-3d2b2ef1c32d\",                        [{\"alignmentgroup\":\"True\",\"hovertemplate\":\"Company Size=%{x}\\u003cbr\\u003eAverage Salary (USD)=%{marker.color}\\u003cextra\\u003e\\u003c\\u002fextra\\u003e\",\"legendgroup\":\"\",\"marker\":{\"color\":[114374.01515151515,85082.81818181818,80874.79310344828],\"coloraxis\":\"coloraxis\",\"pattern\":{\"shape\":\"\"}},\"name\":\"\",\"offsetgroup\":\"\",\"orientation\":\"v\",\"showlegend\":false,\"textposition\":\"auto\",\"x\":[\"L\",\"M\",\"S\"],\"xaxis\":\"x\",\"y\":[114374.01515151515,85082.81818181818,80874.79310344828],\"yaxis\":\"y\",\"type\":\"bar\"}],                        {\"template\":{\"data\":{\"histogram2dcontour\":[{\"type\":\"histogram2dcontour\",\"colorbar\":{\"outlinewidth\":0,\"ticks\":\"\"},\"colorscale\":[[0.0,\"#0d0887\"],[0.1111111111111111,\"#46039f\"],[0.2222222222222222,\"#7201a8\"],[0.3333333333333333,\"#9c179e\"],[0.4444444444444444,\"#bd3786\"],[0.5555555555555556,\"#d8576b\"],[0.6666666666666666,\"#ed7953\"],[0.7777777777777778,\"#fb9f3a\"],[0.8888888888888888,\"#fdca26\"],[1.0,\"#f0f921\"]]}],\"choropleth\":[{\"type\":\"choropleth\",\"colorbar\":{\"outlinewidth\":0,\"ticks\":\"\"}}],\"histogram2d\":[{\"type\":\"histogram2d\",\"colorbar\":{\"outlinewidth\":0,\"ticks\":\"\"},\"colorscale\":[[0.0,\"#0d0887\"],[0.1111111111111111,\"#46039f\"],[0.2222222222222222,\"#7201a8\"],[0.3333333333333333,\"#9c179e\"],[0.4444444444444444,\"#bd3786\"],[0.5555555555555556,\"#d8576b\"],[0.6666666666666666,\"#ed7953\"],[0.7777777777777778,\"#fb9f3a\"],[0.8888888888888888,\"#fdca26\"],[1.0,\"#f0f921\"]]}],\"heatmap\":[{\"type\":\"heatmap\",\"colorbar\":{\"outlinewidth\":0,\"ticks\":\"\"},\"colorscale\":[[0.0,\"#0d0887\"],[0.1111111111111111,\"#46039f\"],[0.2222222222222222,\"#7201a8\"],[0.3333333333333333,\"#9c179e\"],[0.4444444444444444,\"#bd3786\"],[0.5555555555555556,\"#d8576b\"],[0.6666666666666666,\"#ed7953\"],[0.7777777777777778,\"#fb9f3a\"],[0.8888888888888888,\"#fdca26\"],[1.0,\"#f0f921\"]]}],\"heatmapgl\":[{\"type\":\"heatmapgl\",\"colorbar\":{\"outlinewidth\":0,\"ticks\":\"\"},\"colorscale\":[[0.0,\"#0d0887\"],[0.1111111111111111,\"#46039f\"],[0.2222222222222222,\"#7201a8\"],[0.3333333333333333,\"#9c179e\"],[0.4444444444444444,\"#bd3786\"],[0.5555555555555556,\"#d8576b\"],[0.6666666666666666,\"#ed7953\"],[0.7777777777777778,\"#fb9f3a\"],[0.8888888888888888,\"#fdca26\"],[1.0,\"#f0f921\"]]}],\"contourcarpet\":[{\"type\":\"contourcarpet\",\"colorbar\":{\"outlinewidth\":0,\"ticks\":\"\"}}],\"contour\":[{\"type\":\"contour\",\"colorbar\":{\"outlinewidth\":0,\"ticks\":\"\"},\"colorscale\":[[0.0,\"#0d0887\"],[0.1111111111111111,\"#46039f\"],[0.2222222222222222,\"#7201a8\"],[0.3333333333333333,\"#9c179e\"],[0.4444444444444444,\"#bd3786\"],[0.5555555555555556,\"#d8576b\"],[0.6666666666666666,\"#ed7953\"],[0.7777777777777778,\"#fb9f3a\"],[0.8888888888888888,\"#fdca26\"],[1.0,\"#f0f921\"]]}],\"surface\":[{\"type\":\"surface\",\"colorbar\":{\"outlinewidth\":0,\"ticks\":\"\"},\"colorscale\":[[0.0,\"#0d0887\"],[0.1111111111111111,\"#46039f\"],[0.2222222222222222,\"#7201a8\"],[0.3333333333333333,\"#9c179e\"],[0.4444444444444444,\"#bd3786\"],[0.5555555555555556,\"#d8576b\"],[0.6666666666666666,\"#ed7953\"],[0.7777777777777778,\"#fb9f3a\"],[0.8888888888888888,\"#fdca26\"],[1.0,\"#f0f921\"]]}],\"mesh3d\":[{\"type\":\"mesh3d\",\"colorbar\":{\"outlinewidth\":0,\"ticks\":\"\"}}],\"scatter\":[{\"fillpattern\":{\"fillmode\":\"overlay\",\"size\":10,\"solidity\":0.2},\"type\":\"scatter\"}],\"parcoords\":[{\"type\":\"parcoords\",\"line\":{\"colorbar\":{\"outlinewidth\":0,\"ticks\":\"\"}}}],\"scatterpolargl\":[{\"type\":\"scatterpolargl\",\"marker\":{\"colorbar\":{\"outlinewidth\":0,\"ticks\":\"\"}}}],\"bar\":[{\"error_x\":{\"color\":\"#2a3f5f\"},\"error_y\":{\"color\":\"#2a3f5f\"},\"marker\":{\"line\":{\"color\":\"#E5ECF6\",\"width\":0.5},\"pattern\":{\"fillmode\":\"overlay\",\"size\":10,\"solidity\":0.2}},\"type\":\"bar\"}],\"scattergeo\":[{\"type\":\"scattergeo\",\"marker\":{\"colorbar\":{\"outlinewidth\":0,\"ticks\":\"\"}}}],\"scatterpolar\":[{\"type\":\"scatterpolar\",\"marker\":{\"colorbar\":{\"outlinewidth\":0,\"ticks\":\"\"}}}],\"histogram\":[{\"marker\":{\"pattern\":{\"fillmode\":\"overlay\",\"size\":10,\"solidity\":0.2}},\"type\":\"histogram\"}],\"scattergl\":[{\"type\":\"scattergl\",\"marker\":{\"colorbar\":{\"outlinewidth\":0,\"ticks\":\"\"}}}],\"scatter3d\":[{\"type\":\"scatter3d\",\"line\":{\"colorbar\":{\"outlinewidth\":0,\"ticks\":\"\"}},\"marker\":{\"colorbar\":{\"outlinewidth\":0,\"ticks\":\"\"}}}],\"scattermapbox\":[{\"type\":\"scattermapbox\",\"marker\":{\"colorbar\":{\"outlinewidth\":0,\"ticks\":\"\"}}}],\"scatterternary\":[{\"type\":\"scatterternary\",\"marker\":{\"colorbar\":{\"outlinewidth\":0,\"ticks\":\"\"}}}],\"scattercarpet\":[{\"type\":\"scattercarpet\",\"marker\":{\"colorbar\":{\"outlinewidth\":0,\"ticks\":\"\"}}}],\"carpet\":[{\"aaxis\":{\"endlinecolor\":\"#2a3f5f\",\"gridcolor\":\"white\",\"linecolor\":\"white\",\"minorgridcolor\":\"white\",\"startlinecolor\":\"#2a3f5f\"},\"baxis\":{\"endlinecolor\":\"#2a3f5f\",\"gridcolor\":\"white\",\"linecolor\":\"white\",\"minorgridcolor\":\"white\",\"startlinecolor\":\"#2a3f5f\"},\"type\":\"carpet\"}],\"table\":[{\"cells\":{\"fill\":{\"color\":\"#EBF0F8\"},\"line\":{\"color\":\"white\"}},\"header\":{\"fill\":{\"color\":\"#C8D4E3\"},\"line\":{\"color\":\"white\"}},\"type\":\"table\"}],\"barpolar\":[{\"marker\":{\"line\":{\"color\":\"#E5ECF6\",\"width\":0.5},\"pattern\":{\"fillmode\":\"overlay\",\"size\":10,\"solidity\":0.2}},\"type\":\"barpolar\"}],\"pie\":[{\"automargin\":true,\"type\":\"pie\"}]},\"layout\":{\"autotypenumbers\":\"strict\",\"colorway\":[\"#636efa\",\"#EF553B\",\"#00cc96\",\"#ab63fa\",\"#FFA15A\",\"#19d3f3\",\"#FF6692\",\"#B6E880\",\"#FF97FF\",\"#FECB52\"],\"font\":{\"color\":\"#2a3f5f\"},\"hovermode\":\"closest\",\"hoverlabel\":{\"align\":\"left\"},\"paper_bgcolor\":\"white\",\"plot_bgcolor\":\"#E5ECF6\",\"polar\":{\"bgcolor\":\"#E5ECF6\",\"angularaxis\":{\"gridcolor\":\"white\",\"linecolor\":\"white\",\"ticks\":\"\"},\"radialaxis\":{\"gridcolor\":\"white\",\"linecolor\":\"white\",\"ticks\":\"\"}},\"ternary\":{\"bgcolor\":\"#E5ECF6\",\"aaxis\":{\"gridcolor\":\"white\",\"linecolor\":\"white\",\"ticks\":\"\"},\"baxis\":{\"gridcolor\":\"white\",\"linecolor\":\"white\",\"ticks\":\"\"},\"caxis\":{\"gridcolor\":\"white\",\"linecolor\":\"white\",\"ticks\":\"\"}},\"coloraxis\":{\"colorbar\":{\"outlinewidth\":0,\"ticks\":\"\"}},\"colorscale\":{\"sequential\":[[0.0,\"#0d0887\"],[0.1111111111111111,\"#46039f\"],[0.2222222222222222,\"#7201a8\"],[0.3333333333333333,\"#9c179e\"],[0.4444444444444444,\"#bd3786\"],[0.5555555555555556,\"#d8576b\"],[0.6666666666666666,\"#ed7953\"],[0.7777777777777778,\"#fb9f3a\"],[0.8888888888888888,\"#fdca26\"],[1.0,\"#f0f921\"]],\"sequentialminus\":[[0.0,\"#0d0887\"],[0.1111111111111111,\"#46039f\"],[0.2222222222222222,\"#7201a8\"],[0.3333333333333333,\"#9c179e\"],[0.4444444444444444,\"#bd3786\"],[0.5555555555555556,\"#d8576b\"],[0.6666666666666666,\"#ed7953\"],[0.7777777777777778,\"#fb9f3a\"],[0.8888888888888888,\"#fdca26\"],[1.0,\"#f0f921\"]],\"diverging\":[[0,\"#8e0152\"],[0.1,\"#c51b7d\"],[0.2,\"#de77ae\"],[0.3,\"#f1b6da\"],[0.4,\"#fde0ef\"],[0.5,\"#f7f7f7\"],[0.6,\"#e6f5d0\"],[0.7,\"#b8e186\"],[0.8,\"#7fbc41\"],[0.9,\"#4d9221\"],[1,\"#276419\"]]},\"xaxis\":{\"gridcolor\":\"white\",\"linecolor\":\"white\",\"ticks\":\"\",\"title\":{\"standoff\":15},\"zerolinecolor\":\"white\",\"automargin\":true,\"zerolinewidth\":2},\"yaxis\":{\"gridcolor\":\"white\",\"linecolor\":\"white\",\"ticks\":\"\",\"title\":{\"standoff\":15},\"zerolinecolor\":\"white\",\"automargin\":true,\"zerolinewidth\":2},\"scene\":{\"xaxis\":{\"backgroundcolor\":\"#E5ECF6\",\"gridcolor\":\"white\",\"linecolor\":\"white\",\"showbackground\":true,\"ticks\":\"\",\"zerolinecolor\":\"white\",\"gridwidth\":2},\"yaxis\":{\"backgroundcolor\":\"#E5ECF6\",\"gridcolor\":\"white\",\"linecolor\":\"white\",\"showbackground\":true,\"ticks\":\"\",\"zerolinecolor\":\"white\",\"gridwidth\":2},\"zaxis\":{\"backgroundcolor\":\"#E5ECF6\",\"gridcolor\":\"white\",\"linecolor\":\"white\",\"showbackground\":true,\"ticks\":\"\",\"zerolinecolor\":\"white\",\"gridwidth\":2}},\"shapedefaults\":{\"line\":{\"color\":\"#2a3f5f\"}},\"annotationdefaults\":{\"arrowcolor\":\"#2a3f5f\",\"arrowhead\":0,\"arrowwidth\":1},\"geo\":{\"bgcolor\":\"white\",\"landcolor\":\"#E5ECF6\",\"subunitcolor\":\"white\",\"showland\":true,\"showlakes\":true,\"lakecolor\":\"white\"},\"title\":{\"x\":0.05},\"mapbox\":{\"style\":\"light\"}}},\"xaxis\":{\"anchor\":\"y\",\"domain\":[0.0,1.0],\"title\":{\"text\":\"Company Size\"}},\"yaxis\":{\"anchor\":\"x\",\"domain\":[0.0,1.0],\"title\":{\"text\":\"Average Salary (USD)\"}},\"coloraxis\":{\"colorbar\":{\"title\":{\"text\":\"Average Salary (USD)\"}},\"colorscale\":[[0.0,\"rgb(247,251,255)\"],[0.125,\"rgb(222,235,247)\"],[0.25,\"rgb(198,219,239)\"],[0.375,\"rgb(158,202,225)\"],[0.5,\"rgb(107,174,214)\"],[0.625,\"rgb(66,146,198)\"],[0.75,\"rgb(33,113,181)\"],[0.875,\"rgb(8,81,156)\"],[1.0,\"rgb(8,48,107)\"]]},\"legend\":{\"tracegroupgap\":0},\"title\":{\"text\":\"Average Salary by Company Size\"},\"barmode\":\"relative\",\"height\":400},                        {\"responsive\": true}                    ).then(function(){\n                            \nvar gd = document.getElementById('1d0a963b-44dc-4c4d-beab-3d2b2ef1c32d');\nvar x = new MutationObserver(function (mutations, observer) {{\n        var display = window.getComputedStyle(gd).display;\n        if (!display || display === 'none') {{\n            console.log([gd, 'removed!']);\n            Plotly.purge(gd);\n            observer.disconnect();\n        }}\n}});\n\n// Listen for the removal of the full notebook cells\nvar notebookContainer = gd.closest('#notebook-container');\nif (notebookContainer) {{\n    x.observe(notebookContainer, {childList: true});\n}}\n\n// Listen for the clearing of the current output cell\nvar outputEl = gd.closest('.output');\nif (outputEl) {{\n    x.observe(outputEl, {childList: true});\n}}\n\n                        })                };                });            </script>        </div>"
          },
          "metadata": {}
        }
      ]
    },
    {
      "cell_type": "markdown",
      "source": [
        "<a id='8'></a>\n",
        "<p style=\"background-color:#000080;font-family:newtimeroman;color:#ffffff;font-size:150%;text-align:center;border-radius:10px; padding: 10px;\">\n",
        "<b>8. What are the most common job titles in each country or company location?</b>\n",
        "</p>\n"
      ],
      "metadata": {
        "execution": {
          "iopub.status.busy": "2024-07-14T14:33:04.186719Z",
          "iopub.execute_input": "2024-07-14T14:33:04.187094Z",
          "iopub.status.idle": "2024-07-14T14:33:04.194562Z",
          "shell.execute_reply.started": "2024-07-14T14:33:04.187064Z",
          "shell.execute_reply": "2024-07-14T14:33:04.193173Z"
        },
        "id": "CH5-lsOjvH_b"
      }
    },
    {
      "cell_type": "code",
      "source": [
        "import pandas as pd\n",
        "import plotly.express as px\n",
        "\n",
        "# Load the cleaned dataset\n",
        "cleaned_file_path = 'cleaned_data.csv'\n",
        "data = pd.read_csv(cleaned_file_path)\n",
        "\n",
        "# Get the most common job title for each company location\n",
        "common_job_titles = data.groupby('company_location')['job_title'].agg(lambda x: x.value_counts().idxmax()).reset_index()\n",
        "\n",
        "# Create a bar plot to show the most common job title in each country\n",
        "fig = px.bar(common_job_titles, x='company_location', y='job_title',\n",
        "             title='Most Common Job Titles in Each Country',\n",
        "             labels={'company_location': 'Country', 'job_title': 'Job Title'},\n",
        "             color='job_title',\n",
        "             height=600)\n",
        "fig.update_layout(xaxis={'categoryorder':'total descending'})\n",
        "fig.show()\n"
      ],
      "metadata": {
        "execution": {
          "iopub.status.busy": "2024-07-14T14:33:16.480217Z",
          "iopub.execute_input": "2024-07-14T14:33:16.480558Z",
          "iopub.status.idle": "2024-07-14T14:33:16.643Z",
          "shell.execute_reply.started": "2024-07-14T14:33:16.48053Z",
          "shell.execute_reply": "2024-07-14T14:33:16.642144Z"
        },
        "trusted": true,
        "id": "Z8k8olAyvH_b",
        "outputId": "940d00e2-cd69-4315-a8d7-deeed0dd4c64"
      },
      "execution_count": null,
      "outputs": [
        {
          "name": "stderr",
          "text": "/opt/conda/lib/python3.10/site-packages/plotly/express/_core.py:2065: FutureWarning:\n\nWhen grouping with a length-1 list-like, you will need to pass a length-1 tuple to get_group in a future version of pandas. Pass `(name,)` instead of `name` to silence this warning.\n\n",
          "output_type": "stream"
        },
        {
          "output_type": "display_data",
          "data": {
            "text/html": "<div>                            <div id=\"4049b326-86bc-48e6-96cb-fb67c87171da\" class=\"plotly-graph-div\" style=\"height:600px; width:100%;\"></div>            <script type=\"text/javascript\">                require([\"plotly\"], function(Plotly) {                    window.PLOTLYENV=window.PLOTLYENV || {};                                    if (document.getElementById(\"4049b326-86bc-48e6-96cb-fb67c87171da\")) {                    Plotly.newPlot(                        \"4049b326-86bc-48e6-96cb-fb67c87171da\",                        [{\"alignmentgroup\":\"True\",\"hovertemplate\":\"Job Title=%{y}\\u003cbr\\u003eCountry=%{x}\\u003cextra\\u003e\\u003c\\u002fextra\\u003e\",\"legendgroup\":\"Lead Data Scientist\",\"marker\":{\"color\":\"#636efa\",\"pattern\":{\"shape\":\"\"}},\"name\":\"Lead Data Scientist\",\"offsetgroup\":\"Lead Data Scientist\",\"orientation\":\"v\",\"showlegend\":true,\"textposition\":\"auto\",\"x\":[\"AE\"],\"xaxis\":\"x\",\"y\":[\"Lead Data Scientist\"],\"yaxis\":\"y\",\"type\":\"bar\"},{\"alignmentgroup\":\"True\",\"hovertemplate\":\"Job Title=%{y}\\u003cbr\\u003eCountry=%{x}\\u003cextra\\u003e\\u003c\\u002fextra\\u003e\",\"legendgroup\":\"AI Scientist\",\"marker\":{\"color\":\"#EF553B\",\"pattern\":{\"shape\":\"\"}},\"name\":\"AI Scientist\",\"offsetgroup\":\"AI Scientist\",\"orientation\":\"v\",\"showlegend\":true,\"textposition\":\"auto\",\"x\":[\"AS\"],\"xaxis\":\"x\",\"y\":[\"AI Scientist\"],\"yaxis\":\"y\",\"type\":\"bar\"},{\"alignmentgroup\":\"True\",\"hovertemplate\":\"Job Title=%{y}\\u003cbr\\u003eCountry=%{x}\\u003cextra\\u003e\\u003c\\u002fextra\\u003e\",\"legendgroup\":\"Data Scientist\",\"marker\":{\"color\":\"#00cc96\",\"pattern\":{\"shape\":\"\"}},\"name\":\"Data Scientist\",\"offsetgroup\":\"Data Scientist\",\"orientation\":\"v\",\"showlegend\":true,\"textposition\":\"auto\",\"x\":[\"AT\",\"BR\",\"CA\",\"CL\",\"DE\",\"ES\",\"FR\",\"HU\",\"IL\",\"IN\",\"IT\",\"NG\",\"UA\",\"US\",\"VN\"],\"xaxis\":\"x\",\"y\":[\"Data Scientist\",\"Data Scientist\",\"Data Scientist\",\"Data Scientist\",\"Data Scientist\",\"Data Scientist\",\"Data Scientist\",\"Data Scientist\",\"Data Scientist\",\"Data Scientist\",\"Data Scientist\",\"Data Scientist\",\"Data Scientist\",\"Data Scientist\",\"Data Scientist\"],\"yaxis\":\"y\",\"type\":\"bar\"},{\"alignmentgroup\":\"True\",\"hovertemplate\":\"Job Title=%{y}\\u003cbr\\u003eCountry=%{x}\\u003cextra\\u003e\\u003c\\u002fextra\\u003e\",\"legendgroup\":\"Machine Learning Engineer\",\"marker\":{\"color\":\"#ab63fa\",\"pattern\":{\"shape\":\"\"}},\"name\":\"Machine Learning Engineer\",\"offsetgroup\":\"Machine Learning Engineer\",\"orientation\":\"v\",\"showlegend\":true,\"textposition\":\"auto\",\"x\":[\"BE\",\"CO\",\"HR\",\"SI\"],\"xaxis\":\"x\",\"y\":[\"Machine Learning Engineer\",\"Machine Learning Engineer\",\"Machine Learning Engineer\",\"Machine Learning Engineer\"],\"yaxis\":\"y\",\"type\":\"bar\"},{\"alignmentgroup\":\"True\",\"hovertemplate\":\"Job Title=%{y}\\u003cbr\\u003eCountry=%{x}\\u003cextra\\u003e\\u003c\\u002fextra\\u003e\",\"legendgroup\":\"Big Data Engineer\",\"marker\":{\"color\":\"#FFA15A\",\"pattern\":{\"shape\":\"\"}},\"name\":\"Big Data Engineer\",\"offsetgroup\":\"Big Data Engineer\",\"orientation\":\"v\",\"showlegend\":true,\"textposition\":\"auto\",\"x\":[\"CH\",\"MD\"],\"xaxis\":\"x\",\"y\":[\"Big Data Engineer\",\"Big Data Engineer\"],\"yaxis\":\"y\",\"type\":\"bar\"},{\"alignmentgroup\":\"True\",\"hovertemplate\":\"Job Title=%{y}\\u003cbr\\u003eCountry=%{x}\\u003cextra\\u003e\\u003c\\u002fextra\\u003e\",\"legendgroup\":\"Research Scientist\",\"marker\":{\"color\":\"#19d3f3\",\"pattern\":{\"shape\":\"\"}},\"name\":\"Research Scientist\",\"offsetgroup\":\"Research Scientist\",\"orientation\":\"v\",\"showlegend\":true,\"textposition\":\"auto\",\"x\":[\"CN\"],\"xaxis\":\"x\",\"y\":[\"Research Scientist\"],\"yaxis\":\"y\",\"type\":\"bar\"},{\"alignmentgroup\":\"True\",\"hovertemplate\":\"Job Title=%{y}\\u003cbr\\u003eCountry=%{x}\\u003cextra\\u003e\\u003c\\u002fextra\\u003e\",\"legendgroup\":\"Marketing Data Analyst\",\"marker\":{\"color\":\"#FF6692\",\"pattern\":{\"shape\":\"\"}},\"name\":\"Marketing Data Analyst\",\"offsetgroup\":\"Marketing Data Analyst\",\"orientation\":\"v\",\"showlegend\":true,\"textposition\":\"auto\",\"x\":[\"DK\"],\"xaxis\":\"x\",\"y\":[\"Marketing Data Analyst\"],\"yaxis\":\"y\",\"type\":\"bar\"},{\"alignmentgroup\":\"True\",\"hovertemplate\":\"Job Title=%{y}\\u003cbr\\u003eCountry=%{x}\\u003cextra\\u003e\\u003c\\u002fextra\\u003e\",\"legendgroup\":\"Data Engineer\",\"marker\":{\"color\":\"#B6E880\",\"pattern\":{\"shape\":\"\"}},\"name\":\"Data Engineer\",\"offsetgroup\":\"Data Engineer\",\"orientation\":\"v\",\"showlegend\":true,\"textposition\":\"auto\",\"x\":[\"GB\",\"GR\",\"IR\",\"MT\",\"MX\",\"NL\",\"TR\"],\"xaxis\":\"x\",\"y\":[\"Data Engineer\",\"Data Engineer\",\"Data Engineer\",\"Data Engineer\",\"Data Engineer\",\"Data Engineer\",\"Data Engineer\"],\"yaxis\":\"y\",\"type\":\"bar\"},{\"alignmentgroup\":\"True\",\"hovertemplate\":\"Job Title=%{y}\\u003cbr\\u003eCountry=%{x}\\u003cextra\\u003e\\u003c\\u002fextra\\u003e\",\"legendgroup\":\"Machine Learning Scientist\",\"marker\":{\"color\":\"#FF97FF\",\"pattern\":{\"shape\":\"\"}},\"name\":\"Machine Learning Scientist\",\"offsetgroup\":\"Machine Learning Scientist\",\"orientation\":\"v\",\"showlegend\":true,\"textposition\":\"auto\",\"x\":[\"JP\"],\"xaxis\":\"x\",\"y\":[\"Machine Learning Scientist\"],\"yaxis\":\"y\",\"type\":\"bar\"},{\"alignmentgroup\":\"True\",\"hovertemplate\":\"Job Title=%{y}\\u003cbr\\u003eCountry=%{x}\\u003cextra\\u003e\\u003c\\u002fextra\\u003e\",\"legendgroup\":\"BI Data Analyst\",\"marker\":{\"color\":\"#FECB52\",\"pattern\":{\"shape\":\"\"}},\"name\":\"BI Data Analyst\",\"offsetgroup\":\"BI Data Analyst\",\"orientation\":\"v\",\"showlegend\":true,\"textposition\":\"auto\",\"x\":[\"KE\"],\"xaxis\":\"x\",\"y\":[\"BI Data Analyst\"],\"yaxis\":\"y\",\"type\":\"bar\"},{\"alignmentgroup\":\"True\",\"hovertemplate\":\"Job Title=%{y}\\u003cbr\\u003eCountry=%{x}\\u003cextra\\u003e\\u003c\\u002fextra\\u003e\",\"legendgroup\":\"Business Data Analyst\",\"marker\":{\"color\":\"#636efa\",\"pattern\":{\"shape\":\"\"}},\"name\":\"Business Data Analyst\",\"offsetgroup\":\"Business Data Analyst\",\"orientation\":\"v\",\"showlegend\":true,\"textposition\":\"auto\",\"x\":[\"LU\"],\"xaxis\":\"x\",\"y\":[\"Business Data Analyst\"],\"yaxis\":\"y\",\"type\":\"bar\"},{\"alignmentgroup\":\"True\",\"hovertemplate\":\"Job Title=%{y}\\u003cbr\\u003eCountry=%{x}\\u003cextra\\u003e\\u003c\\u002fextra\\u003e\",\"legendgroup\":\"Lead Data Engineer\",\"marker\":{\"color\":\"#EF553B\",\"pattern\":{\"shape\":\"\"}},\"name\":\"Lead Data Engineer\",\"offsetgroup\":\"Lead Data Engineer\",\"orientation\":\"v\",\"showlegend\":true,\"textposition\":\"auto\",\"x\":[\"NZ\"],\"xaxis\":\"x\",\"y\":[\"Lead Data Engineer\"],\"yaxis\":\"y\",\"type\":\"bar\"},{\"alignmentgroup\":\"True\",\"hovertemplate\":\"Job Title=%{y}\\u003cbr\\u003eCountry=%{x}\\u003cextra\\u003e\\u003c\\u002fextra\\u003e\",\"legendgroup\":\"Data Analyst\",\"marker\":{\"color\":\"#00cc96\",\"pattern\":{\"shape\":\"\"}},\"name\":\"Data Analyst\",\"offsetgroup\":\"Data Analyst\",\"orientation\":\"v\",\"showlegend\":true,\"textposition\":\"auto\",\"x\":[\"PK\"],\"xaxis\":\"x\",\"y\":[\"Data Analyst\"],\"yaxis\":\"y\",\"type\":\"bar\"},{\"alignmentgroup\":\"True\",\"hovertemplate\":\"Job Title=%{y}\\u003cbr\\u003eCountry=%{x}\\u003cextra\\u003e\\u003c\\u002fextra\\u003e\",\"legendgroup\":\"Director of Data Science\",\"marker\":{\"color\":\"#ab63fa\",\"pattern\":{\"shape\":\"\"}},\"name\":\"Director of Data Science\",\"offsetgroup\":\"Director of Data Science\",\"orientation\":\"v\",\"showlegend\":true,\"textposition\":\"auto\",\"x\":[\"PL\"],\"xaxis\":\"x\",\"y\":[\"Director of Data Science\"],\"yaxis\":\"y\",\"type\":\"bar\"},{\"alignmentgroup\":\"True\",\"hovertemplate\":\"Job Title=%{y}\\u003cbr\\u003eCountry=%{x}\\u003cextra\\u003e\\u003c\\u002fextra\\u003e\",\"legendgroup\":\"Machine Learning Infrastructure Engineer\",\"marker\":{\"color\":\"#FFA15A\",\"pattern\":{\"shape\":\"\"}},\"name\":\"Machine Learning Infrastructure Engineer\",\"offsetgroup\":\"Machine Learning Infrastructure Engineer\",\"orientation\":\"v\",\"showlegend\":true,\"textposition\":\"auto\",\"x\":[\"PT\"],\"xaxis\":\"x\",\"y\":[\"Machine Learning Infrastructure Engineer\"],\"yaxis\":\"y\",\"type\":\"bar\"},{\"alignmentgroup\":\"True\",\"hovertemplate\":\"Job Title=%{y}\\u003cbr\\u003eCountry=%{x}\\u003cextra\\u003e\\u003c\\u002fextra\\u003e\",\"legendgroup\":\"Head of Data Science\",\"marker\":{\"color\":\"#19d3f3\",\"pattern\":{\"shape\":\"\"}},\"name\":\"Head of Data Science\",\"offsetgroup\":\"Head of Data Science\",\"orientation\":\"v\",\"showlegend\":true,\"textposition\":\"auto\",\"x\":[\"RU\"],\"xaxis\":\"x\",\"y\":[\"Head of Data Science\"],\"yaxis\":\"y\",\"type\":\"bar\"},{\"alignmentgroup\":\"True\",\"hovertemplate\":\"Job Title=%{y}\\u003cbr\\u003eCountry=%{x}\\u003cextra\\u003e\\u003c\\u002fextra\\u003e\",\"legendgroup\":\"Cloud Data Engineer\",\"marker\":{\"color\":\"#FF6692\",\"pattern\":{\"shape\":\"\"}},\"name\":\"Cloud Data Engineer\",\"offsetgroup\":\"Cloud Data Engineer\",\"orientation\":\"v\",\"showlegend\":true,\"textposition\":\"auto\",\"x\":[\"SG\"],\"xaxis\":\"x\",\"y\":[\"Cloud Data Engineer\"],\"yaxis\":\"y\",\"type\":\"bar\"}],                        {\"template\":{\"data\":{\"histogram2dcontour\":[{\"type\":\"histogram2dcontour\",\"colorbar\":{\"outlinewidth\":0,\"ticks\":\"\"},\"colorscale\":[[0.0,\"#0d0887\"],[0.1111111111111111,\"#46039f\"],[0.2222222222222222,\"#7201a8\"],[0.3333333333333333,\"#9c179e\"],[0.4444444444444444,\"#bd3786\"],[0.5555555555555556,\"#d8576b\"],[0.6666666666666666,\"#ed7953\"],[0.7777777777777778,\"#fb9f3a\"],[0.8888888888888888,\"#fdca26\"],[1.0,\"#f0f921\"]]}],\"choropleth\":[{\"type\":\"choropleth\",\"colorbar\":{\"outlinewidth\":0,\"ticks\":\"\"}}],\"histogram2d\":[{\"type\":\"histogram2d\",\"colorbar\":{\"outlinewidth\":0,\"ticks\":\"\"},\"colorscale\":[[0.0,\"#0d0887\"],[0.1111111111111111,\"#46039f\"],[0.2222222222222222,\"#7201a8\"],[0.3333333333333333,\"#9c179e\"],[0.4444444444444444,\"#bd3786\"],[0.5555555555555556,\"#d8576b\"],[0.6666666666666666,\"#ed7953\"],[0.7777777777777778,\"#fb9f3a\"],[0.8888888888888888,\"#fdca26\"],[1.0,\"#f0f921\"]]}],\"heatmap\":[{\"type\":\"heatmap\",\"colorbar\":{\"outlinewidth\":0,\"ticks\":\"\"},\"colorscale\":[[0.0,\"#0d0887\"],[0.1111111111111111,\"#46039f\"],[0.2222222222222222,\"#7201a8\"],[0.3333333333333333,\"#9c179e\"],[0.4444444444444444,\"#bd3786\"],[0.5555555555555556,\"#d8576b\"],[0.6666666666666666,\"#ed7953\"],[0.7777777777777778,\"#fb9f3a\"],[0.8888888888888888,\"#fdca26\"],[1.0,\"#f0f921\"]]}],\"heatmapgl\":[{\"type\":\"heatmapgl\",\"colorbar\":{\"outlinewidth\":0,\"ticks\":\"\"},\"colorscale\":[[0.0,\"#0d0887\"],[0.1111111111111111,\"#46039f\"],[0.2222222222222222,\"#7201a8\"],[0.3333333333333333,\"#9c179e\"],[0.4444444444444444,\"#bd3786\"],[0.5555555555555556,\"#d8576b\"],[0.6666666666666666,\"#ed7953\"],[0.7777777777777778,\"#fb9f3a\"],[0.8888888888888888,\"#fdca26\"],[1.0,\"#f0f921\"]]}],\"contourcarpet\":[{\"type\":\"contourcarpet\",\"colorbar\":{\"outlinewidth\":0,\"ticks\":\"\"}}],\"contour\":[{\"type\":\"contour\",\"colorbar\":{\"outlinewidth\":0,\"ticks\":\"\"},\"colorscale\":[[0.0,\"#0d0887\"],[0.1111111111111111,\"#46039f\"],[0.2222222222222222,\"#7201a8\"],[0.3333333333333333,\"#9c179e\"],[0.4444444444444444,\"#bd3786\"],[0.5555555555555556,\"#d8576b\"],[0.6666666666666666,\"#ed7953\"],[0.7777777777777778,\"#fb9f3a\"],[0.8888888888888888,\"#fdca26\"],[1.0,\"#f0f921\"]]}],\"surface\":[{\"type\":\"surface\",\"colorbar\":{\"outlinewidth\":0,\"ticks\":\"\"},\"colorscale\":[[0.0,\"#0d0887\"],[0.1111111111111111,\"#46039f\"],[0.2222222222222222,\"#7201a8\"],[0.3333333333333333,\"#9c179e\"],[0.4444444444444444,\"#bd3786\"],[0.5555555555555556,\"#d8576b\"],[0.6666666666666666,\"#ed7953\"],[0.7777777777777778,\"#fb9f3a\"],[0.8888888888888888,\"#fdca26\"],[1.0,\"#f0f921\"]]}],\"mesh3d\":[{\"type\":\"mesh3d\",\"colorbar\":{\"outlinewidth\":0,\"ticks\":\"\"}}],\"scatter\":[{\"fillpattern\":{\"fillmode\":\"overlay\",\"size\":10,\"solidity\":0.2},\"type\":\"scatter\"}],\"parcoords\":[{\"type\":\"parcoords\",\"line\":{\"colorbar\":{\"outlinewidth\":0,\"ticks\":\"\"}}}],\"scatterpolargl\":[{\"type\":\"scatterpolargl\",\"marker\":{\"colorbar\":{\"outlinewidth\":0,\"ticks\":\"\"}}}],\"bar\":[{\"error_x\":{\"color\":\"#2a3f5f\"},\"error_y\":{\"color\":\"#2a3f5f\"},\"marker\":{\"line\":{\"color\":\"#E5ECF6\",\"width\":0.5},\"pattern\":{\"fillmode\":\"overlay\",\"size\":10,\"solidity\":0.2}},\"type\":\"bar\"}],\"scattergeo\":[{\"type\":\"scattergeo\",\"marker\":{\"colorbar\":{\"outlinewidth\":0,\"ticks\":\"\"}}}],\"scatterpolar\":[{\"type\":\"scatterpolar\",\"marker\":{\"colorbar\":{\"outlinewidth\":0,\"ticks\":\"\"}}}],\"histogram\":[{\"marker\":{\"pattern\":{\"fillmode\":\"overlay\",\"size\":10,\"solidity\":0.2}},\"type\":\"histogram\"}],\"scattergl\":[{\"type\":\"scattergl\",\"marker\":{\"colorbar\":{\"outlinewidth\":0,\"ticks\":\"\"}}}],\"scatter3d\":[{\"type\":\"scatter3d\",\"line\":{\"colorbar\":{\"outlinewidth\":0,\"ticks\":\"\"}},\"marker\":{\"colorbar\":{\"outlinewidth\":0,\"ticks\":\"\"}}}],\"scattermapbox\":[{\"type\":\"scattermapbox\",\"marker\":{\"colorbar\":{\"outlinewidth\":0,\"ticks\":\"\"}}}],\"scatterternary\":[{\"type\":\"scatterternary\",\"marker\":{\"colorbar\":{\"outlinewidth\":0,\"ticks\":\"\"}}}],\"scattercarpet\":[{\"type\":\"scattercarpet\",\"marker\":{\"colorbar\":{\"outlinewidth\":0,\"ticks\":\"\"}}}],\"carpet\":[{\"aaxis\":{\"endlinecolor\":\"#2a3f5f\",\"gridcolor\":\"white\",\"linecolor\":\"white\",\"minorgridcolor\":\"white\",\"startlinecolor\":\"#2a3f5f\"},\"baxis\":{\"endlinecolor\":\"#2a3f5f\",\"gridcolor\":\"white\",\"linecolor\":\"white\",\"minorgridcolor\":\"white\",\"startlinecolor\":\"#2a3f5f\"},\"type\":\"carpet\"}],\"table\":[{\"cells\":{\"fill\":{\"color\":\"#EBF0F8\"},\"line\":{\"color\":\"white\"}},\"header\":{\"fill\":{\"color\":\"#C8D4E3\"},\"line\":{\"color\":\"white\"}},\"type\":\"table\"}],\"barpolar\":[{\"marker\":{\"line\":{\"color\":\"#E5ECF6\",\"width\":0.5},\"pattern\":{\"fillmode\":\"overlay\",\"size\":10,\"solidity\":0.2}},\"type\":\"barpolar\"}],\"pie\":[{\"automargin\":true,\"type\":\"pie\"}]},\"layout\":{\"autotypenumbers\":\"strict\",\"colorway\":[\"#636efa\",\"#EF553B\",\"#00cc96\",\"#ab63fa\",\"#FFA15A\",\"#19d3f3\",\"#FF6692\",\"#B6E880\",\"#FF97FF\",\"#FECB52\"],\"font\":{\"color\":\"#2a3f5f\"},\"hovermode\":\"closest\",\"hoverlabel\":{\"align\":\"left\"},\"paper_bgcolor\":\"white\",\"plot_bgcolor\":\"#E5ECF6\",\"polar\":{\"bgcolor\":\"#E5ECF6\",\"angularaxis\":{\"gridcolor\":\"white\",\"linecolor\":\"white\",\"ticks\":\"\"},\"radialaxis\":{\"gridcolor\":\"white\",\"linecolor\":\"white\",\"ticks\":\"\"}},\"ternary\":{\"bgcolor\":\"#E5ECF6\",\"aaxis\":{\"gridcolor\":\"white\",\"linecolor\":\"white\",\"ticks\":\"\"},\"baxis\":{\"gridcolor\":\"white\",\"linecolor\":\"white\",\"ticks\":\"\"},\"caxis\":{\"gridcolor\":\"white\",\"linecolor\":\"white\",\"ticks\":\"\"}},\"coloraxis\":{\"colorbar\":{\"outlinewidth\":0,\"ticks\":\"\"}},\"colorscale\":{\"sequential\":[[0.0,\"#0d0887\"],[0.1111111111111111,\"#46039f\"],[0.2222222222222222,\"#7201a8\"],[0.3333333333333333,\"#9c179e\"],[0.4444444444444444,\"#bd3786\"],[0.5555555555555556,\"#d8576b\"],[0.6666666666666666,\"#ed7953\"],[0.7777777777777778,\"#fb9f3a\"],[0.8888888888888888,\"#fdca26\"],[1.0,\"#f0f921\"]],\"sequentialminus\":[[0.0,\"#0d0887\"],[0.1111111111111111,\"#46039f\"],[0.2222222222222222,\"#7201a8\"],[0.3333333333333333,\"#9c179e\"],[0.4444444444444444,\"#bd3786\"],[0.5555555555555556,\"#d8576b\"],[0.6666666666666666,\"#ed7953\"],[0.7777777777777778,\"#fb9f3a\"],[0.8888888888888888,\"#fdca26\"],[1.0,\"#f0f921\"]],\"diverging\":[[0,\"#8e0152\"],[0.1,\"#c51b7d\"],[0.2,\"#de77ae\"],[0.3,\"#f1b6da\"],[0.4,\"#fde0ef\"],[0.5,\"#f7f7f7\"],[0.6,\"#e6f5d0\"],[0.7,\"#b8e186\"],[0.8,\"#7fbc41\"],[0.9,\"#4d9221\"],[1,\"#276419\"]]},\"xaxis\":{\"gridcolor\":\"white\",\"linecolor\":\"white\",\"ticks\":\"\",\"title\":{\"standoff\":15},\"zerolinecolor\":\"white\",\"automargin\":true,\"zerolinewidth\":2},\"yaxis\":{\"gridcolor\":\"white\",\"linecolor\":\"white\",\"ticks\":\"\",\"title\":{\"standoff\":15},\"zerolinecolor\":\"white\",\"automargin\":true,\"zerolinewidth\":2},\"scene\":{\"xaxis\":{\"backgroundcolor\":\"#E5ECF6\",\"gridcolor\":\"white\",\"linecolor\":\"white\",\"showbackground\":true,\"ticks\":\"\",\"zerolinecolor\":\"white\",\"gridwidth\":2},\"yaxis\":{\"backgroundcolor\":\"#E5ECF6\",\"gridcolor\":\"white\",\"linecolor\":\"white\",\"showbackground\":true,\"ticks\":\"\",\"zerolinecolor\":\"white\",\"gridwidth\":2},\"zaxis\":{\"backgroundcolor\":\"#E5ECF6\",\"gridcolor\":\"white\",\"linecolor\":\"white\",\"showbackground\":true,\"ticks\":\"\",\"zerolinecolor\":\"white\",\"gridwidth\":2}},\"shapedefaults\":{\"line\":{\"color\":\"#2a3f5f\"}},\"annotationdefaults\":{\"arrowcolor\":\"#2a3f5f\",\"arrowhead\":0,\"arrowwidth\":1},\"geo\":{\"bgcolor\":\"white\",\"landcolor\":\"#E5ECF6\",\"subunitcolor\":\"white\",\"showland\":true,\"showlakes\":true,\"lakecolor\":\"white\"},\"title\":{\"x\":0.05},\"mapbox\":{\"style\":\"light\"}}},\"xaxis\":{\"anchor\":\"y\",\"domain\":[0.0,1.0],\"title\":{\"text\":\"Country\"},\"categoryorder\":\"total descending\"},\"yaxis\":{\"anchor\":\"x\",\"domain\":[0.0,1.0],\"title\":{\"text\":\"Job Title\"},\"categoryorder\":\"array\",\"categoryarray\":[\"Cloud Data Engineer\",\"Head of Data Science\",\"Machine Learning Infrastructure Engineer\",\"Director of Data Science\",\"Data Analyst\",\"Lead Data Engineer\",\"Business Data Analyst\",\"BI Data Analyst\",\"Machine Learning Scientist\",\"Data Engineer\",\"Marketing Data Analyst\",\"Research Scientist\",\"Big Data Engineer\",\"Machine Learning Engineer\",\"Data Scientist\",\"AI Scientist\",\"Lead Data Scientist\"]},\"legend\":{\"title\":{\"text\":\"Job Title\"},\"tracegroupgap\":0},\"title\":{\"text\":\"Most Common Job Titles in Each Country\"},\"barmode\":\"relative\",\"height\":600},                        {\"responsive\": true}                    ).then(function(){\n                            \nvar gd = document.getElementById('4049b326-86bc-48e6-96cb-fb67c87171da');\nvar x = new MutationObserver(function (mutations, observer) {{\n        var display = window.getComputedStyle(gd).display;\n        if (!display || display === 'none') {{\n            console.log([gd, 'removed!']);\n            Plotly.purge(gd);\n            observer.disconnect();\n        }}\n}});\n\n// Listen for the removal of the full notebook cells\nvar notebookContainer = gd.closest('#notebook-container');\nif (notebookContainer) {{\n    x.observe(notebookContainer, {childList: true});\n}}\n\n// Listen for the clearing of the current output cell\nvar outputEl = gd.closest('.output');\nif (outputEl) {{\n    x.observe(outputEl, {childList: true});\n}}\n\n                        })                };                });            </script>        </div>"
          },
          "metadata": {}
        }
      ]
    },
    {
      "cell_type": "markdown",
      "source": [
        "<a id='8'></a>\n",
        "<p style=\"background-color:#000080;font-family:newtimeroman;color:#ffffff;font-size:150%;text-align:center;border-radius:10px; padding: 10px;\">\n",
        "<b>8. What are the most common job titles by frequency?</b>\n",
        "</p>\n"
      ],
      "metadata": {
        "id": "5HM6dAbNvH_b"
      }
    },
    {
      "cell_type": "code",
      "source": [
        "import pandas as pd\n",
        "import plotly.express as px\n",
        "\n",
        "# Load the cleaned dataset\n",
        "cleaned_file_path = 'cleaned_data.csv'\n",
        "data = pd.read_csv(cleaned_file_path)\n",
        "\n",
        "# Calculate the frequency of each job title\n",
        "job_title_counts = data['job_title'].value_counts().reset_index()\n",
        "job_title_counts.columns = ['job_title', 'frequency']\n",
        "\n",
        "# Create a clustered bubble chart to show the most common job titles by frequency\n",
        "fig = px.scatter(job_title_counts, x='frequency', y='job_title',\n",
        "                 size='frequency', color='job_title',\n",
        "                 title='Most Common Job Titles by Frequency',\n",
        "                 labels={'job_title': 'Job Title', 'frequency': 'Frequency'},\n",
        "                 size_max=60)\n",
        "\n",
        "# Update layout to adjust plot height\n",
        "fig.update_layout(xaxis={'title': 'Frequency'},\n",
        "                  yaxis={'title': 'Job Title'},\n",
        "                  height=800)\n",
        "\n",
        "fig.show()\n",
        "\n"
      ],
      "metadata": {
        "execution": {
          "iopub.status.busy": "2024-07-14T14:37:07.071237Z",
          "iopub.execute_input": "2024-07-14T14:37:07.072129Z",
          "iopub.status.idle": "2024-07-14T14:37:07.451752Z",
          "shell.execute_reply.started": "2024-07-14T14:37:07.072096Z",
          "shell.execute_reply": "2024-07-14T14:37:07.450778Z"
        },
        "trusted": true,
        "id": "HsOj2tDavH_f",
        "outputId": "3f7358fd-dc05-4dc3-b035-dfc579595c9e"
      },
      "execution_count": null,
      "outputs": [
        {
          "name": "stderr",
          "text": "/opt/conda/lib/python3.10/site-packages/plotly/express/_core.py:2065: FutureWarning:\n\nWhen grouping with a length-1 list-like, you will need to pass a length-1 tuple to get_group in a future version of pandas. Pass `(name,)` instead of `name` to silence this warning.\n\n",
          "output_type": "stream"
        },
        {
          "output_type": "display_data",
          "data": {
            "text/html": "<div>                            <div id=\"fa603c0f-310e-4b72-8044-3acf3015ee49\" class=\"plotly-graph-div\" style=\"height:800px; width:100%;\"></div>            <script type=\"text/javascript\">                require([\"plotly\"], function(Plotly) {                    window.PLOTLYENV=window.PLOTLYENV || {};                                    if (document.getElementById(\"fa603c0f-310e-4b72-8044-3acf3015ee49\")) {                    Plotly.newPlot(                        \"fa603c0f-310e-4b72-8044-3acf3015ee49\",                        [{\"hovertemplate\":\"Job Title=%{y}\\u003cbr\\u003eFrequency=%{marker.size}\\u003cextra\\u003e\\u003c\\u002fextra\\u003e\",\"legendgroup\":\"Data Scientist\",\"marker\":{\"color\":\"#636efa\",\"size\":[59],\"sizemode\":\"area\",\"sizeref\":0.01638888888888889,\"symbol\":\"circle\"},\"mode\":\"markers\",\"name\":\"Data Scientist\",\"orientation\":\"h\",\"showlegend\":true,\"x\":[59],\"xaxis\":\"x\",\"y\":[\"Data Scientist\"],\"yaxis\":\"y\",\"type\":\"scatter\"},{\"hovertemplate\":\"Job Title=%{y}\\u003cbr\\u003eFrequency=%{marker.size}\\u003cextra\\u003e\\u003c\\u002fextra\\u003e\",\"legendgroup\":\"Data Engineer\",\"marker\":{\"color\":\"#EF553B\",\"size\":[38],\"sizemode\":\"area\",\"sizeref\":0.01638888888888889,\"symbol\":\"circle\"},\"mode\":\"markers\",\"name\":\"Data Engineer\",\"orientation\":\"h\",\"showlegend\":true,\"x\":[38],\"xaxis\":\"x\",\"y\":[\"Data Engineer\"],\"yaxis\":\"y\",\"type\":\"scatter\"},{\"hovertemplate\":\"Job Title=%{y}\\u003cbr\\u003eFrequency=%{marker.size}\\u003cextra\\u003e\\u003c\\u002fextra\\u003e\",\"legendgroup\":\"Machine Learning Engineer\",\"marker\":{\"color\":\"#00cc96\",\"size\":[20],\"sizemode\":\"area\",\"sizeref\":0.01638888888888889,\"symbol\":\"circle\"},\"mode\":\"markers\",\"name\":\"Machine Learning Engineer\",\"orientation\":\"h\",\"showlegend\":true,\"x\":[20],\"xaxis\":\"x\",\"y\":[\"Machine Learning Engineer\"],\"yaxis\":\"y\",\"type\":\"scatter\"},{\"hovertemplate\":\"Job Title=%{y}\\u003cbr\\u003eFrequency=%{marker.size}\\u003cextra\\u003e\\u003c\\u002fextra\\u003e\",\"legendgroup\":\"Data Analyst\",\"marker\":{\"color\":\"#ab63fa\",\"size\":[20],\"sizemode\":\"area\",\"sizeref\":0.01638888888888889,\"symbol\":\"circle\"},\"mode\":\"markers\",\"name\":\"Data Analyst\",\"orientation\":\"h\",\"showlegend\":true,\"x\":[20],\"xaxis\":\"x\",\"y\":[\"Data Analyst\"],\"yaxis\":\"y\",\"type\":\"scatter\"},{\"hovertemplate\":\"Job Title=%{y}\\u003cbr\\u003eFrequency=%{marker.size}\\u003cextra\\u003e\\u003c\\u002fextra\\u003e\",\"legendgroup\":\"Research Scientist\",\"marker\":{\"color\":\"#FFA15A\",\"size\":[10],\"sizemode\":\"area\",\"sizeref\":0.01638888888888889,\"symbol\":\"circle\"},\"mode\":\"markers\",\"name\":\"Research Scientist\",\"orientation\":\"h\",\"showlegend\":true,\"x\":[10],\"xaxis\":\"x\",\"y\":[\"Research Scientist\"],\"yaxis\":\"y\",\"type\":\"scatter\"},{\"hovertemplate\":\"Job Title=%{y}\\u003cbr\\u003eFrequency=%{marker.size}\\u003cextra\\u003e\\u003c\\u002fextra\\u003e\",\"legendgroup\":\"Data Science Consultant\",\"marker\":{\"color\":\"#19d3f3\",\"size\":[7],\"sizemode\":\"area\",\"sizeref\":0.01638888888888889,\"symbol\":\"circle\"},\"mode\":\"markers\",\"name\":\"Data Science Consultant\",\"orientation\":\"h\",\"showlegend\":true,\"x\":[7],\"xaxis\":\"x\",\"y\":[\"Data Science Consultant\"],\"yaxis\":\"y\",\"type\":\"scatter\"},{\"hovertemplate\":\"Job Title=%{y}\\u003cbr\\u003eFrequency=%{marker.size}\\u003cextra\\u003e\\u003c\\u002fextra\\u003e\",\"legendgroup\":\"Big Data Engineer\",\"marker\":{\"color\":\"#FF6692\",\"size\":[6],\"sizemode\":\"area\",\"sizeref\":0.01638888888888889,\"symbol\":\"circle\"},\"mode\":\"markers\",\"name\":\"Big Data Engineer\",\"orientation\":\"h\",\"showlegend\":true,\"x\":[6],\"xaxis\":\"x\",\"y\":[\"Big Data Engineer\"],\"yaxis\":\"y\",\"type\":\"scatter\"},{\"hovertemplate\":\"Job Title=%{y}\\u003cbr\\u003eFrequency=%{marker.size}\\u003cextra\\u003e\\u003c\\u002fextra\\u003e\",\"legendgroup\":\"BI Data Analyst\",\"marker\":{\"color\":\"#B6E880\",\"size\":[5],\"sizemode\":\"area\",\"sizeref\":0.01638888888888889,\"symbol\":\"circle\"},\"mode\":\"markers\",\"name\":\"BI Data Analyst\",\"orientation\":\"h\",\"showlegend\":true,\"x\":[5],\"xaxis\":\"x\",\"y\":[\"BI Data Analyst\"],\"yaxis\":\"y\",\"type\":\"scatter\"},{\"hovertemplate\":\"Job Title=%{y}\\u003cbr\\u003eFrequency=%{marker.size}\\u003cextra\\u003e\\u003c\\u002fextra\\u003e\",\"legendgroup\":\"Lead Data Engineer\",\"marker\":{\"color\":\"#FF97FF\",\"size\":[5],\"sizemode\":\"area\",\"sizeref\":0.01638888888888889,\"symbol\":\"circle\"},\"mode\":\"markers\",\"name\":\"Lead Data Engineer\",\"orientation\":\"h\",\"showlegend\":true,\"x\":[5],\"xaxis\":\"x\",\"y\":[\"Lead Data Engineer\"],\"yaxis\":\"y\",\"type\":\"scatter\"},{\"hovertemplate\":\"Job Title=%{y}\\u003cbr\\u003eFrequency=%{marker.size}\\u003cextra\\u003e\\u003c\\u002fextra\\u003e\",\"legendgroup\":\"AI Scientist\",\"marker\":{\"color\":\"#FECB52\",\"size\":[5],\"sizemode\":\"area\",\"sizeref\":0.01638888888888889,\"symbol\":\"circle\"},\"mode\":\"markers\",\"name\":\"AI Scientist\",\"orientation\":\"h\",\"showlegend\":true,\"x\":[5],\"xaxis\":\"x\",\"y\":[\"AI Scientist\"],\"yaxis\":\"y\",\"type\":\"scatter\"},{\"hovertemplate\":\"Job Title=%{y}\\u003cbr\\u003eFrequency=%{marker.size}\\u003cextra\\u003e\\u003c\\u002fextra\\u003e\",\"legendgroup\":\"Data Science Manager\",\"marker\":{\"color\":\"#636efa\",\"size\":[5],\"sizemode\":\"area\",\"sizeref\":0.01638888888888889,\"symbol\":\"circle\"},\"mode\":\"markers\",\"name\":\"Data Science Manager\",\"orientation\":\"h\",\"showlegend\":true,\"x\":[5],\"xaxis\":\"x\",\"y\":[\"Data Science Manager\"],\"yaxis\":\"y\",\"type\":\"scatter\"},{\"hovertemplate\":\"Job Title=%{y}\\u003cbr\\u003eFrequency=%{marker.size}\\u003cextra\\u003e\\u003c\\u002fextra\\u003e\",\"legendgroup\":\"Principal Data Scientist\",\"marker\":{\"color\":\"#EF553B\",\"size\":[5],\"sizemode\":\"area\",\"sizeref\":0.01638888888888889,\"symbol\":\"circle\"},\"mode\":\"markers\",\"name\":\"Principal Data Scientist\",\"orientation\":\"h\",\"showlegend\":true,\"x\":[5],\"xaxis\":\"x\",\"y\":[\"Principal Data Scientist\"],\"yaxis\":\"y\",\"type\":\"scatter\"},{\"hovertemplate\":\"Job Title=%{y}\\u003cbr\\u003eFrequency=%{marker.size}\\u003cextra\\u003e\\u003c\\u002fextra\\u003e\",\"legendgroup\":\"Machine Learning Scientist\",\"marker\":{\"color\":\"#00cc96\",\"size\":[4],\"sizemode\":\"area\",\"sizeref\":0.01638888888888889,\"symbol\":\"circle\"},\"mode\":\"markers\",\"name\":\"Machine Learning Scientist\",\"orientation\":\"h\",\"showlegend\":true,\"x\":[4],\"xaxis\":\"x\",\"y\":[\"Machine Learning Scientist\"],\"yaxis\":\"y\",\"type\":\"scatter\"},{\"hovertemplate\":\"Job Title=%{y}\\u003cbr\\u003eFrequency=%{marker.size}\\u003cextra\\u003e\\u003c\\u002fextra\\u003e\",\"legendgroup\":\"Director of Data Science\",\"marker\":{\"color\":\"#ab63fa\",\"size\":[4],\"sizemode\":\"area\",\"sizeref\":0.01638888888888889,\"symbol\":\"circle\"},\"mode\":\"markers\",\"name\":\"Director of Data Science\",\"orientation\":\"h\",\"showlegend\":true,\"x\":[4],\"xaxis\":\"x\",\"y\":[\"Director of Data Science\"],\"yaxis\":\"y\",\"type\":\"scatter\"},{\"hovertemplate\":\"Job Title=%{y}\\u003cbr\\u003eFrequency=%{marker.size}\\u003cextra\\u003e\\u003c\\u002fextra\\u003e\",\"legendgroup\":\"Data Analytics Engineer\",\"marker\":{\"color\":\"#FFA15A\",\"size\":[3],\"sizemode\":\"area\",\"sizeref\":0.01638888888888889,\"symbol\":\"circle\"},\"mode\":\"markers\",\"name\":\"Data Analytics Engineer\",\"orientation\":\"h\",\"showlegend\":true,\"x\":[3],\"xaxis\":\"x\",\"y\":[\"Data Analytics Engineer\"],\"yaxis\":\"y\",\"type\":\"scatter\"},{\"hovertemplate\":\"Job Title=%{y}\\u003cbr\\u003eFrequency=%{marker.size}\\u003cextra\\u003e\\u003c\\u002fextra\\u003e\",\"legendgroup\":\"Data Analytics Manager\",\"marker\":{\"color\":\"#19d3f3\",\"size\":[3],\"sizemode\":\"area\",\"sizeref\":0.01638888888888889,\"symbol\":\"circle\"},\"mode\":\"markers\",\"name\":\"Data Analytics Manager\",\"orientation\":\"h\",\"showlegend\":true,\"x\":[3],\"xaxis\":\"x\",\"y\":[\"Data Analytics Manager\"],\"yaxis\":\"y\",\"type\":\"scatter\"},{\"hovertemplate\":\"Job Title=%{y}\\u003cbr\\u003eFrequency=%{marker.size}\\u003cextra\\u003e\\u003c\\u002fextra\\u003e\",\"legendgroup\":\"Lead Data Analyst\",\"marker\":{\"color\":\"#FF6692\",\"size\":[3],\"sizemode\":\"area\",\"sizeref\":0.01638888888888889,\"symbol\":\"circle\"},\"mode\":\"markers\",\"name\":\"Lead Data Analyst\",\"orientation\":\"h\",\"showlegend\":true,\"x\":[3],\"xaxis\":\"x\",\"y\":[\"Lead Data Analyst\"],\"yaxis\":\"y\",\"type\":\"scatter\"},{\"hovertemplate\":\"Job Title=%{y}\\u003cbr\\u003eFrequency=%{marker.size}\\u003cextra\\u003e\\u003c\\u002fextra\\u003e\",\"legendgroup\":\"ML Engineer\",\"marker\":{\"color\":\"#B6E880\",\"size\":[3],\"sizemode\":\"area\",\"sizeref\":0.01638888888888889,\"symbol\":\"circle\"},\"mode\":\"markers\",\"name\":\"ML Engineer\",\"orientation\":\"h\",\"showlegend\":true,\"x\":[3],\"xaxis\":\"x\",\"y\":[\"ML Engineer\"],\"yaxis\":\"y\",\"type\":\"scatter\"},{\"hovertemplate\":\"Job Title=%{y}\\u003cbr\\u003eFrequency=%{marker.size}\\u003cextra\\u003e\\u003c\\u002fextra\\u003e\",\"legendgroup\":\"Computer Vision Engineer\",\"marker\":{\"color\":\"#FF97FF\",\"size\":[3],\"sizemode\":\"area\",\"sizeref\":0.01638888888888889,\"symbol\":\"circle\"},\"mode\":\"markers\",\"name\":\"Computer Vision Engineer\",\"orientation\":\"h\",\"showlegend\":true,\"x\":[3],\"xaxis\":\"x\",\"y\":[\"Computer Vision Engineer\"],\"yaxis\":\"y\",\"type\":\"scatter\"},{\"hovertemplate\":\"Job Title=%{y}\\u003cbr\\u003eFrequency=%{marker.size}\\u003cextra\\u003e\\u003c\\u002fextra\\u003e\",\"legendgroup\":\"Business Data Analyst\",\"marker\":{\"color\":\"#FECB52\",\"size\":[3],\"sizemode\":\"area\",\"sizeref\":0.01638888888888889,\"symbol\":\"circle\"},\"mode\":\"markers\",\"name\":\"Business Data Analyst\",\"orientation\":\"h\",\"showlegend\":true,\"x\":[3],\"xaxis\":\"x\",\"y\":[\"Business Data Analyst\"],\"yaxis\":\"y\",\"type\":\"scatter\"},{\"hovertemplate\":\"Job Title=%{y}\\u003cbr\\u003eFrequency=%{marker.size}\\u003cextra\\u003e\\u003c\\u002fextra\\u003e\",\"legendgroup\":\"Data Engineering Manager\",\"marker\":{\"color\":\"#636efa\",\"size\":[3],\"sizemode\":\"area\",\"sizeref\":0.01638888888888889,\"symbol\":\"circle\"},\"mode\":\"markers\",\"name\":\"Data Engineering Manager\",\"orientation\":\"h\",\"showlegend\":true,\"x\":[3],\"xaxis\":\"x\",\"y\":[\"Data Engineering Manager\"],\"yaxis\":\"y\",\"type\":\"scatter\"},{\"hovertemplate\":\"Job Title=%{y}\\u003cbr\\u003eFrequency=%{marker.size}\\u003cextra\\u003e\\u003c\\u002fextra\\u003e\",\"legendgroup\":\"Head of Data\",\"marker\":{\"color\":\"#EF553B\",\"size\":[2],\"sizemode\":\"area\",\"sizeref\":0.01638888888888889,\"symbol\":\"circle\"},\"mode\":\"markers\",\"name\":\"Head of Data\",\"orientation\":\"h\",\"showlegend\":true,\"x\":[2],\"xaxis\":\"x\",\"y\":[\"Head of Data\"],\"yaxis\":\"y\",\"type\":\"scatter\"},{\"hovertemplate\":\"Job Title=%{y}\\u003cbr\\u003eFrequency=%{marker.size}\\u003cextra\\u003e\\u003c\\u002fextra\\u003e\",\"legendgroup\":\"Head of Data Science\",\"marker\":{\"color\":\"#00cc96\",\"size\":[2],\"sizemode\":\"area\",\"sizeref\":0.01638888888888889,\"symbol\":\"circle\"},\"mode\":\"markers\",\"name\":\"Head of Data Science\",\"orientation\":\"h\",\"showlegend\":true,\"x\":[2],\"xaxis\":\"x\",\"y\":[\"Head of Data Science\"],\"yaxis\":\"y\",\"type\":\"scatter\"},{\"hovertemplate\":\"Job Title=%{y}\\u003cbr\\u003eFrequency=%{marker.size}\\u003cextra\\u003e\\u003c\\u002fextra\\u003e\",\"legendgroup\":\"Machine Learning Infrastructure Engineer\",\"marker\":{\"color\":\"#ab63fa\",\"size\":[2],\"sizemode\":\"area\",\"sizeref\":0.01638888888888889,\"symbol\":\"circle\"},\"mode\":\"markers\",\"name\":\"Machine Learning Infrastructure Engineer\",\"orientation\":\"h\",\"showlegend\":true,\"x\":[2],\"xaxis\":\"x\",\"y\":[\"Machine Learning Infrastructure Engineer\"],\"yaxis\":\"y\",\"type\":\"scatter\"},{\"hovertemplate\":\"Job Title=%{y}\\u003cbr\\u003eFrequency=%{marker.size}\\u003cextra\\u003e\\u003c\\u002fextra\\u003e\",\"legendgroup\":\"Data Science Engineer\",\"marker\":{\"color\":\"#FFA15A\",\"size\":[2],\"sizemode\":\"area\",\"sizeref\":0.01638888888888889,\"symbol\":\"circle\"},\"mode\":\"markers\",\"name\":\"Data Science Engineer\",\"orientation\":\"h\",\"showlegend\":true,\"x\":[2],\"xaxis\":\"x\",\"y\":[\"Data Science Engineer\"],\"yaxis\":\"y\",\"type\":\"scatter\"},{\"hovertemplate\":\"Job Title=%{y}\\u003cbr\\u003eFrequency=%{marker.size}\\u003cextra\\u003e\\u003c\\u002fextra\\u003e\",\"legendgroup\":\"Computer Vision Software Engineer\",\"marker\":{\"color\":\"#19d3f3\",\"size\":[2],\"sizemode\":\"area\",\"sizeref\":0.01638888888888889,\"symbol\":\"circle\"},\"mode\":\"markers\",\"name\":\"Computer Vision Software Engineer\",\"orientation\":\"h\",\"showlegend\":true,\"x\":[2],\"xaxis\":\"x\",\"y\":[\"Computer Vision Software Engineer\"],\"yaxis\":\"y\",\"type\":\"scatter\"},{\"hovertemplate\":\"Job Title=%{y}\\u003cbr\\u003eFrequency=%{marker.size}\\u003cextra\\u003e\\u003c\\u002fextra\\u003e\",\"legendgroup\":\"Director of Data Engineering\",\"marker\":{\"color\":\"#FF6692\",\"size\":[2],\"sizemode\":\"area\",\"sizeref\":0.01638888888888889,\"symbol\":\"circle\"},\"mode\":\"markers\",\"name\":\"Director of Data Engineering\",\"orientation\":\"h\",\"showlegend\":true,\"x\":[2],\"xaxis\":\"x\",\"y\":[\"Director of Data Engineering\"],\"yaxis\":\"y\",\"type\":\"scatter\"},{\"hovertemplate\":\"Job Title=%{y}\\u003cbr\\u003eFrequency=%{marker.size}\\u003cextra\\u003e\\u003c\\u002fextra\\u003e\",\"legendgroup\":\"Cloud Data Engineer\",\"marker\":{\"color\":\"#B6E880\",\"size\":[2],\"sizemode\":\"area\",\"sizeref\":0.01638888888888889,\"symbol\":\"circle\"},\"mode\":\"markers\",\"name\":\"Cloud Data Engineer\",\"orientation\":\"h\",\"showlegend\":true,\"x\":[2],\"xaxis\":\"x\",\"y\":[\"Cloud Data Engineer\"],\"yaxis\":\"y\",\"type\":\"scatter\"},{\"hovertemplate\":\"Job Title=%{y}\\u003cbr\\u003eFrequency=%{marker.size}\\u003cextra\\u003e\\u003c\\u002fextra\\u003e\",\"legendgroup\":\"Principal Data Engineer\",\"marker\":{\"color\":\"#FF97FF\",\"size\":[2],\"sizemode\":\"area\",\"sizeref\":0.01638888888888889,\"symbol\":\"circle\"},\"mode\":\"markers\",\"name\":\"Principal Data Engineer\",\"orientation\":\"h\",\"showlegend\":true,\"x\":[2],\"xaxis\":\"x\",\"y\":[\"Principal Data Engineer\"],\"yaxis\":\"y\",\"type\":\"scatter\"},{\"hovertemplate\":\"Job Title=%{y}\\u003cbr\\u003eFrequency=%{marker.size}\\u003cextra\\u003e\\u003c\\u002fextra\\u003e\",\"legendgroup\":\"Lead Data Scientist\",\"marker\":{\"color\":\"#FECB52\",\"size\":[2],\"sizemode\":\"area\",\"sizeref\":0.01638888888888889,\"symbol\":\"circle\"},\"mode\":\"markers\",\"name\":\"Lead Data Scientist\",\"orientation\":\"h\",\"showlegend\":true,\"x\":[2],\"xaxis\":\"x\",\"y\":[\"Lead Data Scientist\"],\"yaxis\":\"y\",\"type\":\"scatter\"},{\"hovertemplate\":\"Job Title=%{y}\\u003cbr\\u003eFrequency=%{marker.size}\\u003cextra\\u003e\\u003c\\u002fextra\\u003e\",\"legendgroup\":\"Manager Data Science\",\"marker\":{\"color\":\"#636efa\",\"size\":[1],\"sizemode\":\"area\",\"sizeref\":0.01638888888888889,\"symbol\":\"circle\"},\"mode\":\"markers\",\"name\":\"Manager Data Science\",\"orientation\":\"h\",\"showlegend\":true,\"x\":[1],\"xaxis\":\"x\",\"y\":[\"Manager Data Science\"],\"yaxis\":\"y\",\"type\":\"scatter\"},{\"hovertemplate\":\"Job Title=%{y}\\u003cbr\\u003eFrequency=%{marker.size}\\u003cextra\\u003e\\u003c\\u002fextra\\u003e\",\"legendgroup\":\"Financial Data Analyst\",\"marker\":{\"color\":\"#EF553B\",\"size\":[1],\"sizemode\":\"area\",\"sizeref\":0.01638888888888889,\"symbol\":\"circle\"},\"mode\":\"markers\",\"name\":\"Financial Data Analyst\",\"orientation\":\"h\",\"showlegend\":true,\"x\":[1],\"xaxis\":\"x\",\"y\":[\"Financial Data Analyst\"],\"yaxis\":\"y\",\"type\":\"scatter\"},{\"hovertemplate\":\"Job Title=%{y}\\u003cbr\\u003eFrequency=%{marker.size}\\u003cextra\\u003e\\u003c\\u002fextra\\u003e\",\"legendgroup\":\"Marketing Data Analyst\",\"marker\":{\"color\":\"#00cc96\",\"size\":[1],\"sizemode\":\"area\",\"sizeref\":0.01638888888888889,\"symbol\":\"circle\"},\"mode\":\"markers\",\"name\":\"Marketing Data Analyst\",\"orientation\":\"h\",\"showlegend\":true,\"x\":[1],\"xaxis\":\"x\",\"y\":[\"Marketing Data Analyst\"],\"yaxis\":\"y\",\"type\":\"scatter\"},{\"hovertemplate\":\"Job Title=%{y}\\u003cbr\\u003eFrequency=%{marker.size}\\u003cextra\\u003e\\u003c\\u002fextra\\u003e\",\"legendgroup\":\"3D Computer Vision Researcher\",\"marker\":{\"color\":\"#ab63fa\",\"size\":[1],\"sizemode\":\"area\",\"sizeref\":0.01638888888888889,\"symbol\":\"circle\"},\"mode\":\"markers\",\"name\":\"3D Computer Vision Researcher\",\"orientation\":\"h\",\"showlegend\":true,\"x\":[1],\"xaxis\":\"x\",\"y\":[\"3D Computer Vision Researcher\"],\"yaxis\":\"y\",\"type\":\"scatter\"},{\"hovertemplate\":\"Job Title=%{y}\\u003cbr\\u003eFrequency=%{marker.size}\\u003cextra\\u003e\\u003c\\u002fextra\\u003e\",\"legendgroup\":\"Applied Data Scientist\",\"marker\":{\"color\":\"#FFA15A\",\"size\":[1],\"sizemode\":\"area\",\"sizeref\":0.01638888888888889,\"symbol\":\"circle\"},\"mode\":\"markers\",\"name\":\"Applied Data Scientist\",\"orientation\":\"h\",\"showlegend\":true,\"x\":[1],\"xaxis\":\"x\",\"y\":[\"Applied Data Scientist\"],\"yaxis\":\"y\",\"type\":\"scatter\"},{\"hovertemplate\":\"Job Title=%{y}\\u003cbr\\u003eFrequency=%{marker.size}\\u003cextra\\u003e\\u003c\\u002fextra\\u003e\",\"legendgroup\":\"Staff Data Scientist\",\"marker\":{\"color\":\"#19d3f3\",\"size\":[1],\"sizemode\":\"area\",\"sizeref\":0.01638888888888889,\"symbol\":\"circle\"},\"mode\":\"markers\",\"name\":\"Staff Data Scientist\",\"orientation\":\"h\",\"showlegend\":true,\"x\":[1],\"xaxis\":\"x\",\"y\":[\"Staff Data Scientist\"],\"yaxis\":\"y\",\"type\":\"scatter\"},{\"hovertemplate\":\"Job Title=%{y}\\u003cbr\\u003eFrequency=%{marker.size}\\u003cextra\\u003e\\u003c\\u002fextra\\u003e\",\"legendgroup\":\"Data Architect\",\"marker\":{\"color\":\"#FF6692\",\"size\":[1],\"sizemode\":\"area\",\"sizeref\":0.01638888888888889,\"symbol\":\"circle\"},\"mode\":\"markers\",\"name\":\"Data Architect\",\"orientation\":\"h\",\"showlegend\":true,\"x\":[1],\"xaxis\":\"x\",\"y\":[\"Data Architect\"],\"yaxis\":\"y\",\"type\":\"scatter\"},{\"hovertemplate\":\"Job Title=%{y}\\u003cbr\\u003eFrequency=%{marker.size}\\u003cextra\\u003e\\u003c\\u002fextra\\u003e\",\"legendgroup\":\"Principal Data Analyst\",\"marker\":{\"color\":\"#B6E880\",\"size\":[1],\"sizemode\":\"area\",\"sizeref\":0.01638888888888889,\"symbol\":\"circle\"},\"mode\":\"markers\",\"name\":\"Principal Data Analyst\",\"orientation\":\"h\",\"showlegend\":true,\"x\":[1],\"xaxis\":\"x\",\"y\":[\"Principal Data Analyst\"],\"yaxis\":\"y\",\"type\":\"scatter\"},{\"hovertemplate\":\"Job Title=%{y}\\u003cbr\\u003eFrequency=%{marker.size}\\u003cextra\\u003e\\u003c\\u002fextra\\u003e\",\"legendgroup\":\"Big Data Architect\",\"marker\":{\"color\":\"#FF97FF\",\"size\":[1],\"sizemode\":\"area\",\"sizeref\":0.01638888888888889,\"symbol\":\"circle\"},\"mode\":\"markers\",\"name\":\"Big Data Architect\",\"orientation\":\"h\",\"showlegend\":true,\"x\":[1],\"xaxis\":\"x\",\"y\":[\"Big Data Architect\"],\"yaxis\":\"y\",\"type\":\"scatter\"},{\"hovertemplate\":\"Job Title=%{y}\\u003cbr\\u003eFrequency=%{marker.size}\\u003cextra\\u003e\\u003c\\u002fextra\\u003e\",\"legendgroup\":\"Product Data Analyst\",\"marker\":{\"color\":\"#FECB52\",\"size\":[1],\"sizemode\":\"area\",\"sizeref\":0.01638888888888889,\"symbol\":\"circle\"},\"mode\":\"markers\",\"name\":\"Product Data Analyst\",\"orientation\":\"h\",\"showlegend\":true,\"x\":[1],\"xaxis\":\"x\",\"y\":[\"Product Data Analyst\"],\"yaxis\":\"y\",\"type\":\"scatter\"},{\"hovertemplate\":\"Job Title=%{y}\\u003cbr\\u003eFrequency=%{marker.size}\\u003cextra\\u003e\\u003c\\u002fextra\\u003e\",\"legendgroup\":\"Finance Data Analyst\",\"marker\":{\"color\":\"#636efa\",\"size\":[1],\"sizemode\":\"area\",\"sizeref\":0.01638888888888889,\"symbol\":\"circle\"},\"mode\":\"markers\",\"name\":\"Finance Data Analyst\",\"orientation\":\"h\",\"showlegend\":true,\"x\":[1],\"xaxis\":\"x\",\"y\":[\"Finance Data Analyst\"],\"yaxis\":\"y\",\"type\":\"scatter\"},{\"hovertemplate\":\"Job Title=%{y}\\u003cbr\\u003eFrequency=%{marker.size}\\u003cextra\\u003e\\u003c\\u002fextra\\u003e\",\"legendgroup\":\"Applied Machine Learning Scientist\",\"marker\":{\"color\":\"#EF553B\",\"size\":[1],\"sizemode\":\"area\",\"sizeref\":0.01638888888888889,\"symbol\":\"circle\"},\"mode\":\"markers\",\"name\":\"Applied Machine Learning Scientist\",\"orientation\":\"h\",\"showlegend\":true,\"x\":[1],\"xaxis\":\"x\",\"y\":[\"Applied Machine Learning Scientist\"],\"yaxis\":\"y\",\"type\":\"scatter\"},{\"hovertemplate\":\"Job Title=%{y}\\u003cbr\\u003eFrequency=%{marker.size}\\u003cextra\\u003e\\u003c\\u002fextra\\u003e\",\"legendgroup\":\"Data Specialist\",\"marker\":{\"color\":\"#00cc96\",\"size\":[1],\"sizemode\":\"area\",\"sizeref\":0.01638888888888889,\"symbol\":\"circle\"},\"mode\":\"markers\",\"name\":\"Data Specialist\",\"orientation\":\"h\",\"showlegend\":true,\"x\":[1],\"xaxis\":\"x\",\"y\":[\"Data Specialist\"],\"yaxis\":\"y\",\"type\":\"scatter\"}],                        {\"template\":{\"data\":{\"histogram2dcontour\":[{\"type\":\"histogram2dcontour\",\"colorbar\":{\"outlinewidth\":0,\"ticks\":\"\"},\"colorscale\":[[0.0,\"#0d0887\"],[0.1111111111111111,\"#46039f\"],[0.2222222222222222,\"#7201a8\"],[0.3333333333333333,\"#9c179e\"],[0.4444444444444444,\"#bd3786\"],[0.5555555555555556,\"#d8576b\"],[0.6666666666666666,\"#ed7953\"],[0.7777777777777778,\"#fb9f3a\"],[0.8888888888888888,\"#fdca26\"],[1.0,\"#f0f921\"]]}],\"choropleth\":[{\"type\":\"choropleth\",\"colorbar\":{\"outlinewidth\":0,\"ticks\":\"\"}}],\"histogram2d\":[{\"type\":\"histogram2d\",\"colorbar\":{\"outlinewidth\":0,\"ticks\":\"\"},\"colorscale\":[[0.0,\"#0d0887\"],[0.1111111111111111,\"#46039f\"],[0.2222222222222222,\"#7201a8\"],[0.3333333333333333,\"#9c179e\"],[0.4444444444444444,\"#bd3786\"],[0.5555555555555556,\"#d8576b\"],[0.6666666666666666,\"#ed7953\"],[0.7777777777777778,\"#fb9f3a\"],[0.8888888888888888,\"#fdca26\"],[1.0,\"#f0f921\"]]}],\"heatmap\":[{\"type\":\"heatmap\",\"colorbar\":{\"outlinewidth\":0,\"ticks\":\"\"},\"colorscale\":[[0.0,\"#0d0887\"],[0.1111111111111111,\"#46039f\"],[0.2222222222222222,\"#7201a8\"],[0.3333333333333333,\"#9c179e\"],[0.4444444444444444,\"#bd3786\"],[0.5555555555555556,\"#d8576b\"],[0.6666666666666666,\"#ed7953\"],[0.7777777777777778,\"#fb9f3a\"],[0.8888888888888888,\"#fdca26\"],[1.0,\"#f0f921\"]]}],\"heatmapgl\":[{\"type\":\"heatmapgl\",\"colorbar\":{\"outlinewidth\":0,\"ticks\":\"\"},\"colorscale\":[[0.0,\"#0d0887\"],[0.1111111111111111,\"#46039f\"],[0.2222222222222222,\"#7201a8\"],[0.3333333333333333,\"#9c179e\"],[0.4444444444444444,\"#bd3786\"],[0.5555555555555556,\"#d8576b\"],[0.6666666666666666,\"#ed7953\"],[0.7777777777777778,\"#fb9f3a\"],[0.8888888888888888,\"#fdca26\"],[1.0,\"#f0f921\"]]}],\"contourcarpet\":[{\"type\":\"contourcarpet\",\"colorbar\":{\"outlinewidth\":0,\"ticks\":\"\"}}],\"contour\":[{\"type\":\"contour\",\"colorbar\":{\"outlinewidth\":0,\"ticks\":\"\"},\"colorscale\":[[0.0,\"#0d0887\"],[0.1111111111111111,\"#46039f\"],[0.2222222222222222,\"#7201a8\"],[0.3333333333333333,\"#9c179e\"],[0.4444444444444444,\"#bd3786\"],[0.5555555555555556,\"#d8576b\"],[0.6666666666666666,\"#ed7953\"],[0.7777777777777778,\"#fb9f3a\"],[0.8888888888888888,\"#fdca26\"],[1.0,\"#f0f921\"]]}],\"surface\":[{\"type\":\"surface\",\"colorbar\":{\"outlinewidth\":0,\"ticks\":\"\"},\"colorscale\":[[0.0,\"#0d0887\"],[0.1111111111111111,\"#46039f\"],[0.2222222222222222,\"#7201a8\"],[0.3333333333333333,\"#9c179e\"],[0.4444444444444444,\"#bd3786\"],[0.5555555555555556,\"#d8576b\"],[0.6666666666666666,\"#ed7953\"],[0.7777777777777778,\"#fb9f3a\"],[0.8888888888888888,\"#fdca26\"],[1.0,\"#f0f921\"]]}],\"mesh3d\":[{\"type\":\"mesh3d\",\"colorbar\":{\"outlinewidth\":0,\"ticks\":\"\"}}],\"scatter\":[{\"fillpattern\":{\"fillmode\":\"overlay\",\"size\":10,\"solidity\":0.2},\"type\":\"scatter\"}],\"parcoords\":[{\"type\":\"parcoords\",\"line\":{\"colorbar\":{\"outlinewidth\":0,\"ticks\":\"\"}}}],\"scatterpolargl\":[{\"type\":\"scatterpolargl\",\"marker\":{\"colorbar\":{\"outlinewidth\":0,\"ticks\":\"\"}}}],\"bar\":[{\"error_x\":{\"color\":\"#2a3f5f\"},\"error_y\":{\"color\":\"#2a3f5f\"},\"marker\":{\"line\":{\"color\":\"#E5ECF6\",\"width\":0.5},\"pattern\":{\"fillmode\":\"overlay\",\"size\":10,\"solidity\":0.2}},\"type\":\"bar\"}],\"scattergeo\":[{\"type\":\"scattergeo\",\"marker\":{\"colorbar\":{\"outlinewidth\":0,\"ticks\":\"\"}}}],\"scatterpolar\":[{\"type\":\"scatterpolar\",\"marker\":{\"colorbar\":{\"outlinewidth\":0,\"ticks\":\"\"}}}],\"histogram\":[{\"marker\":{\"pattern\":{\"fillmode\":\"overlay\",\"size\":10,\"solidity\":0.2}},\"type\":\"histogram\"}],\"scattergl\":[{\"type\":\"scattergl\",\"marker\":{\"colorbar\":{\"outlinewidth\":0,\"ticks\":\"\"}}}],\"scatter3d\":[{\"type\":\"scatter3d\",\"line\":{\"colorbar\":{\"outlinewidth\":0,\"ticks\":\"\"}},\"marker\":{\"colorbar\":{\"outlinewidth\":0,\"ticks\":\"\"}}}],\"scattermapbox\":[{\"type\":\"scattermapbox\",\"marker\":{\"colorbar\":{\"outlinewidth\":0,\"ticks\":\"\"}}}],\"scatterternary\":[{\"type\":\"scatterternary\",\"marker\":{\"colorbar\":{\"outlinewidth\":0,\"ticks\":\"\"}}}],\"scattercarpet\":[{\"type\":\"scattercarpet\",\"marker\":{\"colorbar\":{\"outlinewidth\":0,\"ticks\":\"\"}}}],\"carpet\":[{\"aaxis\":{\"endlinecolor\":\"#2a3f5f\",\"gridcolor\":\"white\",\"linecolor\":\"white\",\"minorgridcolor\":\"white\",\"startlinecolor\":\"#2a3f5f\"},\"baxis\":{\"endlinecolor\":\"#2a3f5f\",\"gridcolor\":\"white\",\"linecolor\":\"white\",\"minorgridcolor\":\"white\",\"startlinecolor\":\"#2a3f5f\"},\"type\":\"carpet\"}],\"table\":[{\"cells\":{\"fill\":{\"color\":\"#EBF0F8\"},\"line\":{\"color\":\"white\"}},\"header\":{\"fill\":{\"color\":\"#C8D4E3\"},\"line\":{\"color\":\"white\"}},\"type\":\"table\"}],\"barpolar\":[{\"marker\":{\"line\":{\"color\":\"#E5ECF6\",\"width\":0.5},\"pattern\":{\"fillmode\":\"overlay\",\"size\":10,\"solidity\":0.2}},\"type\":\"barpolar\"}],\"pie\":[{\"automargin\":true,\"type\":\"pie\"}]},\"layout\":{\"autotypenumbers\":\"strict\",\"colorway\":[\"#636efa\",\"#EF553B\",\"#00cc96\",\"#ab63fa\",\"#FFA15A\",\"#19d3f3\",\"#FF6692\",\"#B6E880\",\"#FF97FF\",\"#FECB52\"],\"font\":{\"color\":\"#2a3f5f\"},\"hovermode\":\"closest\",\"hoverlabel\":{\"align\":\"left\"},\"paper_bgcolor\":\"white\",\"plot_bgcolor\":\"#E5ECF6\",\"polar\":{\"bgcolor\":\"#E5ECF6\",\"angularaxis\":{\"gridcolor\":\"white\",\"linecolor\":\"white\",\"ticks\":\"\"},\"radialaxis\":{\"gridcolor\":\"white\",\"linecolor\":\"white\",\"ticks\":\"\"}},\"ternary\":{\"bgcolor\":\"#E5ECF6\",\"aaxis\":{\"gridcolor\":\"white\",\"linecolor\":\"white\",\"ticks\":\"\"},\"baxis\":{\"gridcolor\":\"white\",\"linecolor\":\"white\",\"ticks\":\"\"},\"caxis\":{\"gridcolor\":\"white\",\"linecolor\":\"white\",\"ticks\":\"\"}},\"coloraxis\":{\"colorbar\":{\"outlinewidth\":0,\"ticks\":\"\"}},\"colorscale\":{\"sequential\":[[0.0,\"#0d0887\"],[0.1111111111111111,\"#46039f\"],[0.2222222222222222,\"#7201a8\"],[0.3333333333333333,\"#9c179e\"],[0.4444444444444444,\"#bd3786\"],[0.5555555555555556,\"#d8576b\"],[0.6666666666666666,\"#ed7953\"],[0.7777777777777778,\"#fb9f3a\"],[0.8888888888888888,\"#fdca26\"],[1.0,\"#f0f921\"]],\"sequentialminus\":[[0.0,\"#0d0887\"],[0.1111111111111111,\"#46039f\"],[0.2222222222222222,\"#7201a8\"],[0.3333333333333333,\"#9c179e\"],[0.4444444444444444,\"#bd3786\"],[0.5555555555555556,\"#d8576b\"],[0.6666666666666666,\"#ed7953\"],[0.7777777777777778,\"#fb9f3a\"],[0.8888888888888888,\"#fdca26\"],[1.0,\"#f0f921\"]],\"diverging\":[[0,\"#8e0152\"],[0.1,\"#c51b7d\"],[0.2,\"#de77ae\"],[0.3,\"#f1b6da\"],[0.4,\"#fde0ef\"],[0.5,\"#f7f7f7\"],[0.6,\"#e6f5d0\"],[0.7,\"#b8e186\"],[0.8,\"#7fbc41\"],[0.9,\"#4d9221\"],[1,\"#276419\"]]},\"xaxis\":{\"gridcolor\":\"white\",\"linecolor\":\"white\",\"ticks\":\"\",\"title\":{\"standoff\":15},\"zerolinecolor\":\"white\",\"automargin\":true,\"zerolinewidth\":2},\"yaxis\":{\"gridcolor\":\"white\",\"linecolor\":\"white\",\"ticks\":\"\",\"title\":{\"standoff\":15},\"zerolinecolor\":\"white\",\"automargin\":true,\"zerolinewidth\":2},\"scene\":{\"xaxis\":{\"backgroundcolor\":\"#E5ECF6\",\"gridcolor\":\"white\",\"linecolor\":\"white\",\"showbackground\":true,\"ticks\":\"\",\"zerolinecolor\":\"white\",\"gridwidth\":2},\"yaxis\":{\"backgroundcolor\":\"#E5ECF6\",\"gridcolor\":\"white\",\"linecolor\":\"white\",\"showbackground\":true,\"ticks\":\"\",\"zerolinecolor\":\"white\",\"gridwidth\":2},\"zaxis\":{\"backgroundcolor\":\"#E5ECF6\",\"gridcolor\":\"white\",\"linecolor\":\"white\",\"showbackground\":true,\"ticks\":\"\",\"zerolinecolor\":\"white\",\"gridwidth\":2}},\"shapedefaults\":{\"line\":{\"color\":\"#2a3f5f\"}},\"annotationdefaults\":{\"arrowcolor\":\"#2a3f5f\",\"arrowhead\":0,\"arrowwidth\":1},\"geo\":{\"bgcolor\":\"white\",\"landcolor\":\"#E5ECF6\",\"subunitcolor\":\"white\",\"showland\":true,\"showlakes\":true,\"lakecolor\":\"white\"},\"title\":{\"x\":0.05},\"mapbox\":{\"style\":\"light\"}}},\"xaxis\":{\"anchor\":\"y\",\"domain\":[0.0,1.0],\"title\":{\"text\":\"Frequency\"}},\"yaxis\":{\"anchor\":\"x\",\"domain\":[0.0,1.0],\"title\":{\"text\":\"Job Title\"},\"categoryorder\":\"array\",\"categoryarray\":[\"Data Specialist\",\"Applied Machine Learning Scientist\",\"Finance Data Analyst\",\"Product Data Analyst\",\"Big Data Architect\",\"Principal Data Analyst\",\"Data Architect\",\"Staff Data Scientist\",\"Applied Data Scientist\",\"3D Computer Vision Researcher\",\"Marketing Data Analyst\",\"Financial Data Analyst\",\"Manager Data Science\",\"Lead Data Scientist\",\"Principal Data Engineer\",\"Cloud Data Engineer\",\"Director of Data Engineering\",\"Computer Vision Software Engineer\",\"Data Science Engineer\",\"Machine Learning Infrastructure Engineer\",\"Head of Data Science\",\"Head of Data\",\"Data Engineering Manager\",\"Business Data Analyst\",\"Computer Vision Engineer\",\"ML Engineer\",\"Lead Data Analyst\",\"Data Analytics Manager\",\"Data Analytics Engineer\",\"Director of Data Science\",\"Machine Learning Scientist\",\"Principal Data Scientist\",\"Data Science Manager\",\"AI Scientist\",\"Lead Data Engineer\",\"BI Data Analyst\",\"Big Data Engineer\",\"Data Science Consultant\",\"Research Scientist\",\"Data Analyst\",\"Machine Learning Engineer\",\"Data Engineer\",\"Data Scientist\"]},\"legend\":{\"title\":{\"text\":\"Job Title\"},\"tracegroupgap\":0,\"itemsizing\":\"constant\"},\"title\":{\"text\":\"Most Common Job Titles by Frequency\"},\"height\":800},                        {\"responsive\": true}                    ).then(function(){\n                            \nvar gd = document.getElementById('fa603c0f-310e-4b72-8044-3acf3015ee49');\nvar x = new MutationObserver(function (mutations, observer) {{\n        var display = window.getComputedStyle(gd).display;\n        if (!display || display === 'none') {{\n            console.log([gd, 'removed!']);\n            Plotly.purge(gd);\n            observer.disconnect();\n        }}\n}});\n\n// Listen for the removal of the full notebook cells\nvar notebookContainer = gd.closest('#notebook-container');\nif (notebookContainer) {{\n    x.observe(notebookContainer, {childList: true});\n}}\n\n// Listen for the clearing of the current output cell\nvar outputEl = gd.closest('.output');\nif (outputEl) {{\n    x.observe(outputEl, {childList: true});\n}}\n\n                        })                };                });            </script>        </div>"
          },
          "metadata": {}
        }
      ]
    }
  ]
}